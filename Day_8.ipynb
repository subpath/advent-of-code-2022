{
 "cells": [
  {
   "cell_type": "markdown",
   "id": "c50d604d-13bb-489f-915c-971f11d9c37f",
   "metadata": {},
   "source": [
    "## --- Day 8: Treetop Tree House ---\n",
    "```\n",
    "The expedition comes across a peculiar patch of tall trees all planted carefully in a grid. The Elves explain that a previous expedition planted these trees as a reforestation effort. Now, they're curious if this would be a good location for a tree house.\n",
    "\n",
    "First, determine whether there is enough tree cover here to keep a tree house hidden. To do this, you need to count the number of trees that are visible from outside the grid when looking directly along a row or column.\n",
    "\n",
    "The Elves have already launched a quadcopter to generate a map with the height of each tree (your puzzle input). For example:\n",
    "\n",
    "30373\n",
    "25512\n",
    "65332\n",
    "33549\n",
    "35390\n",
    "\n",
    "Each tree is represented as a single digit whose value is its height, where 0 is the shortest and 9 is the tallest.\n",
    "\n",
    "A tree is visible if all of the other trees between it and an edge of the grid are shorter than it. Only consider trees in the same row or column; that is, only look up, down, left, or right from any given tree.\n",
    "\n",
    "All of the trees around the edge of the grid are visible - since they are already on the edge, there are no trees to block the view. In this example, that only leaves the interior nine trees to consider:\n",
    "\n",
    "    The top-left 5 is visible from the left and top. (It isn't visible from the right or bottom since other trees of height 5 are in the way.)\n",
    "    The top-middle 5 is visible from the top and right.\n",
    "    The top-right 1 is not visible from any direction; for it to be visible, there would need to only be trees of height 0 between it and an edge.\n",
    "    The left-middle 5 is visible, but only from the right.\n",
    "    The center 3 is not visible from any direction; for it to be visible, there would need to be only trees of at most height 2 between it and an edge.\n",
    "    The right-middle 3 is visible from the right.\n",
    "    In the bottom row, the middle 5 is visible, but the 3 and 4 are not.\n",
    "\n",
    "With 16 trees visible on the edge and another 5 visible in the interior, a total of 21 trees are visible in this arrangement.\n",
    "\n",
    "Consider your map; how many trees are visible from outside the grid?\n",
    "```"
   ]
  },
  {
   "cell_type": "code",
   "execution_count": 1,
   "id": "2b771f13-1a5c-4fac-a827-daf439868356",
   "metadata": {
    "execution": {
     "iopub.execute_input": "2022-12-08T06:56:55.855616Z",
     "iopub.status.busy": "2022-12-08T06:56:55.855223Z",
     "iopub.status.idle": "2022-12-08T06:56:55.867449Z",
     "shell.execute_reply": "2022-12-08T06:56:55.865905Z",
     "shell.execute_reply.started": "2022-12-08T06:56:55.855549Z"
    },
    "tags": []
   },
   "outputs": [],
   "source": [
    "from typing import List"
   ]
  },
  {
   "cell_type": "code",
   "execution_count": 2,
   "id": "e5be126d-125d-4d0a-aab5-57fe9d9d4d93",
   "metadata": {
    "execution": {
     "iopub.execute_input": "2022-12-08T06:56:55.869987Z",
     "iopub.status.busy": "2022-12-08T06:56:55.869571Z",
     "iopub.status.idle": "2022-12-08T06:56:55.875566Z",
     "shell.execute_reply": "2022-12-08T06:56:55.874508Z",
     "shell.execute_reply.started": "2022-12-08T06:56:55.869961Z"
    },
    "tags": []
   },
   "outputs": [],
   "source": [
    "with open(\"data/day_8.txt\", \"r\") as f:\n",
    "    grid = f.read().split(\"\\n\")\n",
    "\n",
    "rows = {i: list(row) for i, row in enumerate(grid)}"
   ]
  },
  {
   "cell_type": "code",
   "execution_count": 3,
   "id": "5be93e43-5b5b-49be-9949-8c2364d545f8",
   "metadata": {
    "execution": {
     "iopub.execute_input": "2022-12-08T06:56:56.672577Z",
     "iopub.status.busy": "2022-12-08T06:56:56.672244Z",
     "iopub.status.idle": "2022-12-08T06:56:56.678833Z",
     "shell.execute_reply": "2022-12-08T06:56:56.677165Z",
     "shell.execute_reply.started": "2022-12-08T06:56:56.672549Z"
    },
    "tags": []
   },
   "outputs": [],
   "source": [
    "def get_tree_from_grid(row: int, column: int) -> int:\n",
    "    return int(rows[row][column])\n",
    "\n",
    "\n",
    "assert get_tree_from_grid(0, 0) == 1\n",
    "assert get_tree_from_grid(1, 1) == 2\n",
    "assert get_tree_from_grid(5, 5) == 3"
   ]
  },
  {
   "cell_type": "code",
   "execution_count": 4,
   "id": "b19d2860-ac9c-4c15-9856-8ff7e13e52b3",
   "metadata": {
    "execution": {
     "iopub.execute_input": "2022-12-08T06:56:56.933833Z",
     "iopub.status.busy": "2022-12-08T06:56:56.933537Z",
     "iopub.status.idle": "2022-12-08T06:56:56.940882Z",
     "shell.execute_reply": "2022-12-08T06:56:56.939408Z",
     "shell.execute_reply.started": "2022-12-08T06:56:56.933808Z"
    },
    "tags": []
   },
   "outputs": [],
   "source": [
    "def get_trees_in_front(row: int, column: int):\n",
    "    trees_in_front = {\"above\": [], \"below\": [], \"left\": [], \"right\": []}\n",
    "    for row_ in range(row):\n",
    "        trees_in_front[\"above\"] = [get_tree_from_grid(row_, column)] + trees_in_front[\n",
    "            \"above\"\n",
    "        ]\n",
    "    for column_ in range(column):\n",
    "        trees_in_front[\"left\"] = [get_tree_from_grid(row, column_)] + trees_in_front[\n",
    "            \"left\"\n",
    "        ]\n",
    "    for row_ in range(row + 1, max(rows.keys()) + 1):\n",
    "        trees_in_front[\"below\"] = trees_in_front[\"below\"] + [\n",
    "            get_tree_from_grid(row_, column)\n",
    "        ]\n",
    "    for column_ in range(column + 1, len(rows[0])):\n",
    "        trees_in_front[\"right\"] = trees_in_front[\"right\"] + [\n",
    "            get_tree_from_grid(row, column_)\n",
    "        ]\n",
    "    return trees_in_front"
   ]
  },
  {
   "cell_type": "code",
   "execution_count": 5,
   "id": "de45d2be-24db-42be-8b54-809ab1374fef",
   "metadata": {
    "execution": {
     "iopub.execute_input": "2022-12-08T06:56:57.225378Z",
     "iopub.status.busy": "2022-12-08T06:56:57.224992Z",
     "iopub.status.idle": "2022-12-08T06:56:57.231457Z",
     "shell.execute_reply": "2022-12-08T06:56:57.230290Z",
     "shell.execute_reply.started": "2022-12-08T06:56:57.225346Z"
    },
    "tags": []
   },
   "outputs": [],
   "source": [
    "def is_visible(tree_hight: int, trees_in_front: List[int]):\n",
    "    return tree_hight > max(trees_in_front)\n",
    "\n",
    "\n",
    "assert is_visible(5, [0, 1, 2, 3, 4])\n",
    "assert not is_visible(5, [0, 1, 2, 3, 4, 5])\n",
    "assert not is_visible(5, [0, 1, 2, 3, 4, 9])"
   ]
  },
  {
   "cell_type": "code",
   "execution_count": 6,
   "id": "97b53b95-1d27-4760-8a84-3d17186173d3",
   "metadata": {
    "execution": {
     "iopub.execute_input": "2022-12-08T06:56:57.485838Z",
     "iopub.status.busy": "2022-12-08T06:56:57.485487Z",
     "iopub.status.idle": "2022-12-08T06:56:58.506467Z",
     "shell.execute_reply": "2022-12-08T06:56:58.505829Z",
     "shell.execute_reply.started": "2022-12-08T06:56:57.485808Z"
    },
    "tags": []
   },
   "outputs": [],
   "source": [
    "visible_trees_in_interior = 0\n",
    "for row in rows:\n",
    "    if row > 0 and row < max(rows.keys()):\n",
    "        for column, value in enumerate(rows[row]):\n",
    "            if column > 0 and column < len(rows[0]) - 1:\n",
    "                tree_height = get_tree_from_grid(row, column)\n",
    "                trees_in_front = get_trees_in_front(row, column)\n",
    "                visibility = []\n",
    "                for direction in [\"above\", \"below\", \"left\", \"right\"]:\n",
    "                    visibility.append(\n",
    "                        is_visible(tree_height, trees_in_front[direction])\n",
    "                    )\n",
    "                visible_trees_in_interior += 1 if sum(visibility) > 0 else 0"
   ]
  },
  {
   "cell_type": "code",
   "execution_count": 7,
   "id": "f03eff26-b98e-4bbd-b044-13de67c518c0",
   "metadata": {
    "execution": {
     "iopub.execute_input": "2022-12-08T06:56:58.508600Z",
     "iopub.status.busy": "2022-12-08T06:56:58.508142Z",
     "iopub.status.idle": "2022-12-08T06:56:58.512556Z",
     "shell.execute_reply": "2022-12-08T06:56:58.511683Z",
     "shell.execute_reply.started": "2022-12-08T06:56:58.508564Z"
    },
    "tags": []
   },
   "outputs": [],
   "source": [
    "visible_trees_from_perimeter = 2 * len(grid) + 2 * len(grid[0]) - 4"
   ]
  },
  {
   "cell_type": "code",
   "execution_count": 8,
   "id": "73a05603-ca68-447f-98d0-834cd75c9c33",
   "metadata": {
    "execution": {
     "iopub.execute_input": "2022-12-08T06:56:58.513880Z",
     "iopub.status.busy": "2022-12-08T06:56:58.513417Z",
     "iopub.status.idle": "2022-12-08T06:56:58.524002Z",
     "shell.execute_reply": "2022-12-08T06:56:58.523111Z",
     "shell.execute_reply.started": "2022-12-08T06:56:58.513851Z"
    },
    "tags": []
   },
   "outputs": [
    {
     "data": {
      "text/plain": [
       "392"
      ]
     },
     "execution_count": 8,
     "metadata": {},
     "output_type": "execute_result"
    }
   ],
   "source": [
    "visible_trees_from_perimeter"
   ]
  },
  {
   "cell_type": "code",
   "execution_count": 9,
   "id": "52bec01c-110b-4102-b623-686621017769",
   "metadata": {
    "execution": {
     "iopub.execute_input": "2022-12-08T06:56:59.852709Z",
     "iopub.status.busy": "2022-12-08T06:56:59.852380Z",
     "iopub.status.idle": "2022-12-08T06:56:59.858216Z",
     "shell.execute_reply": "2022-12-08T06:56:59.857301Z",
     "shell.execute_reply.started": "2022-12-08T06:56:59.852681Z"
    },
    "tags": []
   },
   "outputs": [
    {
     "data": {
      "text/plain": [
       "1298"
      ]
     },
     "execution_count": 9,
     "metadata": {},
     "output_type": "execute_result"
    }
   ],
   "source": [
    "visible_trees_in_interior"
   ]
  },
  {
   "cell_type": "code",
   "execution_count": 10,
   "id": "25cfc490-a137-495c-9e06-2f5fc0bda65c",
   "metadata": {
    "execution": {
     "iopub.execute_input": "2022-12-08T06:57:00.124177Z",
     "iopub.status.busy": "2022-12-08T06:57:00.123779Z",
     "iopub.status.idle": "2022-12-08T06:57:00.128598Z",
     "shell.execute_reply": "2022-12-08T06:57:00.127058Z",
     "shell.execute_reply.started": "2022-12-08T06:57:00.124151Z"
    },
    "tags": []
   },
   "outputs": [],
   "source": [
    "total_trees_visible_from_outside = (\n",
    "    visible_trees_from_perimeter + visible_trees_in_interior\n",
    ")"
   ]
  },
  {
   "cell_type": "code",
   "execution_count": 11,
   "id": "24dc8d95-7096-4f56-bf00-3932b88903da",
   "metadata": {
    "execution": {
     "iopub.execute_input": "2022-12-08T06:57:00.823848Z",
     "iopub.status.busy": "2022-12-08T06:57:00.823516Z",
     "iopub.status.idle": "2022-12-08T06:57:00.829893Z",
     "shell.execute_reply": "2022-12-08T06:57:00.829007Z",
     "shell.execute_reply.started": "2022-12-08T06:57:00.823820Z"
    },
    "tags": []
   },
   "outputs": [
    {
     "data": {
      "text/plain": [
       "1690"
      ]
     },
     "execution_count": 11,
     "metadata": {},
     "output_type": "execute_result"
    }
   ],
   "source": [
    "total_trees_visible_from_outside"
   ]
  },
  {
   "cell_type": "code",
   "execution_count": 12,
   "id": "1c461ffd-a2ca-4962-8d9d-b9bd378d1da5",
   "metadata": {
    "execution": {
     "iopub.execute_input": "2022-12-08T06:57:01.110730Z",
     "iopub.status.busy": "2022-12-08T06:57:01.110285Z",
     "iopub.status.idle": "2022-12-08T06:57:01.114515Z",
     "shell.execute_reply": "2022-12-08T06:57:01.113445Z",
     "shell.execute_reply.started": "2022-12-08T06:57:01.110700Z"
    },
    "tags": []
   },
   "outputs": [],
   "source": [
    "assert total_trees_visible_from_outside == 1690"
   ]
  },
  {
   "cell_type": "markdown",
   "id": "c924ae7a-7779-47b8-beea-b57dd159c792",
   "metadata": {
    "execution": {
     "iopub.execute_input": "2022-12-08T06:28:55.708658Z",
     "iopub.status.busy": "2022-12-08T06:28:55.708062Z",
     "iopub.status.idle": "2022-12-08T06:28:55.725570Z",
     "shell.execute_reply": "2022-12-08T06:28:55.724036Z",
     "shell.execute_reply.started": "2022-12-08T06:28:55.708620Z"
    }
   },
   "source": [
    "### --- Part Two ---\n",
    "```\n",
    "Content with the amount of tree cover available, the Elves just need to know the best spot to build their tree house: they would like to be able to see a lot of trees.\n",
    "\n",
    "To measure the viewing distance from a given tree, look up, down, left, and right from that tree; stop if you reach an edge or at the first tree that is the same height or taller than the tree under consideration. (If a tree is right on the edge, at least one of its viewing distances will be zero.)\n",
    "\n",
    "The Elves don't care about distant trees taller than those found by the rules above; the proposed tree house has large eaves to keep it dry, so they wouldn't be able to see higher than the tree house anyway.\n",
    "\n",
    "In the example above, consider the middle 5 in the second row:\n",
    "\n",
    "30373\n",
    "25512\n",
    "65332\n",
    "33549\n",
    "35390\n",
    "\n",
    "    Looking up, its view is not blocked; it can see 1 tree (of height 3).\n",
    "    Looking left, its view is blocked immediately; it can see only 1 tree (of height 5, right next to it).\n",
    "    Looking right, its view is not blocked; it can see 2 trees.\n",
    "    Looking down, its view is blocked eventually; it can see 2 trees (one of height 3, then the tree of height 5 that blocks its view).\n",
    "\n",
    "A tree's scenic score is found by multiplying together its viewing distance in each of the four directions. For this tree, this is 4 (found by multiplying 1 * 1 * 2 * 2).\n",
    "\n",
    "However, you can do even better: consider the tree of height 5 in the middle of the fourth row:\n",
    "\n",
    "30373\n",
    "25512\n",
    "65332\n",
    "33549\n",
    "35390\n",
    "\n",
    "    Looking up, its view is blocked at 2 trees (by another tree with a height of 5).\n",
    "    Looking left, its view is not blocked; it can see 2 trees.\n",
    "    Looking down, its view is also not blocked; it can see 1 tree.\n",
    "    Looking right, its view is blocked at 2 trees (by a massive tree of height 9).\n",
    "\n",
    "This tree's scenic score is 8 (2 * 2 * 1 * 2); this is the ideal spot for the tree house.\n",
    "\n",
    "Consider each tree on your map. What is the highest scenic score possible for any tree?\n",
    "```"
   ]
  },
  {
   "cell_type": "code",
   "execution_count": 13,
   "id": "ee497d52-c6ab-4c66-8e1c-ebb75c6a16b8",
   "metadata": {
    "execution": {
     "iopub.execute_input": "2022-12-08T06:57:01.665623Z",
     "iopub.status.busy": "2022-12-08T06:57:01.665273Z",
     "iopub.status.idle": "2022-12-08T06:57:01.672263Z",
     "shell.execute_reply": "2022-12-08T06:57:01.671289Z",
     "shell.execute_reply.started": "2022-12-08T06:57:01.665592Z"
    },
    "tags": []
   },
   "outputs": [],
   "source": [
    "def how_many_trees_visible(tree_hight: int, trees_in_front: List[int]) -> int:\n",
    "    n_trees = 1\n",
    "    if not trees_in_front:\n",
    "        return 0\n",
    "    for tree in trees_in_front:\n",
    "        if tree < tree_hight:\n",
    "            n_trees += 1\n",
    "        else:\n",
    "            return n_trees\n",
    "    return n_trees - 1\n",
    "\n",
    "\n",
    "assert how_many_trees_visible(3, [1, 2, 3]) == 3\n",
    "assert how_many_trees_visible(3, [3, 1, 1]) == 1\n",
    "assert how_many_trees_visible(3, []) == 0\n",
    "assert how_many_trees_visible(3, [1, 1]) == 2\n",
    "assert how_many_trees_visible(2, [1, 1, 2, 4]) == 3"
   ]
  },
  {
   "cell_type": "code",
   "execution_count": 14,
   "id": "7e24c714-3736-494a-914d-b56bd5d7353a",
   "metadata": {
    "execution": {
     "iopub.execute_input": "2022-12-08T06:57:01.920804Z",
     "iopub.status.busy": "2022-12-08T06:57:01.920428Z",
     "iopub.status.idle": "2022-12-08T06:57:02.903328Z",
     "shell.execute_reply": "2022-12-08T06:57:02.902355Z",
     "shell.execute_reply.started": "2022-12-08T06:57:01.920776Z"
    },
    "tags": []
   },
   "outputs": [],
   "source": [
    "scenic_scores = []\n",
    "for row in rows:\n",
    "    if row > 0 and row < max(rows.keys()):\n",
    "        for column, value in enumerate(rows[row]):\n",
    "            if column > 0 and column < len(rows[0]) - 1:\n",
    "                tree_height = get_tree_from_grid(row, column)\n",
    "                trees_in_front = get_trees_in_front(row, column)\n",
    "                score = 1\n",
    "                for direction in [\"above\", \"below\", \"left\", \"right\"]:\n",
    "                    score *= how_many_trees_visible(\n",
    "                        tree_height, trees_in_front[direction]\n",
    "                    )\n",
    "                scenic_scores.append(score)"
   ]
  },
  {
   "cell_type": "code",
   "execution_count": 15,
   "id": "3cca8ac8-1551-4925-92de-920f46e50b88",
   "metadata": {
    "execution": {
     "iopub.execute_input": "2022-12-08T06:57:02.905423Z",
     "iopub.status.busy": "2022-12-08T06:57:02.904870Z",
     "iopub.status.idle": "2022-12-08T06:57:02.911102Z",
     "shell.execute_reply": "2022-12-08T06:57:02.910344Z",
     "shell.execute_reply.started": "2022-12-08T06:57:02.905391Z"
    },
    "tags": []
   },
   "outputs": [
    {
     "data": {
      "text/plain": [
       "535680"
      ]
     },
     "execution_count": 15,
     "metadata": {},
     "output_type": "execute_result"
    }
   ],
   "source": [
    "max(scenic_scores)"
   ]
  },
  {
   "cell_type": "code",
   "execution_count": 16,
   "id": "f5b37a03-0758-48ae-ab3f-68f1bb998204",
   "metadata": {
    "execution": {
     "iopub.execute_input": "2022-12-08T06:57:02.912695Z",
     "iopub.status.busy": "2022-12-08T06:57:02.912100Z",
     "iopub.status.idle": "2022-12-08T06:57:02.916891Z",
     "shell.execute_reply": "2022-12-08T06:57:02.915789Z",
     "shell.execute_reply.started": "2022-12-08T06:57:02.912670Z"
    },
    "tags": []
   },
   "outputs": [],
   "source": [
    "assert max(scenic_scores) == 535680"
   ]
  },
  {
   "cell_type": "code",
   "execution_count": null,
   "id": "39124b06-6dff-40b6-be33-5635fbad195f",
   "metadata": {},
   "outputs": [],
   "source": []
  }
 ],
 "metadata": {
  "kernelspec": {
   "display_name": "Python 3 (ipykernel)",
   "language": "python",
   "name": "python3"
  },
  "language_info": {
   "codemirror_mode": {
    "name": "ipython",
    "version": 3
   },
   "file_extension": ".py",
   "mimetype": "text/x-python",
   "name": "python",
   "nbconvert_exporter": "python",
   "pygments_lexer": "ipython3",
   "version": "3.8.10"
  }
 },
 "nbformat": 4,
 "nbformat_minor": 5
}
