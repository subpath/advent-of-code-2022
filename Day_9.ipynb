{
 "cells": [
  {
   "cell_type": "markdown",
   "id": "8afe82ee-6167-4f30-92f7-9ab02c0fdcb9",
   "metadata": {},
   "source": [
    "## --- Day 9: Rope Bridge ---\n",
    "```\n",
    "This rope bridge creaks as you walk along it. You aren't sure how old it is, or whether it can even support your weight.\n",
    "\n",
    "It seems to support the Elves just fine, though. The bridge spans a gorge which was carved out by the massive river far below you.\n",
    "\n",
    "You step carefully; as you do, the ropes stretch and twist. You decide to distract yourself by modeling rope physics; maybe you can even figure out where not to step.\n",
    "\n",
    "Consider a rope with a knot at each end; these knots mark the head and the tail of the rope. If the head moves far enough away from the tail, the tail is pulled toward the head.\n",
    "\n",
    "Due to nebulous reasoning involving Planck lengths, you should be able to model the positions of the knots on a two-dimensional grid. Then, by following a hypothetical series of motions (your puzzle input) for the head, you can determine how the tail will move.\n",
    "\n",
    "Due to the aforementioned Planck lengths, the rope must be quite short; in fact, the head (H) and tail (T) must always be touching (diagonally adjacent and even overlapping both count as touching):\n",
    "\n",
    "....\n",
    ".TH.\n",
    "....\n",
    "\n",
    "....\n",
    ".H..\n",
    "..T.\n",
    "....\n",
    "\n",
    "...\n",
    ".H. (H covers T)\n",
    "...\n",
    "\n",
    "If the head is ever two steps directly up, down, left, or right from the tail, the tail must also move one step in that direction so it remains close enough:\n",
    "\n",
    ".....    .....    .....\n",
    ".TH.. -> .T.H. -> ..TH.\n",
    ".....    .....    .....\n",
    "\n",
    "...    ...    ...\n",
    ".T.    .T.    ...\n",
    ".H. -> ... -> .T.\n",
    "...    .H.    .H.\n",
    "...    ...    ...\n",
    "\n",
    "Otherwise, if the head and tail aren't touching and aren't in the same row or column, the tail always moves one step diagonally to keep up:\n",
    "\n",
    ".....    .....    .....\n",
    ".....    ..H..    ..H..\n",
    "..H.. -> ..... -> ..T..\n",
    ".T...    .T...    .....\n",
    ".....    .....    .....\n",
    "\n",
    ".....    .....    .....\n",
    ".....    .....    .....\n",
    "..H.. -> ...H. -> ..TH.\n",
    ".T...    .T...    .....\n",
    ".....    .....    .....\n",
    "\n",
    "You just need to work out where the tail goes as the head follows a series of motions. Assume the head and the tail both start at the same position, overlapping.\n",
    "\n",
    "For example:\n",
    "\n",
    "R 4\n",
    "U 4\n",
    "L 3\n",
    "D 1\n",
    "R 4\n",
    "D 1\n",
    "L 5\n",
    "R 2\n",
    "\n",
    "This series of motions moves the head right four steps, then up four steps, then left three steps, then down one step, and so on. After each step, you'll need to update the position of the tail if the step means the head is no longer adjacent to the tail. Visually, these motions occur as follows (s marks the starting position as a reference point):\n",
    "\n",
    "== Initial State ==\n",
    "\n",
    "......\n",
    "......\n",
    "......\n",
    "......\n",
    "H.....  (H covers T, s)\n",
    "\n",
    "== R 4 ==\n",
    "\n",
    "......\n",
    "......\n",
    "......\n",
    "......\n",
    "TH....  (T covers s)\n",
    "\n",
    "......\n",
    "......\n",
    "......\n",
    "......\n",
    "sTH...\n",
    "\n",
    "......\n",
    "......\n",
    "......\n",
    "......\n",
    "s.TH..\n",
    "\n",
    "......\n",
    "......\n",
    "......\n",
    "......\n",
    "s..TH.\n",
    "\n",
    "== U 4 ==\n",
    "\n",
    "......\n",
    "......\n",
    "......\n",
    "....H.\n",
    "s..T..\n",
    "\n",
    "......\n",
    "......\n",
    "....H.\n",
    "....T.\n",
    "s.....\n",
    "\n",
    "......\n",
    "....H.\n",
    "....T.\n",
    "......\n",
    "s.....\n",
    "\n",
    "....H.\n",
    "....T.\n",
    "......\n",
    "......\n",
    "s.....\n",
    "\n",
    "== L 3 ==\n",
    "\n",
    "...H..\n",
    "....T.\n",
    "......\n",
    "......\n",
    "s.....\n",
    "\n",
    "..HT..\n",
    "......\n",
    "......\n",
    "......\n",
    "s.....\n",
    "\n",
    ".HT...\n",
    "......\n",
    "......\n",
    "......\n",
    "s.....\n",
    "\n",
    "== D 1 ==\n",
    "\n",
    "..T...\n",
    ".H....\n",
    "......\n",
    "......\n",
    "s.....\n",
    "\n",
    "== R 4 ==\n",
    "\n",
    "..T...\n",
    "..H...\n",
    "......\n",
    "......\n",
    "s.....\n",
    "\n",
    "..T...\n",
    "...H..\n",
    "......\n",
    "......\n",
    "s.....\n",
    "\n",
    "......\n",
    "...TH.\n",
    "......\n",
    "......\n",
    "s.....\n",
    "\n",
    "......\n",
    "....TH\n",
    "......\n",
    "......\n",
    "s.....\n",
    "\n",
    "== D 1 ==\n",
    "\n",
    "......\n",
    "....T.\n",
    ".....H\n",
    "......\n",
    "s.....\n",
    "\n",
    "== L 5 ==\n",
    "\n",
    "......\n",
    "....T.\n",
    "....H.\n",
    "......\n",
    "s.....\n",
    "\n",
    "......\n",
    "....T.\n",
    "...H..\n",
    "......\n",
    "s.....\n",
    "\n",
    "......\n",
    "......\n",
    "..HT..\n",
    "......\n",
    "s.....\n",
    "\n",
    "......\n",
    "......\n",
    ".HT...\n",
    "......\n",
    "s.....\n",
    "\n",
    "......\n",
    "......\n",
    "HT....\n",
    "......\n",
    "s.....\n",
    "\n",
    "== R 2 ==\n",
    "\n",
    "......\n",
    "......\n",
    ".H....  (H covers T)\n",
    "......\n",
    "s.....\n",
    "\n",
    "......\n",
    "......\n",
    ".TH...\n",
    "......\n",
    "s.....\n",
    "\n",
    "After simulating the rope, you can count up all of the positions the tail visited at least once. In this diagram, s again marks the starting position (which the tail also visited) and # marks other positions the tail visited:\n",
    "\n",
    "..##..\n",
    "...##.\n",
    ".####.\n",
    "....#.\n",
    "s###..\n",
    "\n",
    "So, there are 13 positions the tail visited at least once.\n",
    "\n",
    "Simulate your complete hypothetical series of motions. How many positions does the tail of the rope visit at least once?\n",
    "```"
   ]
  },
  {
   "cell_type": "code",
   "execution_count": 1,
   "id": "7f11b983-7f63-41df-8dea-ba2f91952e53",
   "metadata": {
    "execution": {
     "iopub.execute_input": "2022-12-09T17:34:10.783594Z",
     "iopub.status.busy": "2022-12-09T17:34:10.783097Z",
     "iopub.status.idle": "2022-12-09T17:34:10.804751Z",
     "shell.execute_reply": "2022-12-09T17:34:10.803501Z",
     "shell.execute_reply.started": "2022-12-09T17:34:10.783513Z"
    },
    "tags": []
   },
   "outputs": [],
   "source": [
    "from typing import List, Tuple\n",
    "\n",
    "\n",
    "class Rope:\n",
    "    directions_mapping = {\"R\": +1, \"L\": -1, \"U\": +1, \"D\": -1}\n",
    "\n",
    "    def __init__(self, H_state: Tuple[int] = (0, 0), T_state: Tuple[int] = (0, 0)):\n",
    "        self.H_state = H_state\n",
    "        self.T_state = T_state\n",
    "        self.H_positions_history: List[Tuple[int]] = [H_state]\n",
    "        self.T_positions_history: List[Tuple[int]] = [H_state]\n",
    "\n",
    "    def move(self, move_command: str):\n",
    "        direction, number_of_steps = self.parse_move_command(move_command)\n",
    "        # start walking\n",
    "        for n in range(number_of_steps):\n",
    "            if direction in [\"R\", \"L\"]:\n",
    "                # move head\n",
    "                H_x = self.H_state[0] + Rope.directions_mapping[direction]\n",
    "                self.H_state = (H_x, self.H_state[1])\n",
    "                # move tail\n",
    "                if abs(self.T_state[0] - self.H_state[0]) > 1:\n",
    "                    if self.T_state[1] == self.H_state[1]:\n",
    "                        T_x = self.T_state[0] + Rope.directions_mapping[direction]\n",
    "                        self.T_state = (T_x, self.T_state[1])\n",
    "                    else:\n",
    "                        # need to make diagonal move\n",
    "                        T_x = self.T_state[0] + Rope.directions_mapping[direction]\n",
    "                        T_y = self.H_state[1]\n",
    "                        self.T_state = (T_x, T_y)\n",
    "\n",
    "            else:\n",
    "                # move head\n",
    "                H_y = self.H_state[1] + Rope.directions_mapping[direction]\n",
    "                self.H_state = (self.H_state[0], H_y)\n",
    "                # move tail\n",
    "                if abs(self.T_state[1] - self.H_state[1]) > 1:\n",
    "                    if self.T_state[0] == self.H_state[0]:\n",
    "                        T_y = self.T_state[1] + Rope.directions_mapping[direction]\n",
    "                        self.T_state = (self.T_state[0], T_y)\n",
    "                    else:\n",
    "                        # need to make diagonal move\n",
    "                        T_y = self.T_state[1] + Rope.directions_mapping[direction]\n",
    "                        T_x = self.H_state[0]\n",
    "                        self.T_state = (T_x, T_y)\n",
    "\n",
    "            self.H_positions_history.append(self.H_state)\n",
    "            self.T_positions_history.append(self.T_state)\n",
    "\n",
    "    @staticmethod\n",
    "    def parse_move_command(move_command: str) -> Tuple[str, int]:\n",
    "        direction, number_of_steps = move_command.split(\" \")\n",
    "        assert direction in Rope.directions_mapping\n",
    "        return direction, int(number_of_steps)"
   ]
  },
  {
   "cell_type": "code",
   "execution_count": 2,
   "id": "7c0543e1-42e1-48d4-9aef-7b74f3d03c44",
   "metadata": {
    "execution": {
     "iopub.execute_input": "2022-12-09T17:34:11.246785Z",
     "iopub.status.busy": "2022-12-09T17:34:11.246390Z",
     "iopub.status.idle": "2022-12-09T17:34:11.257728Z",
     "shell.execute_reply": "2022-12-09T17:34:11.256965Z",
     "shell.execute_reply.started": "2022-12-09T17:34:11.246755Z"
    },
    "tags": []
   },
   "outputs": [],
   "source": [
    "rope = Rope()\n",
    "assert rope.parse_move_command(\"R 1\") == (\"R\", 1)\n",
    "\n",
    "test_moves = [\"R 4\", \"U 4\", \"L 3\", \"D 1\", \"R 4\", \"D 1\", \"L 5\", \"R 2\"]\n",
    "for test_move in test_moves:\n",
    "    rope.move(test_move)\n",
    "\n",
    "assert rope.H_positions_history == [\n",
    "    (0, 0),\n",
    "    (1, 0),\n",
    "    (2, 0),\n",
    "    (3, 0),\n",
    "    (4, 0),\n",
    "    (4, 1),\n",
    "    (4, 2),\n",
    "    (4, 3),\n",
    "    (4, 4),\n",
    "    (3, 4),\n",
    "    (2, 4),\n",
    "    (1, 4),\n",
    "    (1, 3),\n",
    "    (2, 3),\n",
    "    (3, 3),\n",
    "    (4, 3),\n",
    "    (5, 3),\n",
    "    (5, 2),\n",
    "    (4, 2),\n",
    "    (3, 2),\n",
    "    (2, 2),\n",
    "    (1, 2),\n",
    "    (0, 2),\n",
    "    (1, 2),\n",
    "    (2, 2),\n",
    "]\n",
    "\n",
    "assert rope.T_positions_history == [\n",
    "    (0, 0),\n",
    "    (0, 0),\n",
    "    (1, 0),\n",
    "    (2, 0),\n",
    "    (3, 0),\n",
    "    (3, 0),\n",
    "    (4, 1),\n",
    "    (4, 2),\n",
    "    (4, 3),\n",
    "    (4, 3),\n",
    "    (3, 4),\n",
    "    (2, 4),\n",
    "    (2, 4),\n",
    "    (2, 4),\n",
    "    (2, 4),\n",
    "    (3, 3),\n",
    "    (4, 3),\n",
    "    (4, 3),\n",
    "    (4, 3),\n",
    "    (4, 3),\n",
    "    (3, 2),\n",
    "    (2, 2),\n",
    "    (1, 2),\n",
    "    (1, 2),\n",
    "    (1, 2),\n",
    "]\n",
    "\n",
    "assert len(set(rope.T_positions_history)) == 13"
   ]
  },
  {
   "cell_type": "code",
   "execution_count": 3,
   "id": "60d37888-fbec-40b9-8279-9bc172d5bb67",
   "metadata": {
    "execution": {
     "iopub.execute_input": "2022-12-09T17:34:11.735407Z",
     "iopub.status.busy": "2022-12-09T17:34:11.734684Z",
     "iopub.status.idle": "2022-12-09T17:34:11.739965Z",
     "shell.execute_reply": "2022-12-09T17:34:11.739125Z",
     "shell.execute_reply.started": "2022-12-09T17:34:11.735346Z"
    },
    "tags": []
   },
   "outputs": [],
   "source": [
    "with open(\"data/day_9.txt\", \"r\") as f:\n",
    "    moves = f.read().split(\"\\n\")"
   ]
  },
  {
   "cell_type": "code",
   "execution_count": 4,
   "id": "93851573-bc86-4d1d-bd1d-8785627576ee",
   "metadata": {
    "execution": {
     "iopub.execute_input": "2022-12-09T17:34:12.260717Z",
     "iopub.status.busy": "2022-12-09T17:34:12.260342Z",
     "iopub.status.idle": "2022-12-09T17:34:12.285474Z",
     "shell.execute_reply": "2022-12-09T17:34:12.284525Z",
     "shell.execute_reply.started": "2022-12-09T17:34:12.260685Z"
    },
    "tags": []
   },
   "outputs": [],
   "source": [
    "rope = Rope()\n",
    "for move in moves:\n",
    "    rope.move(move)"
   ]
  },
  {
   "cell_type": "code",
   "execution_count": 5,
   "id": "b61f8b00-bb55-4f8e-95b7-700fe9aee6fe",
   "metadata": {
    "execution": {
     "iopub.execute_input": "2022-12-09T17:34:12.679401Z",
     "iopub.status.busy": "2022-12-09T17:34:12.678797Z",
     "iopub.status.idle": "2022-12-09T17:34:12.693666Z",
     "shell.execute_reply": "2022-12-09T17:34:12.692732Z",
     "shell.execute_reply.started": "2022-12-09T17:34:12.679368Z"
    },
    "tags": []
   },
   "outputs": [
    {
     "data": {
      "text/plain": [
       "6067"
      ]
     },
     "execution_count": 5,
     "metadata": {},
     "output_type": "execute_result"
    }
   ],
   "source": [
    "len(set(rope.T_positions_history))"
   ]
  },
  {
   "cell_type": "code",
   "execution_count": 6,
   "id": "7ede5105-70f8-4ead-90ad-9cef138c16cb",
   "metadata": {
    "execution": {
     "iopub.execute_input": "2022-12-09T17:34:13.098306Z",
     "iopub.status.busy": "2022-12-09T17:34:13.097982Z",
     "iopub.status.idle": "2022-12-09T17:34:13.103732Z",
     "shell.execute_reply": "2022-12-09T17:34:13.102318Z",
     "shell.execute_reply.started": "2022-12-09T17:34:13.098279Z"
    },
    "tags": []
   },
   "outputs": [],
   "source": [
    "assert len(set(rope.T_positions_history)) == 6067"
   ]
  },
  {
   "cell_type": "markdown",
   "id": "6129b9ac-f16d-45f6-8d05-9fd82b5f3aa9",
   "metadata": {
    "tags": []
   },
   "source": [
    "## --- Part Two ---\n",
    "\n",
    "```\n",
    "A rope snaps! Suddenly, the river is getting a lot closer than you remember. The bridge is still there, but some of the ropes that broke are now whipping toward you as you fall through the air!\n",
    "\n",
    "The ropes are moving too quickly to grab; you only have a few seconds to choose how to arch your body to avoid being hit. Fortunately, your simulation can be extended to support longer ropes.\n",
    "\n",
    "Rather than two knots, you now must simulate a rope consisting of ten knots. One knot is still the head of the rope and moves according to the series of motions. Each knot further down the rope follows the knot in front of it using the same rules as before.\n",
    "\n",
    "Using the same series of motions as the above example, but with the knots marked H, 1, 2, ..., 9, the motions now occur as follows:\n",
    "\n",
    "== Initial State ==\n",
    "\n",
    "......\n",
    "......\n",
    "......\n",
    "......\n",
    "H.....  (H covers 1, 2, 3, 4, 5, 6, 7, 8, 9, s)\n",
    "\n",
    "== R 4 ==\n",
    "\n",
    "......\n",
    "......\n",
    "......\n",
    "......\n",
    "1H....  (1 covers 2, 3, 4, 5, 6, 7, 8, 9, s)\n",
    "\n",
    "......\n",
    "......\n",
    "......\n",
    "......\n",
    "21H...  (2 covers 3, 4, 5, 6, 7, 8, 9, s)\n",
    "\n",
    "......\n",
    "......\n",
    "......\n",
    "......\n",
    "321H..  (3 covers 4, 5, 6, 7, 8, 9, s)\n",
    "\n",
    "......\n",
    "......\n",
    "......\n",
    "......\n",
    "4321H.  (4 covers 5, 6, 7, 8, 9, s)\n",
    "\n",
    "== U 4 ==\n",
    "\n",
    "......\n",
    "......\n",
    "......\n",
    "....H.\n",
    "4321..  (4 covers 5, 6, 7, 8, 9, s)\n",
    "\n",
    "......\n",
    "......\n",
    "....H.\n",
    ".4321.\n",
    "5.....  (5 covers 6, 7, 8, 9, s)\n",
    "\n",
    "......\n",
    "....H.\n",
    "....1.\n",
    ".432..\n",
    "5.....  (5 covers 6, 7, 8, 9, s)\n",
    "\n",
    "....H.\n",
    "....1.\n",
    "..432.\n",
    ".5....\n",
    "6.....  (6 covers 7, 8, 9, s)\n",
    "\n",
    "== L 3 ==\n",
    "\n",
    "...H..\n",
    "....1.\n",
    "..432.\n",
    ".5....\n",
    "6.....  (6 covers 7, 8, 9, s)\n",
    "\n",
    "..H1..\n",
    "...2..\n",
    "..43..\n",
    ".5....\n",
    "6.....  (6 covers 7, 8, 9, s)\n",
    "\n",
    ".H1...\n",
    "...2..\n",
    "..43..\n",
    ".5....\n",
    "6.....  (6 covers 7, 8, 9, s)\n",
    "\n",
    "== D 1 ==\n",
    "\n",
    "..1...\n",
    ".H.2..\n",
    "..43..\n",
    ".5....\n",
    "6.....  (6 covers 7, 8, 9, s)\n",
    "\n",
    "== R 4 ==\n",
    "\n",
    "..1...\n",
    "..H2..\n",
    "..43..\n",
    ".5....\n",
    "6.....  (6 covers 7, 8, 9, s)\n",
    "\n",
    "..1...\n",
    "...H..  (H covers 2)\n",
    "..43..\n",
    ".5....\n",
    "6.....  (6 covers 7, 8, 9, s)\n",
    "\n",
    "......\n",
    "...1H.  (1 covers 2)\n",
    "..43..\n",
    ".5....\n",
    "6.....  (6 covers 7, 8, 9, s)\n",
    "\n",
    "......\n",
    "...21H\n",
    "..43..\n",
    ".5....\n",
    "6.....  (6 covers 7, 8, 9, s)\n",
    "\n",
    "== D 1 ==\n",
    "\n",
    "......\n",
    "...21.\n",
    "..43.H\n",
    ".5....\n",
    "6.....  (6 covers 7, 8, 9, s)\n",
    "\n",
    "== L 5 ==\n",
    "\n",
    "......\n",
    "...21.\n",
    "..43H.\n",
    ".5....\n",
    "6.....  (6 covers 7, 8, 9, s)\n",
    "\n",
    "......\n",
    "...21.\n",
    "..4H..  (H covers 3)\n",
    ".5....\n",
    "6.....  (6 covers 7, 8, 9, s)\n",
    "\n",
    "......\n",
    "...2..\n",
    "..H1..  (H covers 4; 1 covers 3)\n",
    ".5....\n",
    "6.....  (6 covers 7, 8, 9, s)\n",
    "\n",
    "......\n",
    "...2..\n",
    ".H13..  (1 covers 4)\n",
    ".5....\n",
    "6.....  (6 covers 7, 8, 9, s)\n",
    "\n",
    "......\n",
    "......\n",
    "H123..  (2 covers 4)\n",
    ".5....\n",
    "6.....  (6 covers 7, 8, 9, s)\n",
    "\n",
    "== R 2 ==\n",
    "\n",
    "......\n",
    "......\n",
    ".H23..  (H covers 1; 2 covers 4)\n",
    ".5....\n",
    "6.....  (6 covers 7, 8, 9, s)\n",
    "\n",
    "......\n",
    "......\n",
    ".1H3..  (H covers 2, 4)\n",
    ".5....\n",
    "6.....  (6 covers 7, 8, 9, s)\n",
    "\n",
    "Now, you need to keep track of the positions the new tail, 9, visits. In this example, the tail never moves, and so it only visits 1 position. However, be careful: more types of motion are possible than before, so you might want to visually compare your simulated rope to the one above.\n",
    "\n",
    "\n",
    "Simulate your complete series of motions on a larger rope with ten knots. How many positions does the tail of the rope visit at least once?\n",
    "```"
   ]
  },
  {
   "cell_type": "code",
   "execution_count": 112,
   "id": "ef5cfead-c03d-4706-ab8e-9652cebb9b5f",
   "metadata": {
    "execution": {
     "iopub.execute_input": "2022-12-09T19:59:04.697378Z",
     "iopub.status.busy": "2022-12-09T19:59:04.696996Z",
     "iopub.status.idle": "2022-12-09T19:59:04.714111Z",
     "shell.execute_reply": "2022-12-09T19:59:04.713211Z",
     "shell.execute_reply.started": "2022-12-09T19:59:04.697345Z"
    },
    "tags": []
   },
   "outputs": [],
   "source": [
    "from typing import List, Tuple\n",
    "from copy import deepcopy\n",
    "\n",
    "\n",
    "class GenericRope:\n",
    "    \"\"\"I know how to write it in functional style, but I don't have time to rewrite this 😢.\"\"\"\n",
    "\n",
    "    directions_mapping = {\"R\": +1, \"L\": -1, \"U\": +1, \"D\": -1}\n",
    "\n",
    "    def __init__(self, initial_state: Tuple[int] = (0, 0), n_knots: int = 10):\n",
    "        self.states = {i: initial_state for i in range(n_knots)}\n",
    "        self.knots = list(self.states.keys())\n",
    "        self.positions_history: List[Tuple[int]] = [deepcopy(self.states)]\n",
    "\n",
    "    def move_head(self, direction: str):\n",
    "        if direction in [\"R\", \"L\"]:\n",
    "            x = self.states[0][0] + Rope.directions_mapping[direction]\n",
    "            self.states[0] = (x, self.states[0][1])\n",
    "        else:\n",
    "            y = self.states[0][1] + Rope.directions_mapping[direction]\n",
    "            self.states[0] = (self.states[0][0], y)\n",
    "\n",
    "    def move_subsequent_knot(self, direction: str, knot_index: int):\n",
    "        if direction in [\"R\", \"L\"]:\n",
    "            if abs(self.states[knot_index - 1][0] - self.states[knot_index][0]) > 1:\n",
    "                if self.states[knot_index - 1][1] == self.states[knot_index][1]:\n",
    "                    x = self.states[knot_index][0] + Rope.directions_mapping[direction]\n",
    "                    self.states[knot_index] = (x, self.states[knot_index][1])\n",
    "                else:\n",
    "                    # need to make diagonal move\n",
    "                    x = self.states[knot_index][0] + Rope.directions_mapping[direction]\n",
    "                    y = self.states[knot_index][1] + Rope.directions_mapping[direction]\n",
    "                    self.states[knot_index] = (x, y)\n",
    "        else:\n",
    "            if abs(self.states[knot_index - 1][1] - self.states[knot_index][1]) > 1:\n",
    "                if self.states[knot_index - 1][0] == self.states[knot_index][0]:\n",
    "                    y = self.states[knot_index][1] + Rope.directions_mapping[direction]\n",
    "                    self.states[knot_index] = (self.states[knot_index][0], y)\n",
    "                else:\n",
    "                    # need to make diagonal move\n",
    "                    # if knot_index == 2:\n",
    "                    #     import pdb;pdb.set_trace()\n",
    "                    x = self.states[knot_index][0] + Rope.directions_mapping[direction]\n",
    "                    y = self.states[knot_index][1] + Rope.directions_mapping[direction]\n",
    "                    self.states[knot_index] = (x, y)\n",
    "\n",
    "    def move(self, move_command: str):\n",
    "        direction, number_of_steps = self.parse_move_command(move_command)\n",
    "        # start walking\n",
    "        print(\"=\"*100)\n",
    "        print(move_command)\n",
    "        print(\"=\"*100)\n",
    "        for n in range(number_of_steps):\n",
    "            self.move_head(direction)\n",
    "            for knot_index in self.knots[1:]:\n",
    "                self.move_subsequent_knot(direction, knot_index)\n",
    "                print(knot_index, self.states)\n",
    "            print(\"$\"*100)\n",
    "            self.positions_history.append(deepcopy(self.states))\n",
    "            \n",
    "        print(\"^\"*100)\n",
    "        print(self.states)\n",
    "        print(\"^\"*100)\n",
    "\n",
    "\n",
    "    @staticmethod\n",
    "    def parse_move_command(move_command: str) -> Tuple[str, int]:\n",
    "        direction, number_of_steps = move_command.split(\" \")\n",
    "        assert direction in Rope.directions_mapping\n",
    "        return direction, int(number_of_steps)"
   ]
  },
  {
   "cell_type": "code",
   "execution_count": 117,
   "id": "0ab93cb2-0e6f-410b-ad7c-ec90c7d501fa",
   "metadata": {
    "execution": {
     "iopub.execute_input": "2022-12-09T20:02:37.191874Z",
     "iopub.status.busy": "2022-12-09T20:02:37.191251Z",
     "iopub.status.idle": "2022-12-09T20:02:37.197719Z",
     "shell.execute_reply": "2022-12-09T20:02:37.196955Z",
     "shell.execute_reply.started": "2022-12-09T20:02:37.191820Z"
    },
    "tags": []
   },
   "outputs": [],
   "source": [
    "def parse_move_command(move_command: str) -> Tuple[str, int]:\n",
    "    direction, number_of_steps = move_command.split(\" \")\n",
    "    assert direction in Rope.directions_mapping\n",
    "    return direction, int(number_of_steps)"
   ]
  },
  {
   "cell_type": "code",
   "execution_count": 145,
   "id": "255a0074-9dc8-4f4f-9ceb-865b7eb6100e",
   "metadata": {
    "execution": {
     "iopub.execute_input": "2022-12-09T20:24:42.238621Z",
     "iopub.status.busy": "2022-12-09T20:24:42.238242Z",
     "iopub.status.idle": "2022-12-09T20:24:42.249062Z",
     "shell.execute_reply": "2022-12-09T20:24:42.248380Z",
     "shell.execute_reply.started": "2022-12-09T20:24:42.238596Z"
    },
    "tags": []
   },
   "outputs": [],
   "source": [
    "initial_state: Tuple[int] = (0, 0)\n",
    "directions_mapping = {\"R\": +1, \"L\": -1, \"U\": +1, \"D\": -1}\n",
    "n_knots = 10\n",
    "states = {i: initial_state for i in range(n_knots)}\n",
    "knots = list(states.keys())\n",
    "moves = [\"R 4\", \"U 4\"]\n",
    "\n",
    "for move in moves:\n",
    "    direction, number_of_steps = parse_move_command(move)\n",
    "    for n in range(number_of_steps):\n",
    "        # move head\n",
    "        if direction in [\"R\", \"L\"]:\n",
    "            x = states[0][0] + directions_mapping[direction]\n",
    "            states[0] = (x, states[0][1])\n",
    "        else:\n",
    "            y = states[0][1] + directions_mapping[direction]\n",
    "            states[0] = (states[0][0], y)\n",
    "        # print(\"*\"*100)\n",
    "        # print(n)\n",
    "        # print(\"*\"*100)\n",
    "        # move other knots\n",
    "        for knot_index in knots[1:]:\n",
    "            if abs(states[knot_index - 1][1] - states[knot_index][1])>1 or abs(states[knot_index - 1][0] - states[knot_index][0]) > 1:\n",
    "                if direction in [\"R\", \"L\"]:\n",
    "                # if abs(states[knot_index - 1][0] - states[knot_index][0]) > 1:\n",
    "                    if states[knot_index - 1][1] == states[knot_index][1]:\n",
    "                        x = states[knot_index][0] + directions_mapping[direction]\n",
    "                        states[knot_index] = (x, states[knot_index][1])\n",
    "                    else:\n",
    "                        # need to make diagonal move\n",
    "                        x = states[knot_index][0] + directions_mapping[direction]\n",
    "                        y = states[knot_index][1] + directions_mapping[direction]\n",
    "                        states[knot_index] = (x, y)\n",
    "                else:\n",
    "\n",
    "                # print(states)\n",
    "                # if abs(states[knot_index - 1][1] - states[knot_index][1])>1 or abs(states[knot_index - 1][0] - states[knot_index][0]) > 1:\n",
    "                    if states[knot_index - 1][0] == states[knot_index][0]:\n",
    "                        y = states[knot_index][1] + Rope.directions_mapping[direction]\n",
    "                        states[knot_index] = (states[knot_index][0], y)\n",
    "                    else:\n",
    "                        # need to make diagonal move\n",
    "                        x = states[knot_index][0] + directions_mapping[direction]\n",
    "                        y = states[knot_index][1] + directions_mapping[direction]\n",
    "                        states[knot_index] = (x, y)\n",
    "        "
   ]
  },
  {
   "cell_type": "code",
   "execution_count": null,
   "id": "9f26d3f6-e0d6-405b-a41f-550b8bb07f43",
   "metadata": {},
   "outputs": [],
   "source": [
    "3,1,"
   ]
  },
  {
   "cell_type": "markdown",
   "id": "7bed69ec-c67f-4795-bae6-69693d6bae13",
   "metadata": {},
   "source": [
    "```\n",
    "== U 4 ==\n",
    "\n",
    "......\n",
    "......\n",
    "......\n",
    "....H.\n",
    "4321..  (4 covers 5, 6, 7, 8, 9, s)\n",
    "\n",
    "......\n",
    "......\n",
    "....H.\n",
    ".4321.\n",
    "5.....  (5 covers 6, 7, 8, 9, s)\n",
    "```"
   ]
  },
  {
   "cell_type": "code",
   "execution_count": 137,
   "id": "d3f443a4-97de-4f0c-8d09-367ad1e89a30",
   "metadata": {
    "execution": {
     "iopub.execute_input": "2022-12-09T20:18:00.233470Z",
     "iopub.status.busy": "2022-12-09T20:18:00.233161Z",
     "iopub.status.idle": "2022-12-09T20:18:00.240023Z",
     "shell.execute_reply": "2022-12-09T20:18:00.238625Z",
     "shell.execute_reply.started": "2022-12-09T20:18:00.233445Z"
    },
    "tags": []
   },
   "outputs": [
    {
     "data": {
      "text/plain": [
       "{0: (4, 4),\n",
       " 1: (4, 3),\n",
       " 2: (4, 2),\n",
       " 3: (2, 1),\n",
       " 4: (0, 0),\n",
       " 5: (0, 0),\n",
       " 6: (0, 0),\n",
       " 7: (0, 0),\n",
       " 8: (0, 0),\n",
       " 9: (0, 0)}"
      ]
     },
     "execution_count": 137,
     "metadata": {},
     "output_type": "execute_result"
    }
   ],
   "source": [
    "states"
   ]
  },
  {
   "cell_type": "code",
   "execution_count": 113,
   "id": "3a5a1c14-c950-4885-bcf1-8dc667c658da",
   "metadata": {
    "execution": {
     "iopub.execute_input": "2022-12-09T19:59:05.357514Z",
     "iopub.status.busy": "2022-12-09T19:59:05.356938Z",
     "iopub.status.idle": "2022-12-09T19:59:05.370199Z",
     "shell.execute_reply": "2022-12-09T19:59:05.368689Z",
     "shell.execute_reply.started": "2022-12-09T19:59:05.357481Z"
    },
    "tags": []
   },
   "outputs": [
    {
     "name": "stdout",
     "output_type": "stream",
     "text": [
      "====================================================================================================\n",
      "R 4\n",
      "====================================================================================================\n",
      "1 {0: (1, 0), 1: (0, 0), 2: (0, 0), 3: (0, 0), 4: (0, 0)}\n",
      "2 {0: (1, 0), 1: (0, 0), 2: (0, 0), 3: (0, 0), 4: (0, 0)}\n",
      "3 {0: (1, 0), 1: (0, 0), 2: (0, 0), 3: (0, 0), 4: (0, 0)}\n",
      "4 {0: (1, 0), 1: (0, 0), 2: (0, 0), 3: (0, 0), 4: (0, 0)}\n",
      "$$$$$$$$$$$$$$$$$$$$$$$$$$$$$$$$$$$$$$$$$$$$$$$$$$$$$$$$$$$$$$$$$$$$$$$$$$$$$$$$$$$$$$$$$$$$$$$$$$$$\n",
      "1 {0: (2, 0), 1: (1, 0), 2: (0, 0), 3: (0, 0), 4: (0, 0)}\n",
      "2 {0: (2, 0), 1: (1, 0), 2: (0, 0), 3: (0, 0), 4: (0, 0)}\n",
      "3 {0: (2, 0), 1: (1, 0), 2: (0, 0), 3: (0, 0), 4: (0, 0)}\n",
      "4 {0: (2, 0), 1: (1, 0), 2: (0, 0), 3: (0, 0), 4: (0, 0)}\n",
      "$$$$$$$$$$$$$$$$$$$$$$$$$$$$$$$$$$$$$$$$$$$$$$$$$$$$$$$$$$$$$$$$$$$$$$$$$$$$$$$$$$$$$$$$$$$$$$$$$$$$\n",
      "1 {0: (3, 0), 1: (2, 0), 2: (0, 0), 3: (0, 0), 4: (0, 0)}\n",
      "2 {0: (3, 0), 1: (2, 0), 2: (1, 0), 3: (0, 0), 4: (0, 0)}\n",
      "3 {0: (3, 0), 1: (2, 0), 2: (1, 0), 3: (0, 0), 4: (0, 0)}\n",
      "4 {0: (3, 0), 1: (2, 0), 2: (1, 0), 3: (0, 0), 4: (0, 0)}\n",
      "$$$$$$$$$$$$$$$$$$$$$$$$$$$$$$$$$$$$$$$$$$$$$$$$$$$$$$$$$$$$$$$$$$$$$$$$$$$$$$$$$$$$$$$$$$$$$$$$$$$$\n",
      "1 {0: (4, 0), 1: (3, 0), 2: (1, 0), 3: (0, 0), 4: (0, 0)}\n",
      "2 {0: (4, 0), 1: (3, 0), 2: (2, 0), 3: (0, 0), 4: (0, 0)}\n",
      "3 {0: (4, 0), 1: (3, 0), 2: (2, 0), 3: (1, 0), 4: (0, 0)}\n",
      "4 {0: (4, 0), 1: (3, 0), 2: (2, 0), 3: (1, 0), 4: (0, 0)}\n",
      "$$$$$$$$$$$$$$$$$$$$$$$$$$$$$$$$$$$$$$$$$$$$$$$$$$$$$$$$$$$$$$$$$$$$$$$$$$$$$$$$$$$$$$$$$$$$$$$$$$$$\n",
      "^^^^^^^^^^^^^^^^^^^^^^^^^^^^^^^^^^^^^^^^^^^^^^^^^^^^^^^^^^^^^^^^^^^^^^^^^^^^^^^^^^^^^^^^^^^^^^^^^^^^\n",
      "{0: (4, 0), 1: (3, 0), 2: (2, 0), 3: (1, 0), 4: (0, 0)}\n",
      "^^^^^^^^^^^^^^^^^^^^^^^^^^^^^^^^^^^^^^^^^^^^^^^^^^^^^^^^^^^^^^^^^^^^^^^^^^^^^^^^^^^^^^^^^^^^^^^^^^^^\n",
      "====================================================================================================\n",
      "U 4\n",
      "====================================================================================================\n",
      "1 {0: (4, 1), 1: (3, 0), 2: (2, 0), 3: (1, 0), 4: (0, 0)}\n",
      "2 {0: (4, 1), 1: (3, 0), 2: (2, 0), 3: (1, 0), 4: (0, 0)}\n",
      "3 {0: (4, 1), 1: (3, 0), 2: (2, 0), 3: (1, 0), 4: (0, 0)}\n",
      "4 {0: (4, 1), 1: (3, 0), 2: (2, 0), 3: (1, 0), 4: (0, 0)}\n",
      "$$$$$$$$$$$$$$$$$$$$$$$$$$$$$$$$$$$$$$$$$$$$$$$$$$$$$$$$$$$$$$$$$$$$$$$$$$$$$$$$$$$$$$$$$$$$$$$$$$$$\n",
      "1 {0: (4, 2), 1: (4, 1), 2: (2, 0), 3: (1, 0), 4: (0, 0)}\n",
      "2 {0: (4, 2), 1: (4, 1), 2: (2, 0), 3: (1, 0), 4: (0, 0)}\n",
      "3 {0: (4, 2), 1: (4, 1), 2: (2, 0), 3: (1, 0), 4: (0, 0)}\n",
      "4 {0: (4, 2), 1: (4, 1), 2: (2, 0), 3: (1, 0), 4: (0, 0)}\n",
      "$$$$$$$$$$$$$$$$$$$$$$$$$$$$$$$$$$$$$$$$$$$$$$$$$$$$$$$$$$$$$$$$$$$$$$$$$$$$$$$$$$$$$$$$$$$$$$$$$$$$\n",
      "1 {0: (4, 3), 1: (4, 2), 2: (2, 0), 3: (1, 0), 4: (0, 0)}\n",
      "2 {0: (4, 3), 1: (4, 2), 2: (3, 1), 3: (1, 0), 4: (0, 0)}\n",
      "3 {0: (4, 3), 1: (4, 2), 2: (3, 1), 3: (1, 0), 4: (0, 0)}\n",
      "4 {0: (4, 3), 1: (4, 2), 2: (3, 1), 3: (1, 0), 4: (0, 0)}\n",
      "$$$$$$$$$$$$$$$$$$$$$$$$$$$$$$$$$$$$$$$$$$$$$$$$$$$$$$$$$$$$$$$$$$$$$$$$$$$$$$$$$$$$$$$$$$$$$$$$$$$$\n",
      "1 {0: (4, 4), 1: (4, 3), 2: (3, 1), 3: (1, 0), 4: (0, 0)}\n",
      "2 {0: (4, 4), 1: (4, 3), 2: (4, 2), 3: (1, 0), 4: (0, 0)}\n",
      "3 {0: (4, 4), 1: (4, 3), 2: (4, 2), 3: (2, 1), 4: (0, 0)}\n",
      "4 {0: (4, 4), 1: (4, 3), 2: (4, 2), 3: (2, 1), 4: (0, 0)}\n",
      "$$$$$$$$$$$$$$$$$$$$$$$$$$$$$$$$$$$$$$$$$$$$$$$$$$$$$$$$$$$$$$$$$$$$$$$$$$$$$$$$$$$$$$$$$$$$$$$$$$$$\n",
      "^^^^^^^^^^^^^^^^^^^^^^^^^^^^^^^^^^^^^^^^^^^^^^^^^^^^^^^^^^^^^^^^^^^^^^^^^^^^^^^^^^^^^^^^^^^^^^^^^^^^\n",
      "{0: (4, 4), 1: (4, 3), 2: (4, 2), 3: (2, 1), 4: (0, 0)}\n",
      "^^^^^^^^^^^^^^^^^^^^^^^^^^^^^^^^^^^^^^^^^^^^^^^^^^^^^^^^^^^^^^^^^^^^^^^^^^^^^^^^^^^^^^^^^^^^^^^^^^^^\n"
     ]
    }
   ],
   "source": [
    "generic_rope = GenericRope(n_knots=5)\n",
    "test_moves = [\"R 4\", \"U 4\"] #, \"L 3\", \"D 1\", \"R 4\", \"D 1\", \"L 5\", \"R 2\"]\n",
    "for test_move in test_moves:\n",
    "    generic_rope.move(test_move)"
   ]
  },
  {
   "cell_type": "code",
   "execution_count": 83,
   "id": "870d7446-561a-458e-b59f-cce47aa27fce",
   "metadata": {
    "execution": {
     "iopub.execute_input": "2022-12-09T19:44:16.678540Z",
     "iopub.status.busy": "2022-12-09T19:44:16.678216Z",
     "iopub.status.idle": "2022-12-09T19:44:16.682202Z",
     "shell.execute_reply": "2022-12-09T19:44:16.681289Z",
     "shell.execute_reply.started": "2022-12-09T19:44:16.678510Z"
    },
    "tags": []
   },
   "outputs": [],
   "source": [
    "# generic_rope.positions_history"
   ]
  },
  {
   "cell_type": "code",
   "execution_count": 47,
   "id": "4061af9b-9e9d-4b45-8000-443034cfd1ce",
   "metadata": {
    "execution": {
     "iopub.execute_input": "2022-12-09T17:41:17.026724Z",
     "iopub.status.busy": "2022-12-09T17:41:17.026331Z",
     "iopub.status.idle": "2022-12-09T17:41:17.030902Z",
     "shell.execute_reply": "2022-12-09T17:41:17.029994Z",
     "shell.execute_reply.started": "2022-12-09T17:41:17.026690Z"
    },
    "tags": []
   },
   "outputs": [],
   "source": [
    "generic_rope = GenericRope(n_knots=3)\n",
    "generic_rope.move(\"R 4\")"
   ]
  },
  {
   "cell_type": "code",
   "execution_count": 35,
   "id": "1f2bfdc6-1f01-494d-b623-275a565a188b",
   "metadata": {
    "execution": {
     "iopub.execute_input": "2022-12-09T17:39:23.349654Z",
     "iopub.status.busy": "2022-12-09T17:39:23.349314Z",
     "iopub.status.idle": "2022-12-09T17:39:23.354782Z",
     "shell.execute_reply": "2022-12-09T17:39:23.353667Z",
     "shell.execute_reply.started": "2022-12-09T17:39:23.349625Z"
    },
    "tags": []
   },
   "outputs": [
    {
     "name": "stdout",
     "output_type": "stream",
     "text": [
      "U 4\n",
      "{0: (4, 1), 1: (3, 0), 2: (2, 0)}\n",
      "[{0: (0, 0), 1: (0, 0), 2: (0, 0)}, {0: (1, 0), 1: (0, 0), 2: (0, 0)}, {0: (2, 0), 1: (1, 0), 2: (0, 0)}, {0: (3, 0), 1: (2, 0), 2: (1, 0)}, {0: (4, 0), 1: (3, 0), 2: (2, 0)}]\n",
      "{0: (4, 2), 1: (3, 1), 2: (2, 0)}\n",
      "[{0: (0, 0), 1: (0, 0), 2: (0, 0)}, {0: (1, 0), 1: (0, 0), 2: (0, 0)}, {0: (2, 0), 1: (1, 0), 2: (0, 0)}, {0: (3, 0), 1: (2, 0), 2: (1, 0)}, {0: (4, 0), 1: (3, 0), 2: (2, 0)}, {0: (4, 1), 1: (3, 0), 2: (2, 0)}]\n",
      "{0: (4, 3), 1: (3, 2), 2: (2, 1)}\n",
      "[{0: (0, 0), 1: (0, 0), 2: (0, 0)}, {0: (1, 0), 1: (0, 0), 2: (0, 0)}, {0: (2, 0), 1: (1, 0), 2: (0, 0)}, {0: (3, 0), 1: (2, 0), 2: (1, 0)}, {0: (4, 0), 1: (3, 0), 2: (2, 0)}, {0: (4, 1), 1: (3, 0), 2: (2, 0)}, {0: (4, 2), 1: (3, 1), 2: (2, 0)}]\n",
      "{0: (4, 4), 1: (3, 3), 2: (2, 2)}\n",
      "[{0: (0, 0), 1: (0, 0), 2: (0, 0)}, {0: (1, 0), 1: (0, 0), 2: (0, 0)}, {0: (2, 0), 1: (1, 0), 2: (0, 0)}, {0: (3, 0), 1: (2, 0), 2: (1, 0)}, {0: (4, 0), 1: (3, 0), 2: (2, 0)}, {0: (4, 1), 1: (3, 0), 2: (2, 0)}, {0: (4, 2), 1: (3, 1), 2: (2, 0)}, {0: (4, 3), 1: (3, 2), 2: (2, 1)}]\n"
     ]
    }
   ],
   "source": [
    "generic_rope.move(\"U 4\")"
   ]
  },
  {
   "cell_type": "code",
   "execution_count": 36,
   "id": "bddf1779-eb33-4be6-ab80-06f2cac711ae",
   "metadata": {
    "execution": {
     "iopub.execute_input": "2022-12-09T17:39:24.731133Z",
     "iopub.status.busy": "2022-12-09T17:39:24.730637Z",
     "iopub.status.idle": "2022-12-09T17:39:24.735291Z",
     "shell.execute_reply": "2022-12-09T17:39:24.734160Z",
     "shell.execute_reply.started": "2022-12-09T17:39:24.731102Z"
    },
    "tags": []
   },
   "outputs": [],
   "source": [
    "generic_rope = GenericRope(n_knots=3)"
   ]
  },
  {
   "cell_type": "code",
   "execution_count": 37,
   "id": "151f3b53-d7a2-4c0d-8fd5-77978ed6fed5",
   "metadata": {
    "execution": {
     "iopub.execute_input": "2022-12-09T17:39:24.934241Z",
     "iopub.status.busy": "2022-12-09T17:39:24.933662Z",
     "iopub.status.idle": "2022-12-09T17:39:24.940487Z",
     "shell.execute_reply": "2022-12-09T17:39:24.939420Z",
     "shell.execute_reply.started": "2022-12-09T17:39:24.934203Z"
    },
    "tags": []
   },
   "outputs": [
    {
     "data": {
      "text/plain": [
       "[{0: (0, 0), 1: (0, 0), 2: (0, 0)}]"
      ]
     },
     "execution_count": 37,
     "metadata": {},
     "output_type": "execute_result"
    }
   ],
   "source": [
    "generic_rope.positions_history"
   ]
  },
  {
   "cell_type": "code",
   "execution_count": 38,
   "id": "bea4d41a-4d00-4d64-8c4d-9bbbcfe50362",
   "metadata": {
    "execution": {
     "iopub.execute_input": "2022-12-09T17:39:25.405933Z",
     "iopub.status.busy": "2022-12-09T17:39:25.405424Z",
     "iopub.status.idle": "2022-12-09T17:39:25.411043Z",
     "shell.execute_reply": "2022-12-09T17:39:25.410084Z",
     "shell.execute_reply.started": "2022-12-09T17:39:25.405899Z"
    },
    "tags": []
   },
   "outputs": [
    {
     "name": "stdout",
     "output_type": "stream",
     "text": [
      "R 4\n",
      "{0: (1, 0), 1: (0, 0), 2: (0, 0)}\n",
      "[{0: (0, 0), 1: (0, 0), 2: (0, 0)}]\n",
      "{0: (2, 0), 1: (1, 0), 2: (0, 0)}\n",
      "[{0: (0, 0), 1: (0, 0), 2: (0, 0)}, {0: (1, 0), 1: (0, 0), 2: (0, 0)}]\n",
      "{0: (3, 0), 1: (2, 0), 2: (1, 0)}\n",
      "[{0: (0, 0), 1: (0, 0), 2: (0, 0)}, {0: (1, 0), 1: (0, 0), 2: (0, 0)}, {0: (2, 0), 1: (1, 0), 2: (0, 0)}]\n",
      "{0: (4, 0), 1: (3, 0), 2: (2, 0)}\n",
      "[{0: (0, 0), 1: (0, 0), 2: (0, 0)}, {0: (1, 0), 1: (0, 0), 2: (0, 0)}, {0: (2, 0), 1: (1, 0), 2: (0, 0)}, {0: (3, 0), 1: (2, 0), 2: (1, 0)}]\n"
     ]
    }
   ],
   "source": [
    "generic_rope.move(\"R 4\")"
   ]
  },
  {
   "cell_type": "code",
   "execution_count": 39,
   "id": "65d37d54-5249-4a3f-ab26-50c7f15bc6d7",
   "metadata": {
    "execution": {
     "iopub.execute_input": "2022-12-09T17:39:25.844440Z",
     "iopub.status.busy": "2022-12-09T17:39:25.844013Z",
     "iopub.status.idle": "2022-12-09T17:39:25.852932Z",
     "shell.execute_reply": "2022-12-09T17:39:25.851655Z",
     "shell.execute_reply.started": "2022-12-09T17:39:25.844371Z"
    },
    "tags": []
   },
   "outputs": [
    {
     "data": {
      "text/plain": [
       "[{0: (0, 0), 1: (0, 0), 2: (0, 0)},\n",
       " {0: (1, 0), 1: (0, 0), 2: (0, 0)},\n",
       " {0: (2, 0), 1: (1, 0), 2: (0, 0)},\n",
       " {0: (3, 0), 1: (2, 0), 2: (1, 0)},\n",
       " {0: (4, 0), 1: (3, 0), 2: (2, 0)}]"
      ]
     },
     "execution_count": 39,
     "metadata": {},
     "output_type": "execute_result"
    }
   ],
   "source": [
    "generic_rope.positions_history"
   ]
  },
  {
   "cell_type": "code",
   "execution_count": 264,
   "id": "613cb086-250b-4e3b-a690-9ac5e34c1620",
   "metadata": {
    "execution": {
     "iopub.execute_input": "2022-12-09T17:31:47.577110Z",
     "iopub.status.busy": "2022-12-09T17:31:47.576565Z",
     "iopub.status.idle": "2022-12-09T17:31:47.584900Z",
     "shell.execute_reply": "2022-12-09T17:31:47.583739Z",
     "shell.execute_reply.started": "2022-12-09T17:31:47.577077Z"
    },
    "tags": []
   },
   "outputs": [
    {
     "name": "stdout",
     "output_type": "stream",
     "text": [
      "R 4\n",
      "{0: (1, 0), 1: (0, 0), 2: (0, 0)}\n",
      "{0: (2, 0), 1: (1, 0), 2: (0, 0)}\n",
      "{0: (3, 0), 1: (2, 0), 2: (1, 0)}\n",
      "{0: (4, 0), 1: (3, 0), 2: (2, 0)}\n",
      "U 4\n",
      "{0: (4, 1), 1: (3, 0), 2: (2, 0)}\n",
      "{0: (4, 2), 1: (3, 1), 2: (2, 0)}\n",
      "{0: (4, 3), 1: (3, 2), 2: (2, 1)}\n",
      "{0: (4, 4), 1: (3, 3), 2: (2, 2)}\n",
      "L 3\n",
      "{0: (3, 4), 1: (3, 3), 2: (2, 2)}\n",
      "{0: (2, 4), 1: (3, 3), 2: (2, 2)}\n",
      "{0: (1, 4), 1: (2, 3), 2: (2, 2)}\n",
      "D 1\n",
      "{0: (1, 3), 1: (2, 3), 2: (2, 2)}\n",
      "R 4\n",
      "{0: (2, 3), 1: (2, 3), 2: (2, 2)}\n",
      "{0: (3, 3), 1: (2, 3), 2: (2, 2)}\n",
      "{0: (4, 3), 1: (3, 3), 2: (2, 2)}\n",
      "{0: (5, 3), 1: (4, 3), 2: (3, 2)}\n",
      "D 1\n",
      "{0: (5, 2), 1: (4, 3), 2: (3, 2)}\n",
      "L 5\n",
      "{0: (4, 2), 1: (4, 3), 2: (3, 2)}\n",
      "{0: (3, 2), 1: (4, 3), 2: (3, 2)}\n",
      "{0: (2, 2), 1: (3, 3), 2: (3, 2)}\n",
      "{0: (1, 2), 1: (2, 3), 2: (3, 2)}\n",
      "{0: (0, 2), 1: (1, 3), 2: (2, 2)}\n",
      "R 2\n",
      "{0: (1, 2), 1: (1, 3), 2: (2, 2)}\n",
      "{0: (2, 2), 1: (1, 3), 2: (2, 2)}\n"
     ]
    }
   ],
   "source": [
    "generic_rope = GenericRope(n_knots=3)\n",
    "test_moves = [\"R 4\", \"U 4\", \"L 3\", \"D 1\", \"R 4\", \"D 1\", \"L 5\", \"R 2\"]\n",
    "for test_move in test_moves:\n",
    "    generic_rope.move(test_move)"
   ]
  },
  {
   "cell_type": "code",
   "execution_count": 266,
   "id": "b35ccb68-3fda-4122-afc2-0cca67514efe",
   "metadata": {
    "execution": {
     "iopub.execute_input": "2022-12-09T17:32:11.595119Z",
     "iopub.status.busy": "2022-12-09T17:32:11.594788Z",
     "iopub.status.idle": "2022-12-09T17:32:11.600461Z",
     "shell.execute_reply": "2022-12-09T17:32:11.599656Z",
     "shell.execute_reply.started": "2022-12-09T17:32:11.595090Z"
    },
    "tags": []
   },
   "outputs": [
    {
     "data": {
      "text/plain": [
       "25"
      ]
     },
     "execution_count": 266,
     "metadata": {},
     "output_type": "execute_result"
    }
   ],
   "source": [
    "len(generic_rope.positions_history)"
   ]
  },
  {
   "cell_type": "code",
   "execution_count": 84,
   "id": "63bcb22f-92d2-4679-9a5e-e44879fcf672",
   "metadata": {
    "execution": {
     "iopub.execute_input": "2022-12-09T19:44:20.959853Z",
     "iopub.status.busy": "2022-12-09T19:44:20.959468Z",
     "iopub.status.idle": "2022-12-09T19:44:21.491499Z",
     "shell.execute_reply": "2022-12-09T19:44:21.490692Z",
     "shell.execute_reply.started": "2022-12-09T19:44:20.959821Z"
    },
    "tags": []
   },
   "outputs": [],
   "source": [
    "rope = GenericRope(n_knots=10)\n",
    "for move in moves:\n",
    "    rope.move(move)"
   ]
  },
  {
   "cell_type": "code",
   "execution_count": 85,
   "id": "63322b05-4842-43d5-9a52-8f09316fa07f",
   "metadata": {
    "execution": {
     "iopub.execute_input": "2022-12-09T19:44:21.493694Z",
     "iopub.status.busy": "2022-12-09T19:44:21.493153Z",
     "iopub.status.idle": "2022-12-09T19:44:21.504815Z",
     "shell.execute_reply": "2022-12-09T19:44:21.503916Z",
     "shell.execute_reply.started": "2022-12-09T19:44:21.493661Z"
    },
    "tags": []
   },
   "outputs": [
    {
     "data": {
      "text/plain": [
       "349"
      ]
     },
     "execution_count": 85,
     "metadata": {},
     "output_type": "execute_result"
    }
   ],
   "source": [
    "len(set([p[9] for p in rope.positions_history]))"
   ]
  },
  {
   "cell_type": "code",
   "execution_count": 158,
   "id": "bcf6e324-89a5-4474-8530-f431c581a44f",
   "metadata": {
    "execution": {
     "iopub.execute_input": "2022-12-09T20:27:25.052100Z",
     "iopub.status.busy": "2022-12-09T20:27:25.051769Z",
     "iopub.status.idle": "2022-12-09T20:27:25.058251Z",
     "shell.execute_reply": "2022-12-09T20:27:25.057637Z",
     "shell.execute_reply.started": "2022-12-09T20:27:25.052071Z"
    },
    "tags": []
   },
   "outputs": [
    {
     "data": {
      "text/plain": [
       "399"
      ]
     },
     "execution_count": 158,
     "metadata": {},
     "output_type": "execute_result"
    }
   ],
   "source": [
    "len(set([p[9] for p in history]))"
   ]
  },
  {
   "cell_type": "code",
   "execution_count": null,
   "id": "697c2406-3916-49e9-8157-0c6bc1366089",
   "metadata": {},
   "outputs": [],
   "source": []
  }
 ],
 "metadata": {
  "kernelspec": {
   "display_name": "Python 3 (ipykernel)",
   "language": "python",
   "name": "python3"
  },
  "language_info": {
   "codemirror_mode": {
    "name": "ipython",
    "version": 3
   },
   "file_extension": ".py",
   "mimetype": "text/x-python",
   "name": "python",
   "nbconvert_exporter": "python",
   "pygments_lexer": "ipython3",
   "version": "3.8.10"
  }
 },
 "nbformat": 4,
 "nbformat_minor": 5
}
