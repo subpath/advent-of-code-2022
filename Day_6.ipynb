{
 "cells": [
  {
   "cell_type": "markdown",
   "id": "eb257122-4360-4536-b033-7028790806c8",
   "metadata": {},
   "source": [
    "## --- Day 6: Tuning Trouble ---\n",
    "\n",
    "```\n",
    "The preparations are finally complete; you and the Elves leave camp on foot and begin to make your way toward the star fruit grove.\n",
    "\n",
    "As you move through the dense undergrowth, one of the Elves gives you a handheld device. He says that it has many fancy features, but the most important one to set up right now is the communication system.\n",
    "\n",
    "However, because he's heard you have significant experience dealing with signal-based systems, he convinced the other Elves that it would be okay to give you their one malfunctioning device - surely you'll have no problem fixing it.\n",
    "\n",
    "As if inspired by comedic timing, the device emits a few colorful sparks.\n",
    "\n",
    "To be able to communicate with the Elves, the device needs to lock on to their signal. The signal is a series of seemingly-random characters that the device receives one at a time.\n",
    "\n",
    "To fix the communication system, you need to add a subroutine to the device that detects a start-of-packet marker in the datastream. In the protocol being used by the Elves, the start of a packet is indicated by a sequence of four characters that are all different.\n",
    "\n",
    "The device will send your subroutine a datastream buffer (your puzzle input); your subroutine needs to identify the first position where the four most recently received characters were all different. Specifically, it needs to report the number of characters from the beginning of the buffer to the end of the first such four-character marker.\n",
    "\n",
    "For example, suppose you receive the following datastream buffer:\n",
    "\n",
    "mjqjpqmgbljsphdztnvjfqwrcgsmlb\n",
    "\n",
    "After the first three characters (mjq) have been received, there haven't been enough characters received yet to find the marker. The first time a marker could occur is after the fourth character is received, making the most recent four characters mjqj. Because j is repeated, this isn't a marker.\n",
    "\n",
    "The first time a marker appears is after the seventh character arrives. Once it does, the last four characters received are jpqm, which are all different. In this case, your subroutine should report the value 7, because the first start-of-packet marker is complete after 7 characters have been processed.\n",
    "\n",
    "Here are a few more examples:\n",
    "\n",
    "    bvwbjplbgvbhsrlpgdmjqwftvncz: first marker after character 5\n",
    "    nppdvjthqldpwncqszvftbrmjlhg: first marker after character 6\n",
    "    nznrnfrfntjfmvfwmzdfjlvtqnbhcprsg: first marker after character 10\n",
    "    zcfzfwzzqfrljwzlrfnpqdbhtmscgvjw: first marker after character 11\n",
    "\n",
    "How many characters need to be processed before the first start-of-packet marker is detected?\n",
    "```"
   ]
  },
  {
   "cell_type": "code",
   "execution_count": 37,
   "id": "3363dd98-8b5d-4264-8e85-053c95ee89c9",
   "metadata": {
    "execution": {
     "iopub.execute_input": "2022-12-06T05:41:46.859212Z",
     "iopub.status.busy": "2022-12-06T05:41:46.858863Z",
     "iopub.status.idle": "2022-12-06T05:41:46.864158Z",
     "shell.execute_reply": "2022-12-06T05:41:46.863168Z",
     "shell.execute_reply.started": "2022-12-06T05:41:46.859181Z"
    },
    "tags": []
   },
   "outputs": [],
   "source": [
    "def find_characters_chunk(sequence: str, window_size: int = 4) -> int:\n",
    "    for i in range(len(sequence) - window_size + 1):\n",
    "        chunk = sequence[i : i + window_size]\n",
    "        if len(\"\".join(set(chunk))) == len(chunk):\n",
    "            return i + window_size"
   ]
  },
  {
   "cell_type": "code",
   "execution_count": 41,
   "id": "0ff71ffb-4096-48f2-a353-99cbb2948065",
   "metadata": {
    "execution": {
     "iopub.execute_input": "2022-12-06T05:42:23.544007Z",
     "iopub.status.busy": "2022-12-06T05:42:23.543631Z",
     "iopub.status.idle": "2022-12-06T05:42:23.548544Z",
     "shell.execute_reply": "2022-12-06T05:42:23.547641Z",
     "shell.execute_reply.started": "2022-12-06T05:42:23.543974Z"
    },
    "tags": []
   },
   "outputs": [],
   "source": [
    "assert find_characters_chunk(\"bvwbjplbgvbhsrlpgdmjqwftvncz\") == 5\n",
    "assert find_characters_chunk(\"nppdvjthqldpwncqszvftbrmjlhg\") == 6\n",
    "assert find_characters_chunk(\"nznrnfrfntjfmvfwmzdfjlvtqnbhcprsg\") == 10\n",
    "assert find_characters_chunk(\"zcfzfwzzqfrljwzlrfnpqdbhtmscgvjw\") == 11"
   ]
  },
  {
   "cell_type": "code",
   "execution_count": 42,
   "id": "4431b6c2-f79d-41e8-bc68-de9e65636e96",
   "metadata": {
    "execution": {
     "iopub.execute_input": "2022-12-06T05:43:01.185921Z",
     "iopub.status.busy": "2022-12-06T05:43:01.185202Z",
     "iopub.status.idle": "2022-12-06T05:43:01.190651Z",
     "shell.execute_reply": "2022-12-06T05:43:01.189568Z",
     "shell.execute_reply.started": "2022-12-06T05:43:01.185885Z"
    }
   },
   "outputs": [],
   "source": [
    "with open(\"data/day_6.txt\", \"r\") as f:\n",
    "    sequence = f.read()"
   ]
  },
  {
   "cell_type": "code",
   "execution_count": 46,
   "id": "366be83e-e803-4465-ac25-232a7a9f8745",
   "metadata": {
    "execution": {
     "iopub.execute_input": "2022-12-06T05:44:10.214528Z",
     "iopub.status.busy": "2022-12-06T05:44:10.214179Z",
     "iopub.status.idle": "2022-12-06T05:44:10.220981Z",
     "shell.execute_reply": "2022-12-06T05:44:10.220170Z",
     "shell.execute_reply.started": "2022-12-06T05:44:10.214497Z"
    },
    "tags": []
   },
   "outputs": [
    {
     "data": {
      "text/plain": [
       "1544"
      ]
     },
     "execution_count": 46,
     "metadata": {},
     "output_type": "execute_result"
    }
   ],
   "source": [
    "characters_before_marker = find_characters_chunk(sequence)\n",
    "characters_before_marker"
   ]
  },
  {
   "cell_type": "code",
   "execution_count": 47,
   "id": "d85d3efc-b97d-46cb-8e5b-41392245285a",
   "metadata": {
    "execution": {
     "iopub.execute_input": "2022-12-06T05:44:12.659113Z",
     "iopub.status.busy": "2022-12-06T05:44:12.658785Z",
     "iopub.status.idle": "2022-12-06T05:44:12.662649Z",
     "shell.execute_reply": "2022-12-06T05:44:12.661767Z",
     "shell.execute_reply.started": "2022-12-06T05:44:12.659083Z"
    }
   },
   "outputs": [],
   "source": [
    "assert characters_before_marker == 1544"
   ]
  },
  {
   "cell_type": "markdown",
   "id": "4205c81f-94bc-43ee-bed1-a7892ca5a542",
   "metadata": {},
   "source": [
    "## --- Part Two ---\n",
    "\n",
    "```\n",
    "Your device's communication system is correctly detecting packets, but still isn't working. It looks like it also needs to look for messages.\n",
    "\n",
    "A start-of-message marker is just like a start-of-packet marker, except it consists of 14 distinct characters rather than 4.\n",
    "\n",
    "Here are the first positions of start-of-message markers for all of the above examples:\n",
    "\n",
    "    mjqjpqmgbljsphdztnvjfqwrcgsmlb: first marker after character 19\n",
    "    bvwbjplbgvbhsrlpgdmjqwftvncz: first marker after character 23\n",
    "    nppdvjthqldpwncqszvftbrmjlhg: first marker after character 23\n",
    "    nznrnfrfntjfmvfwmzdfjlvtqnbhcprsg: first marker after character 29\n",
    "    zcfzfwzzqfrljwzlrfnpqdbhtmscgvjw: first marker after character 26\n",
    "\n",
    "How many characters need to be processed before the first start-of-message marker is detected?\n",
    "```"
   ]
  },
  {
   "cell_type": "code",
   "execution_count": 48,
   "id": "da538bc3-7823-4bb6-858a-d0d2a1f1125c",
   "metadata": {
    "execution": {
     "iopub.execute_input": "2022-12-06T05:46:10.777118Z",
     "iopub.status.busy": "2022-12-06T05:46:10.776724Z",
     "iopub.status.idle": "2022-12-06T05:46:10.782288Z",
     "shell.execute_reply": "2022-12-06T05:46:10.781294Z",
     "shell.execute_reply.started": "2022-12-06T05:46:10.777086Z"
    }
   },
   "outputs": [],
   "source": [
    "assert find_characters_chunk(\"mjqjpqmgbljsphdztnvjfqwrcgsmlb\", window_size=14) == 19\n",
    "assert find_characters_chunk(\"bvwbjplbgvbhsrlpgdmjqwftvncz\", window_size=14) == 23\n",
    "assert find_characters_chunk(\"nppdvjthqldpwncqszvftbrmjlhg\", window_size=14) == 23\n",
    "assert find_characters_chunk(\"nznrnfrfntjfmvfwmzdfjlvtqnbhcprsg\", window_size=14) == 29\n",
    "assert find_characters_chunk(\"zcfzfwzzqfrljwzlrfnpqdbhtmscgvjw\", window_size=14) == 26"
   ]
  },
  {
   "cell_type": "code",
   "execution_count": 49,
   "id": "3c926e6c-d738-40a3-89ab-35d3ec3c9aa6",
   "metadata": {
    "execution": {
     "iopub.execute_input": "2022-12-06T05:46:23.847308Z",
     "iopub.status.busy": "2022-12-06T05:46:23.846735Z",
     "iopub.status.idle": "2022-12-06T05:46:23.857542Z",
     "shell.execute_reply": "2022-12-06T05:46:23.856399Z",
     "shell.execute_reply.started": "2022-12-06T05:46:23.847265Z"
    }
   },
   "outputs": [
    {
     "data": {
      "text/plain": [
       "2145"
      ]
     },
     "execution_count": 49,
     "metadata": {},
     "output_type": "execute_result"
    }
   ],
   "source": [
    "characters_before_marker = find_characters_chunk(sequence, window_size=14)\n",
    "characters_before_marker"
   ]
  },
  {
   "cell_type": "code",
   "execution_count": null,
   "id": "e49ae44b-f1b4-4a96-a12b-916bbd7105a4",
   "metadata": {},
   "outputs": [],
   "source": []
  }
 ],
 "metadata": {
  "kernelspec": {
   "display_name": "Python 3 (ipykernel)",
   "language": "python",
   "name": "python3"
  },
  "language_info": {
   "codemirror_mode": {
    "name": "ipython",
    "version": 3
   },
   "file_extension": ".py",
   "mimetype": "text/x-python",
   "name": "python",
   "nbconvert_exporter": "python",
   "pygments_lexer": "ipython3",
   "version": "3.8.10"
  }
 },
 "nbformat": 4,
 "nbformat_minor": 5
}
