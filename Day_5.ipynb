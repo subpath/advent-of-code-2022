{
 "cells": [
  {
   "cell_type": "markdown",
   "id": "c50e9e28-63d5-41c3-89bc-bfd181e74da1",
   "metadata": {},
   "source": [
    "## --- Day 5: Supply Stacks ---\n",
    "```\n",
    "The expedition can depart as soon as the final supplies have been unloaded from the ships. Supplies are stored in stacks of marked crates, but because the needed supplies are buried under many other crates, the crates need to be rearranged.\n",
    "\n",
    "The ship has a giant cargo crane capable of moving crates between stacks. To ensure none of the crates get crushed or fall over, the crane operator will rearrange them in a series of carefully-planned steps. After the crates are rearranged, the desired crates will be at the top of each stack.\n",
    "\n",
    "The Elves don't want to interrupt the crane operator during this delicate procedure, but they forgot to ask her which crate will end up where, and they want to be ready to unload them as soon as possible so they can embark.\n",
    "\n",
    "They do, however, have a drawing of the starting stacks of crates and the rearrangement procedure (your puzzle input). For example:\n",
    "\n",
    "    [D]    \n",
    "[N] [C]    \n",
    "[Z] [M] [P]\n",
    " 1   2   3 \n",
    "\n",
    "move 1 from 2 to 1\n",
    "move 3 from 1 to 3\n",
    "move 2 from 2 to 1\n",
    "move 1 from 1 to 2\n",
    "\n",
    "In this example, there are three stacks of crates. Stack 1 contains two crates: crate Z is on the bottom, and crate N is on top. Stack 2 contains three crates; from bottom to top, they are crates M, C, and D. Finally, stack 3 contains a single crate, P.\n",
    "\n",
    "Then, the rearrangement procedure is given. In each step of the procedure, a quantity of crates is moved from one stack to a different stack. In the first step of the above rearrangement procedure, one crate is moved from stack 2 to stack 1, resulting in this configuration:\n",
    "\n",
    "[D]        \n",
    "[N] [C]    \n",
    "[Z] [M] [P]\n",
    " 1   2   3 \n",
    "\n",
    "In the second step, three crates are moved from stack 1 to stack 3. Crates are moved one at a time, so the first crate to be moved (D) ends up below the second and third crates:\n",
    "\n",
    "        [Z]\n",
    "        [N]\n",
    "    [C] [D]\n",
    "    [M] [P]\n",
    " 1   2   3\n",
    "\n",
    "Then, both crates are moved from stack 2 to stack 1. Again, because crates are moved one at a time, crate C ends up below crate M:\n",
    "\n",
    "        [Z]\n",
    "        [N]\n",
    "[M]     [D]\n",
    "[C]     [P]\n",
    " 1   2   3\n",
    "\n",
    "Finally, one crate is moved from stack 1 to stack 2:\n",
    "\n",
    "        [Z]\n",
    "        [N]\n",
    "        [D]\n",
    "[C] [M] [P]\n",
    " 1   2   3\n",
    "\n",
    "The Elves just need to know which crate will end up on top of each stack; in this example, the top crates are C in stack 1, M in stack 2, and Z in stack 3, so you should combine these together and give the Elves the message CMZ.\n",
    "\n",
    "After the rearrangement procedure completes, what crate ends up on top of each stack?\n",
    "```"
   ]
  },
  {
   "cell_type": "markdown",
   "id": "b13fb00b-5383-4ba2-a939-e0986af22bea",
   "metadata": {},
   "source": [
    "initial configurarion\n",
    "```\n",
    "                    [L]     [H] [W]\n",
    "                [J] [Z] [J] [Q] [Q]\n",
    "[S]             [M] [C] [T] [F] [B]\n",
    "[P]     [H]     [B] [D] [G] [B] [P]\n",
    "[W]     [L] [D] [D] [J] [W] [T] [C]\n",
    "[N] [T] [R] [T] [T] [T] [M] [M] [G]\n",
    "[J] [S] [Q] [S] [Z] [W] [P] [G] [D]\n",
    "[Z] [G] [V] [V] [Q] [M] [L] [N] [R]\n",
    " 1   2   3   4   5   6   7   8   9 \n",
    "\n",
    "```"
   ]
  },
  {
   "cell_type": "code",
   "execution_count": 65,
   "id": "c463cae4-f9c8-41c5-a2f7-4e3810e93160",
   "metadata": {
    "execution": {
     "iopub.execute_input": "2022-12-05T14:25:34.910600Z",
     "iopub.status.busy": "2022-12-05T14:25:34.910208Z",
     "iopub.status.idle": "2022-12-05T14:25:34.922258Z",
     "shell.execute_reply": "2022-12-05T14:25:34.921264Z",
     "shell.execute_reply.started": "2022-12-05T14:25:34.910570Z"
    },
    "tags": []
   },
   "outputs": [],
   "source": [
    "from typing import Tuple, Dict"
   ]
  },
  {
   "cell_type": "code",
   "execution_count": 57,
   "id": "54581fca-f479-4455-887a-70716fe35464",
   "metadata": {
    "execution": {
     "iopub.execute_input": "2022-12-05T14:20:06.171105Z",
     "iopub.status.busy": "2022-12-05T14:20:06.170721Z",
     "iopub.status.idle": "2022-12-05T14:20:06.178168Z",
     "shell.execute_reply": "2022-12-05T14:20:06.175445Z",
     "shell.execute_reply.started": "2022-12-05T14:20:06.171072Z"
    },
    "tags": []
   },
   "outputs": [],
   "source": [
    "with open(\"data/day_5.txt\", \"r\") as f:\n",
    "    moves = f.read().split(\"\\n\")"
   ]
  },
  {
   "cell_type": "code",
   "execution_count": 58,
   "id": "aac60e65-66c7-4ca3-89f9-956fa7563aef",
   "metadata": {
    "execution": {
     "iopub.execute_input": "2022-12-05T14:20:06.363780Z",
     "iopub.status.busy": "2022-12-05T14:20:06.363285Z",
     "iopub.status.idle": "2022-12-05T14:20:06.372443Z",
     "shell.execute_reply": "2022-12-05T14:20:06.371140Z",
     "shell.execute_reply.started": "2022-12-05T14:20:06.363740Z"
    },
    "tags": []
   },
   "outputs": [],
   "source": [
    "def parse_move(move_command: str) -> Tuple[int]:\n",
    "    return (\n",
    "        int(move_command.split(\"move \")[1].split(\" \")[0]),\n",
    "        int(move_command.split(\"from \")[1].split(\" \")[0]),\n",
    "        int(move_command.split(\"to \")[1]),\n",
    "    )\n",
    "\n",
    "\n",
    "assert parse_move(\"move 1 from 3 to 5\") == (1, 3, 5)"
   ]
  },
  {
   "cell_type": "code",
   "execution_count": 8,
   "id": "befe7808-4392-448f-b62d-494833b65d6a",
   "metadata": {
    "execution": {
     "iopub.execute_input": "2022-12-05T14:27:16.871501Z",
     "iopub.status.busy": "2022-12-05T14:27:16.871178Z",
     "iopub.status.idle": "2022-12-05T14:27:16.878101Z",
     "shell.execute_reply": "2022-12-05T14:27:16.877348Z",
     "shell.execute_reply.started": "2022-12-05T14:27:16.871475Z"
    },
    "tags": []
   },
   "outputs": [],
   "source": [
    "def make_move(command: Tuple[int], suplies: Dict[int, str]) -> Dict[int, str]:\n",
    "    how_many_, from_, to_ = command\n",
    "    suplies_taken = suplies[from_][:how_many_][::-1]\n",
    "    suplies[to_] = suplies_taken + suplies[to_]\n",
    "    suplies[from_] = suplies[from_][how_many_:]\n",
    "    return suplies\n",
    "\n",
    "\n",
    "assert make_move((1, 2, 1), {1: \"NZ\", 2: \"DCM\", 3: \"P\"}) == {1: \"DNZ\", 2: \"CM\", 3: \"P\"}\n",
    "assert make_move((3, 1, 3), {1: \"DNZ\", 2: \"CM\", 3: \"P\"}) == {1: \"\", 2: \"CM\", 3: \"ZNDP\"}\n",
    "assert make_move((2, 2, 1), {1: \"\", 2: \"CM\", 3: \"ZNDP\"}) == {1: \"MC\", 2: \"\", 3: \"ZNDP\"}\n",
    "assert make_move((1, 1, 2), {1: \"MC\", 2: \"\", 3: \"ZNDP\"}) == {1: \"C\", 2: \"M\", 3: \"ZNDP\"}"
   ]
  },
  {
   "cell_type": "code",
   "execution_count": 10,
   "id": "90d528e7-3304-4f59-bd77-8f51ddc3b78b",
   "metadata": {
    "execution": {
     "iopub.execute_input": "2022-12-05T14:29:53.764868Z",
     "iopub.status.busy": "2022-12-05T14:29:53.764457Z",
     "iopub.status.idle": "2022-12-05T14:29:53.771030Z",
     "shell.execute_reply": "2022-12-05T14:29:53.770062Z",
     "shell.execute_reply.started": "2022-12-05T14:29:53.764837Z"
    },
    "tags": []
   },
   "outputs": [],
   "source": [
    "suplies: Dict[int, str] = {\n",
    "    1: \"SPWNJZ\",\n",
    "    2: \"TSG\",\n",
    "    3: \"HLRQV\",\n",
    "    4: \"DTSV\",\n",
    "    5: \"JMBDTZQ\",\n",
    "    6: \"LZCDJTWM\",\n",
    "    7: \"JTGWMPL\",\n",
    "    8: \"HQFBTMGN\",\n",
    "    9: \"WQBPCGDR\",\n",
    "}\n",
    "\n",
    "\n",
    "for move in moves:\n",
    "    command = parse_move(move)\n",
    "    suplies = make_move(command, suplies)"
   ]
  },
  {
   "cell_type": "code",
   "execution_count": 11,
   "id": "5a228dad-6c6e-420a-813b-3f5f4d8d2007",
   "metadata": {
    "execution": {
     "iopub.execute_input": "2022-12-05T14:30:05.050795Z",
     "iopub.status.busy": "2022-12-05T14:30:05.050420Z",
     "iopub.status.idle": "2022-12-05T14:30:05.057814Z",
     "shell.execute_reply": "2022-12-05T14:30:05.056690Z",
     "shell.execute_reply.started": "2022-12-05T14:30:05.050765Z"
    },
    "tags": []
   },
   "outputs": [
    {
     "data": {
      "text/plain": [
       "'MQTPGLLDN'"
      ]
     },
     "execution_count": 11,
     "metadata": {},
     "output_type": "execute_result"
    }
   ],
   "source": [
    "top_items = \"\".join([suplies[stack][0] for stack in suplies])\n",
    "top_items"
   ]
  },
  {
   "cell_type": "code",
   "execution_count": 12,
   "id": "85f228f7-8cbd-4da2-806e-bc93bb37c4b3",
   "metadata": {
    "execution": {
     "iopub.execute_input": "2022-12-05T14:31:55.584656Z",
     "iopub.status.busy": "2022-12-05T14:31:55.584295Z",
     "iopub.status.idle": "2022-12-05T14:31:55.588647Z",
     "shell.execute_reply": "2022-12-05T14:31:55.587689Z",
     "shell.execute_reply.started": "2022-12-05T14:31:55.584629Z"
    }
   },
   "outputs": [],
   "source": [
    "assert top_items == \"MQTPGLLDN\""
   ]
  },
  {
   "cell_type": "markdown",
   "id": "d55865ab-7d8c-43a6-9781-ea32460eac18",
   "metadata": {
    "execution": {
     "iopub.execute_input": "2022-12-05T14:25:46.356672Z",
     "iopub.status.busy": "2022-12-05T14:25:46.356365Z",
     "iopub.status.idle": "2022-12-05T14:25:46.364048Z",
     "shell.execute_reply": "2022-12-05T14:25:46.363340Z",
     "shell.execute_reply.started": "2022-12-05T14:25:46.356647Z"
    },
    "tags": []
   },
   "source": [
    "## --- Part Two ---\n",
    "```\n",
    "As you watch the crane operator expertly rearrange the crates, you notice the process isn't following your prediction.\n",
    "\n",
    "Some mud was covering the writing on the side of the crane, and you quickly wipe it away. The crane isn't a CrateMover 9000 - it's a CrateMover 9001.\n",
    "\n",
    "The CrateMover 9001 is notable for many new and exciting features: air conditioning, leather seats, an extra cup holder, and the ability to pick up and move multiple crates at once.\n",
    "\n",
    "Again considering the example above, the crates begin in the same configuration:\n",
    "\n",
    "    [D]    \n",
    "[N] [C]    \n",
    "[Z] [M] [P]\n",
    " 1   2   3 \n",
    "\n",
    "Moving a single crate from stack 2 to stack 1 behaves the same as before:\n",
    "\n",
    "[D]        \n",
    "[N] [C]    \n",
    "[Z] [M] [P]\n",
    " 1   2   3 \n",
    "\n",
    "However, the action of moving three crates from stack 1 to stack 3 means that those three moved crates stay in the same order, resulting in this new configuration:\n",
    "\n",
    "        [D]\n",
    "        [N]\n",
    "    [C] [Z]\n",
    "    [M] [P]\n",
    " 1   2   3\n",
    "\n",
    "Next, as both crates are moved from stack 2 to stack 1, they retain their order as well:\n",
    "\n",
    "        [D]\n",
    "        [N]\n",
    "[C]     [Z]\n",
    "[M]     [P]\n",
    " 1   2   3\n",
    "\n",
    "Finally, a single crate is still moved from stack 1 to stack 2, but now it's crate C that gets moved:\n",
    "\n",
    "        [D]\n",
    "        [N]\n",
    "        [Z]\n",
    "[M] [C] [P]\n",
    " 1   2   3\n",
    "\n",
    "In this example, the CrateMover 9001 has put the crates in a totally different order: MCD.\n",
    "\n",
    "Before the rearrangement process finishes, update your simulation so that the Elves know where they should stand to be ready to unload the final supplies. After the rearrangement procedure completes, what crate ends up on top of each stack?\n",
    "\n",
    "```"
   ]
  },
  {
   "cell_type": "code",
   "execution_count": 15,
   "id": "5dcaff53-ee74-44b7-9088-f42e48532d03",
   "metadata": {
    "execution": {
     "iopub.execute_input": "2022-12-05T20:17:17.240726Z",
     "iopub.status.busy": "2022-12-05T20:17:17.240393Z",
     "iopub.status.idle": "2022-12-05T20:17:17.247830Z",
     "shell.execute_reply": "2022-12-05T20:17:17.246929Z",
     "shell.execute_reply.started": "2022-12-05T20:17:17.240698Z"
    },
    "tags": []
   },
   "outputs": [],
   "source": [
    "def make_move_part_two(command: Tuple[int], suplies: Dict[int, str]) -> Dict[int, str]:\n",
    "    how_many_, from_, to_ = command\n",
    "    suplies_taken = suplies[from_][:how_many_]\n",
    "    suplies[to_] = suplies_taken + suplies[to_]\n",
    "    suplies[from_] = suplies[from_][how_many_:]\n",
    "    return suplies\n",
    "\n",
    "\n",
    "assert make_move_part_two((1, 2, 1), {1: \"NZ\", 2: \"DCM\", 3: \"P\"}) == {\n",
    "    1: \"DNZ\",\n",
    "    2: \"CM\",\n",
    "    3: \"P\",\n",
    "}\n",
    "assert make_move_part_two((3, 1, 3), {1: \"DNZ\", 2: \"CM\", 3: \"P\"}) == {\n",
    "    1: \"\",\n",
    "    2: \"CM\",\n",
    "    3: \"DNZP\",\n",
    "}\n",
    "assert make_move_part_two((2, 2, 1), {1: \"\", 2: \"CM\", 3: \"ZNDP\"}) == {\n",
    "    1: \"CM\",\n",
    "    2: \"\",\n",
    "    3: \"ZNDP\",\n",
    "}\n",
    "assert make_move_part_two((1, 1, 2), {1: \"MC\", 2: \"\", 3: \"ZNDP\"}) == {\n",
    "    1: \"C\",\n",
    "    2: \"M\",\n",
    "    3: \"ZNDP\",\n",
    "}"
   ]
  },
  {
   "cell_type": "code",
   "execution_count": 16,
   "id": "d48d71b9-490b-4f38-8f25-b721ca74fc01",
   "metadata": {
    "execution": {
     "iopub.execute_input": "2022-12-05T20:17:26.972809Z",
     "iopub.status.busy": "2022-12-05T20:17:26.972281Z",
     "iopub.status.idle": "2022-12-05T20:17:26.980359Z",
     "shell.execute_reply": "2022-12-05T20:17:26.978403Z",
     "shell.execute_reply.started": "2022-12-05T20:17:26.972767Z"
    }
   },
   "outputs": [],
   "source": [
    "suplies: Dict[int, str] = {\n",
    "    1: \"SPWNJZ\",\n",
    "    2: \"TSG\",\n",
    "    3: \"HLRQV\",\n",
    "    4: \"DTSV\",\n",
    "    5: \"JMBDTZQ\",\n",
    "    6: \"LZCDJTWM\",\n",
    "    7: \"JTGWMPL\",\n",
    "    8: \"HQFBTMGN\",\n",
    "    9: \"WQBPCGDR\",\n",
    "}\n",
    "\n",
    "\n",
    "for move in moves:\n",
    "    command = parse_move(move)\n",
    "    suplies = make_move_part_two(command, suplies)"
   ]
  },
  {
   "cell_type": "code",
   "execution_count": 17,
   "id": "8033041e-1627-4af8-a90e-5175f082e380",
   "metadata": {
    "execution": {
     "iopub.execute_input": "2022-12-05T20:17:31.852359Z",
     "iopub.status.busy": "2022-12-05T20:17:31.851988Z",
     "iopub.status.idle": "2022-12-05T20:17:31.859437Z",
     "shell.execute_reply": "2022-12-05T20:17:31.858623Z",
     "shell.execute_reply.started": "2022-12-05T20:17:31.852327Z"
    }
   },
   "outputs": [
    {
     "data": {
      "text/plain": [
       "'LVZPSTTCZ'"
      ]
     },
     "execution_count": 17,
     "metadata": {},
     "output_type": "execute_result"
    }
   ],
   "source": [
    "top_items = \"\".join([suplies[stack][0] for stack in suplies])\n",
    "top_items"
   ]
  },
  {
   "cell_type": "code",
   "execution_count": 18,
   "id": "cb5da7dd-d451-445c-8f9a-92f403bfef1c",
   "metadata": {
    "execution": {
     "iopub.execute_input": "2022-12-05T20:17:58.392283Z",
     "iopub.status.busy": "2022-12-05T20:17:58.391916Z",
     "iopub.status.idle": "2022-12-05T20:17:58.395681Z",
     "shell.execute_reply": "2022-12-05T20:17:58.394953Z",
     "shell.execute_reply.started": "2022-12-05T20:17:58.392259Z"
    }
   },
   "outputs": [],
   "source": [
    "assert top_items == \"LVZPSTTCZ\""
   ]
  },
  {
   "cell_type": "code",
   "execution_count": null,
   "id": "39c4a443-2174-438f-83fa-767a49e58c6f",
   "metadata": {},
   "outputs": [],
   "source": []
  }
 ],
 "metadata": {
  "kernelspec": {
   "display_name": "Python 3 (ipykernel)",
   "language": "python",
   "name": "python3"
  },
  "language_info": {
   "codemirror_mode": {
    "name": "ipython",
    "version": 3
   },
   "file_extension": ".py",
   "mimetype": "text/x-python",
   "name": "python",
   "nbconvert_exporter": "python",
   "pygments_lexer": "ipython3",
   "version": "3.8.10"
  }
 },
 "nbformat": 4,
 "nbformat_minor": 5
}
