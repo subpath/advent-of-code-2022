{
 "cells": [
  {
   "cell_type": "markdown",
   "id": "2d38183f-3c81-4add-80bb-ee913b5219b8",
   "metadata": {},
   "source": [
    "# --- Day 4: Camp Cleanup ---\n",
    "```\n",
    "Space needs to be cleared before the last supplies can be unloaded from the ships, and so several Elves have been assigned the job of cleaning up sections of the camp. Every section has a unique ID number, and each Elf is assigned a range of section IDs.\n",
    "\n",
    "However, as some of the Elves compare their section assignments with each other, they've noticed that many of the assignments overlap. To try to quickly find overlaps and reduce duplicated effort, the Elves pair up and make a big list of the section assignments for each pair (your puzzle input).\n",
    "\n",
    "For example, consider the following list of section assignment pairs:\n",
    "\n",
    "2-4,6-8\n",
    "2-3,4-5\n",
    "5-7,7-9\n",
    "2-8,3-7\n",
    "6-6,4-6\n",
    "2-6,4-8\n",
    "\n",
    "For the first few pairs, this list means:\n",
    "\n",
    "    Within the first pair of Elves, the first Elf was assigned sections 2-4 (sections 2, 3, and 4), while the second Elf was assigned sections 6-8 (sections 6, 7, 8).\n",
    "    The Elves in the second pair were each assigned two sections.\n",
    "    The Elves in the third pair were each assigned three sections: one got sections 5, 6, and 7, while the other also got 7, plus 8 and 9.\n",
    "\n",
    "This example list uses single-digit section IDs to make it easier to draw; your actual list might contain larger numbers. Visually, these pairs of section assignments look like this:\n",
    "\n",
    ".234.....  2-4\n",
    ".....678.  6-8\n",
    "\n",
    ".23......  2-3\n",
    "...45....  4-5\n",
    "\n",
    "....567..  5-7\n",
    "......789  7-9\n",
    "\n",
    ".2345678.  2-8\n",
    "..34567..  3-7\n",
    "\n",
    ".....6...  6-6\n",
    "...456...  4-6\n",
    "\n",
    ".23456...  2-6\n",
    "...45678.  4-8\n",
    "\n",
    "Some of the pairs have noticed that one of their assignments fully contains the other. For example, 2-8 fully contains 3-7, and 6-6 is fully contained by 4-6. In pairs where one assignment fully contains the other, one Elf in the pair would be exclusively cleaning sections their partner will already be cleaning, so these seem like the most in need of reconsideration. In this example, there are 2 such pairs.\n",
    "\n",
    "In how many assignment pairs does one range fully contain the other?\n",
    "```"
   ]
  },
  {
   "cell_type": "code",
   "execution_count": 63,
   "id": "8e8a514e-5c8b-4447-a092-353294212c45",
   "metadata": {
    "execution": {
     "iopub.execute_input": "2022-12-04T08:18:12.006927Z",
     "iopub.status.busy": "2022-12-04T08:18:12.006432Z",
     "iopub.status.idle": "2022-12-04T08:18:12.010967Z",
     "shell.execute_reply": "2022-12-04T08:18:12.009965Z",
     "shell.execute_reply.started": "2022-12-04T08:18:12.006877Z"
    },
    "tags": []
   },
   "outputs": [],
   "source": [
    "from typing import List, Tuple"
   ]
  },
  {
   "cell_type": "code",
   "execution_count": 64,
   "id": "c5ad0c57-28f1-49f9-b272-3d20596949a3",
   "metadata": {
    "execution": {
     "iopub.execute_input": "2022-12-04T08:18:12.284223Z",
     "iopub.status.busy": "2022-12-04T08:18:12.283565Z",
     "iopub.status.idle": "2022-12-04T08:18:12.289297Z",
     "shell.execute_reply": "2022-12-04T08:18:12.288552Z",
     "shell.execute_reply.started": "2022-12-04T08:18:12.284177Z"
    },
    "tags": []
   },
   "outputs": [],
   "source": [
    "with open(\"data/day_4.txt\", \"r\") as f:\n",
    "    pairs = f.read().split(\"\\n\")"
   ]
  },
  {
   "cell_type": "code",
   "execution_count": 65,
   "id": "417e4b69-047c-478c-931d-59bb3362f7d1",
   "metadata": {
    "execution": {
     "iopub.execute_input": "2022-12-04T08:18:13.970391Z",
     "iopub.status.busy": "2022-12-04T08:18:13.969899Z",
     "iopub.status.idle": "2022-12-04T08:18:13.975374Z",
     "shell.execute_reply": "2022-12-04T08:18:13.974167Z",
     "shell.execute_reply.started": "2022-12-04T08:18:13.970357Z"
    },
    "tags": []
   },
   "outputs": [],
   "source": [
    "def parse_range(string_range: str) -> Tuple[int, int]:\n",
    "    first_number, second_number = string_range.split(\"-\")\n",
    "    return int(first_number), int(second_number)\n",
    "\n",
    "\n",
    "assert parse_range(\"75-76\") == (75, 76)"
   ]
  },
  {
   "cell_type": "code",
   "execution_count": 66,
   "id": "6b4ea8f8-771d-45d7-bee0-f52df282ea54",
   "metadata": {
    "execution": {
     "iopub.execute_input": "2022-12-04T08:18:14.626856Z",
     "iopub.status.busy": "2022-12-04T08:18:14.626517Z",
     "iopub.status.idle": "2022-12-04T08:18:14.632647Z",
     "shell.execute_reply": "2022-12-04T08:18:14.631512Z",
     "shell.execute_reply.started": "2022-12-04T08:18:14.626826Z"
    },
    "tags": []
   },
   "outputs": [],
   "source": [
    "def parse_pair(pair: str) -> Tuple[Tuple[int]]:\n",
    "    first_string, second_string = pair.split(\",\")\n",
    "    first_range = parse_range(first_string)\n",
    "    second_range = parse_range(second_string)\n",
    "    return first_range, second_range\n",
    "\n",
    "\n",
    "assert parse_pair(\"1-2,3-4\") == ((1, 2), (3, 4))"
   ]
  },
  {
   "cell_type": "code",
   "execution_count": 41,
   "id": "3fb1c9fe-3bcf-4eef-b64a-492f13b9d017",
   "metadata": {
    "execution": {
     "iopub.execute_input": "2022-12-04T07:59:37.380694Z",
     "iopub.status.busy": "2022-12-04T07:59:37.380022Z",
     "iopub.status.idle": "2022-12-04T07:59:37.389206Z",
     "shell.execute_reply": "2022-12-04T07:59:37.387536Z",
     "shell.execute_reply.started": "2022-12-04T07:59:37.380650Z"
    },
    "tags": []
   },
   "outputs": [],
   "source": [
    "def is_fully_overlap(sections: Tuple[Tuple[int]]) -> bool:\n",
    "    section1, section2 = sections\n",
    "    if section1[0] <= section2[0] and section1[1] >= section2[1]:\n",
    "        return True\n",
    "    elif section2[0] <= section1[0] and section2[1] >= section1[1]:\n",
    "        return True\n",
    "    return False\n",
    "\n",
    "\n",
    "assert is_fully_overlap(((1, 4), (3, 4)))\n",
    "assert not is_fully_overlap(((1, 3), (3, 4)))"
   ]
  },
  {
   "cell_type": "code",
   "execution_count": 42,
   "id": "c8ccde17-f2b8-45c8-aecd-469dac2ace1b",
   "metadata": {
    "execution": {
     "iopub.execute_input": "2022-12-04T07:59:38.110485Z",
     "iopub.status.busy": "2022-12-04T07:59:38.110204Z",
     "iopub.status.idle": "2022-12-04T07:59:38.115964Z",
     "shell.execute_reply": "2022-12-04T07:59:38.115315Z",
     "shell.execute_reply.started": "2022-12-04T07:59:38.110463Z"
    },
    "tags": []
   },
   "outputs": [],
   "source": [
    "fully_overlap_counter: int = 0\n",
    "for pair in pairs:\n",
    "    sections = parse_pair(pair)\n",
    "    fully_overlap_counter += is_fully_overlap(sections)"
   ]
  },
  {
   "cell_type": "code",
   "execution_count": 43,
   "id": "f05a9a3e-ea24-4e14-a1df-2e17f2225fb4",
   "metadata": {
    "execution": {
     "iopub.execute_input": "2022-12-04T07:59:44.078806Z",
     "iopub.status.busy": "2022-12-04T07:59:44.078333Z",
     "iopub.status.idle": "2022-12-04T07:59:44.084489Z",
     "shell.execute_reply": "2022-12-04T07:59:44.083474Z",
     "shell.execute_reply.started": "2022-12-04T07:59:44.078765Z"
    }
   },
   "outputs": [
    {
     "data": {
      "text/plain": [
       "496"
      ]
     },
     "execution_count": 43,
     "metadata": {},
     "output_type": "execute_result"
    }
   ],
   "source": [
    "fully_overlap_counter"
   ]
  },
  {
   "cell_type": "code",
   "execution_count": 44,
   "id": "cf86af4c-983c-4e9b-8206-a0ed003cf43e",
   "metadata": {
    "execution": {
     "iopub.execute_input": "2022-12-04T08:00:07.525380Z",
     "iopub.status.busy": "2022-12-04T08:00:07.524865Z",
     "iopub.status.idle": "2022-12-04T08:00:07.529683Z",
     "shell.execute_reply": "2022-12-04T08:00:07.528528Z",
     "shell.execute_reply.started": "2022-12-04T08:00:07.525344Z"
    }
   },
   "outputs": [],
   "source": [
    "assert fully_overlap_counter == 496"
   ]
  },
  {
   "cell_type": "markdown",
   "id": "0266f0ac-d594-4c1f-a894-27c299f285a5",
   "metadata": {},
   "source": [
    "## --- Part Two ---\n",
    "```\n",
    "It seems like there is still quite a bit of duplicate work planned. Instead, the Elves would like to know the number of pairs that overlap at all.\n",
    "\n",
    "In the above example, the first two pairs (2-4,6-8 and 2-3,4-5) don't overlap, while the remaining four pairs (5-7,7-9, 2-8,3-7, 6-6,4-6, and 2-6,4-8) do overlap:\n",
    "\n",
    "    5-7,7-9 overlaps in a single section, 7.\n",
    "    2-8,3-7 overlaps all of the sections 3 through 7.\n",
    "    6-6,4-6 overlaps in a single section, 6.\n",
    "    2-6,4-8 overlaps in sections 4, 5, and 6.\n",
    "\n",
    "So, in this example, the number of overlapping assignment pairs is 4.\n",
    "\n",
    "In how many assignment pairs do the ranges overlap?\n",
    "```"
   ]
  },
  {
   "cell_type": "code",
   "execution_count": 82,
   "id": "2693392f-5837-4176-befb-f593d1a5ff0d",
   "metadata": {
    "execution": {
     "iopub.execute_input": "2022-12-04T08:31:52.878663Z",
     "iopub.status.busy": "2022-12-04T08:31:52.878073Z",
     "iopub.status.idle": "2022-12-04T08:31:52.884028Z",
     "shell.execute_reply": "2022-12-04T08:31:52.882966Z",
     "shell.execute_reply.started": "2022-12-04T08:31:52.878614Z"
    },
    "tags": []
   },
   "outputs": [],
   "source": [
    "def is_overlap(sections: Tuple[Tuple[int]]) -> bool:\n",
    "    section1, section2 = sections\n",
    "    if section1[1] >= section2[0] and section1[0] <= section2[1]:\n",
    "        return True\n",
    "    elif section2[1] >= section1[0] and section2[0] <= section1[1]:\n",
    "        return True\n",
    "    return False"
   ]
  },
  {
   "cell_type": "code",
   "execution_count": 84,
   "id": "1f198d75-91e0-4155-93d7-a69fa3639d39",
   "metadata": {
    "execution": {
     "iopub.execute_input": "2022-12-04T08:32:09.256360Z",
     "iopub.status.busy": "2022-12-04T08:32:09.255985Z",
     "iopub.status.idle": "2022-12-04T08:32:09.261601Z",
     "shell.execute_reply": "2022-12-04T08:32:09.260807Z",
     "shell.execute_reply.started": "2022-12-04T08:32:09.256331Z"
    },
    "tags": []
   },
   "outputs": [],
   "source": [
    "assert not is_overlap(((1, 2), (3, 4)))\n",
    "assert not is_overlap(((2, 4), (6, 8)))\n",
    "assert not is_overlap(((2, 3), (4, 5)))\n",
    "assert not is_overlap(((4, 6), (2, 3)))\n",
    "assert not is_overlap(((2, 3), (4, 6)))\n",
    "assert is_overlap(((1, 3), (3, 4)))\n",
    "assert is_overlap(((1, 6), (4, 9)))"
   ]
  },
  {
   "cell_type": "code",
   "execution_count": 86,
   "id": "65f20b2e-a578-43ea-9535-76dc1d6b1084",
   "metadata": {
    "execution": {
     "iopub.execute_input": "2022-12-04T08:32:17.568704Z",
     "iopub.status.busy": "2022-12-04T08:32:17.568241Z",
     "iopub.status.idle": "2022-12-04T08:32:17.574830Z",
     "shell.execute_reply": "2022-12-04T08:32:17.573893Z",
     "shell.execute_reply.started": "2022-12-04T08:32:17.568673Z"
    },
    "tags": []
   },
   "outputs": [],
   "source": [
    "overlap_counter: int = 0\n",
    "for pair in pairs:\n",
    "    sections = parse_pair(pair)\n",
    "    overlap_counter += is_overlap(sections)"
   ]
  },
  {
   "cell_type": "code",
   "execution_count": 87,
   "id": "cd74785d-35e7-410c-b003-c98c2c7107e2",
   "metadata": {
    "execution": {
     "iopub.execute_input": "2022-12-04T08:32:17.868116Z",
     "iopub.status.busy": "2022-12-04T08:32:17.867562Z",
     "iopub.status.idle": "2022-12-04T08:32:17.873930Z",
     "shell.execute_reply": "2022-12-04T08:32:17.873082Z",
     "shell.execute_reply.started": "2022-12-04T08:32:17.868074Z"
    },
    "tags": []
   },
   "outputs": [
    {
     "data": {
      "text/plain": [
       "847"
      ]
     },
     "execution_count": 87,
     "metadata": {},
     "output_type": "execute_result"
    }
   ],
   "source": [
    "overlap_counter"
   ]
  },
  {
   "cell_type": "code",
   "execution_count": 88,
   "id": "2f410de1-b397-4f92-9306-ed058ef42db2",
   "metadata": {
    "execution": {
     "iopub.execute_input": "2022-12-04T08:32:39.294614Z",
     "iopub.status.busy": "2022-12-04T08:32:39.294122Z",
     "iopub.status.idle": "2022-12-04T08:32:39.322938Z",
     "shell.execute_reply": "2022-12-04T08:32:39.321350Z",
     "shell.execute_reply.started": "2022-12-04T08:32:39.294570Z"
    },
    "tags": []
   },
   "outputs": [],
   "source": [
    "assert overlap_counter == 847"
   ]
  },
  {
   "cell_type": "code",
   "execution_count": null,
   "id": "1c6d6c90-3138-43a6-bd80-2f523b72a534",
   "metadata": {},
   "outputs": [],
   "source": []
  }
 ],
 "metadata": {
  "kernelspec": {
   "display_name": "Python 3 (ipykernel)",
   "language": "python",
   "name": "python3"
  },
  "language_info": {
   "codemirror_mode": {
    "name": "ipython",
    "version": 3
   },
   "file_extension": ".py",
   "mimetype": "text/x-python",
   "name": "python",
   "nbconvert_exporter": "python",
   "pygments_lexer": "ipython3",
   "version": "3.8.10"
  }
 },
 "nbformat": 4,
 "nbformat_minor": 5
}
