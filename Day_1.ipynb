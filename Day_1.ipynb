{
 "cells": [
  {
   "cell_type": "markdown",
   "id": "ce31763a-6443-4ea6-aa82-447a5ac3d20a",
   "metadata": {
    "execution": {
     "iopub.execute_input": "2022-12-01T19:35:00.490655Z",
     "iopub.status.busy": "2022-12-01T19:35:00.490197Z",
     "iopub.status.idle": "2022-12-01T19:35:00.514414Z",
     "shell.execute_reply": "2022-12-01T19:35:00.512093Z",
     "shell.execute_reply.started": "2022-12-01T19:35:00.490572Z"
    }
   },
   "source": [
    "# Task\n",
    "```txt\n",
    "The jungle must be too overgrown and difficult to navigate in vehicles or access from the air; the Elves' expedition traditionally goes on foot. As your boats approach land, the Elves begin taking inventory of their supplies. One important consideration is food - in particular, the number of Calories each Elf is carrying (your puzzle input).\n",
    "\n",
    "The Elves take turns writing down the number of Calories contained by the various meals, snacks, rations, etc. that they've brought with them, one item per line. Each Elf separates their own inventory from the previous Elf's inventory (if any) by a blank line.\n",
    "\n",
    "For example, suppose the Elves finish writing their items' Calories and end up with the following list:\n",
    "\n",
    "1000\n",
    "2000\n",
    "3000\n",
    "\n",
    "4000\n",
    "\n",
    "5000\n",
    "6000\n",
    "\n",
    "7000\n",
    "8000\n",
    "9000\n",
    "\n",
    "10000\n",
    "\n",
    "This list represents the Calories of the food carried by five Elves:\n",
    "\n",
    "    The first Elf is carrying food with 1000, 2000, and 3000 Calories, a total of 6000 Calories.\n",
    "    The second Elf is carrying one food item with 4000 Calories.\n",
    "    The third Elf is carrying food with 5000 and 6000 Calories, a total of 11000 Calories.\n",
    "    The fourth Elf is carrying food with 7000, 8000, and 9000 Calories, a total of 24000 Calories.\n",
    "    The fifth Elf is carrying one food item with 10000 Calories.\n",
    "\n",
    "In case the Elves get hungry and need extra snacks, they need to know which Elf to ask: they'd like to know how many Calories are being carried by the Elf carrying the most Calories. In the example above, this is 24000 (carried by the fourth Elf).\n",
    "\n",
    "Find the Elf carrying the most Calories. How many total Calories is that Elf carrying?\n",
    "```"
   ]
  },
  {
   "cell_type": "code",
   "execution_count": 23,
   "id": "5cadb54e-6646-444e-a092-5f64d4548a9d",
   "metadata": {
    "execution": {
     "iopub.execute_input": "2022-12-01T19:39:11.307019Z",
     "iopub.status.busy": "2022-12-01T19:39:11.306658Z",
     "iopub.status.idle": "2022-12-01T19:39:11.311942Z",
     "shell.execute_reply": "2022-12-01T19:39:11.310936Z",
     "shell.execute_reply.started": "2022-12-01T19:39:11.306988Z"
    },
    "tags": []
   },
   "outputs": [],
   "source": [
    "with open(\"data/day_1_1.csv\", \"r\") as f:\n",
    "    calories_per_elf = f.read().split(\"\\n\\n\")\n",
    "calories_per_elf = [elf_calories.split(\"\\n\") for elf_calories in calories_per_elf]\n"
   ]
  },
  {
   "cell_type": "code",
   "execution_count": 25,
   "id": "35f4c35a-42b6-480d-bc72-bbc0ae6b22cd",
   "metadata": {
    "execution": {
     "iopub.execute_input": "2022-12-01T19:40:00.199403Z",
     "iopub.status.busy": "2022-12-01T19:40:00.198840Z",
     "iopub.status.idle": "2022-12-01T19:40:00.204069Z",
     "shell.execute_reply": "2022-12-01T19:40:00.202939Z",
     "shell.execute_reply.started": "2022-12-01T19:40:00.199373Z"
    },
    "tags": []
   },
   "outputs": [],
   "source": [
    "sum_cals_per_elf = [sum([int(c) for c in cals]) for cals in calories_per_elf]"
   ]
  },
  {
   "cell_type": "code",
   "execution_count": 39,
   "id": "d59cece8-ad5b-442e-b6d3-b690846bd449",
   "metadata": {
    "execution": {
     "iopub.execute_input": "2022-12-01T19:43:15.107921Z",
     "iopub.status.busy": "2022-12-01T19:43:15.107042Z",
     "iopub.status.idle": "2022-12-01T19:43:15.114083Z",
     "shell.execute_reply": "2022-12-01T19:43:15.113084Z",
     "shell.execute_reply.started": "2022-12-01T19:43:15.107875Z"
    },
    "tags": []
   },
   "outputs": [
    {
     "data": {
      "text/plain": [
       "67450"
      ]
     },
     "execution_count": 39,
     "metadata": {},
     "output_type": "execute_result"
    }
   ],
   "source": [
    "top_calories = max(sum_cals_per_elf)\n",
    "top_calories"
   ]
  },
  {
   "cell_type": "code",
   "execution_count": 40,
   "id": "23b64435-39d8-4623-b76a-d26adccaf28c",
   "metadata": {
    "execution": {
     "iopub.execute_input": "2022-12-01T19:43:22.902667Z",
     "iopub.status.busy": "2022-12-01T19:43:22.902341Z",
     "iopub.status.idle": "2022-12-01T19:43:22.906672Z",
     "shell.execute_reply": "2022-12-01T19:43:22.905497Z",
     "shell.execute_reply.started": "2022-12-01T19:43:22.902638Z"
    },
    "tags": []
   },
   "outputs": [],
   "source": [
    "assert(top_calories == 67450)"
   ]
  },
  {
   "cell_type": "markdown",
   "id": "89518a78-8634-4bbc-8ea4-34d10d4fc546",
   "metadata": {},
   "source": [
    "```txt\n",
    "--- Part Two ---\n",
    "\n",
    "By the time you calculate the answer to the Elves' question, they've already realized that the Elf carrying the most Calories of food might eventually run out of snacks.\n",
    "\n",
    "To avoid this unacceptable situation, the Elves would instead like to know the total Calories carried by the top three Elves carrying the most Calories. That way, even if one of those Elves runs out of snacks, they still have two backups.\n",
    "\n",
    "In the example above, the top three Elves are the fourth Elf (with 24000 Calories), then the third Elf (with 11000 Calories), then the fifth Elf (with 10000 Calories). The sum of the Calories carried by these three elves is 45000.\n",
    "\n",
    "Find the top three Elves carrying the most Calories. How many Calories are those Elves carrying in total?\n",
    "\n",
    "\n",
    "```"
   ]
  },
  {
   "cell_type": "code",
   "execution_count": 37,
   "id": "94803dd5-d85c-4cb8-ab75-a3bf4425af7a",
   "metadata": {
    "execution": {
     "iopub.execute_input": "2022-12-01T19:43:03.420274Z",
     "iopub.status.busy": "2022-12-01T19:43:03.419896Z",
     "iopub.status.idle": "2022-12-01T19:43:03.425947Z",
     "shell.execute_reply": "2022-12-01T19:43:03.425083Z",
     "shell.execute_reply.started": "2022-12-01T19:43:03.420234Z"
    },
    "tags": []
   },
   "outputs": [
    {
     "data": {
      "text/plain": [
       "199357"
      ]
     },
     "execution_count": 37,
     "metadata": {},
     "output_type": "execute_result"
    }
   ],
   "source": [
    "sum_of_top_3 = sum(sorted(sum_cals_per_elf, reverse=True)[:3])\n",
    "sum_of_top_3"
   ]
  },
  {
   "cell_type": "code",
   "execution_count": 36,
   "id": "6f6fa804-5c97-4b51-a10b-9c2203da98e4",
   "metadata": {
    "execution": {
     "iopub.execute_input": "2022-12-01T19:43:02.105463Z",
     "iopub.status.busy": "2022-12-01T19:43:02.105050Z",
     "iopub.status.idle": "2022-12-01T19:43:02.110197Z",
     "shell.execute_reply": "2022-12-01T19:43:02.108953Z",
     "shell.execute_reply.started": "2022-12-01T19:43:02.105430Z"
    }
   },
   "outputs": [],
   "source": [
    "assert(sum_of_top_3 == 199357)"
   ]
  },
  {
   "cell_type": "code",
   "execution_count": null,
   "id": "c91e4a98-37ca-4d45-a3c7-609d41a4cf9c",
   "metadata": {},
   "outputs": [],
   "source": []
  }
 ],
 "metadata": {
  "kernelspec": {
   "display_name": "Python 3 (ipykernel)",
   "language": "python",
   "name": "python3"
  },
  "language_info": {
   "codemirror_mode": {
    "name": "ipython",
    "version": 3
   },
   "file_extension": ".py",
   "mimetype": "text/x-python",
   "name": "python",
   "nbconvert_exporter": "python",
   "pygments_lexer": "ipython3",
   "version": "3.8.10"
  }
 },
 "nbformat": 4,
 "nbformat_minor": 5
}
