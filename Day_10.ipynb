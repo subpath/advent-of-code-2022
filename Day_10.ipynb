{
 "cells": [
  {
   "cell_type": "markdown",
   "id": "75ebcd78-58e0-47db-947b-5f32f2fe98a8",
   "metadata": {},
   "source": [
    "## --- Day 10: Cathode-Ray Tube ---\n",
    "```\n",
    "You avoid the ropes, plunge into the river, and swim to shore.\n",
    "\n",
    "The Elves yell something about meeting back up with them upriver, but the river is too loud to tell exactly what they're saying. They finish crossing the bridge and disappear from view.\n",
    "\n",
    "Situations like this must be why the Elves prioritized getting the communication system on your handheld device working. You pull it out of your pack, but the amount of water slowly draining from a big crack in its screen tells you it probably won't be of much immediate use.\n",
    "\n",
    "Unless, that is, you can design a replacement for the device's video system! It seems to be some kind of cathode-ray tube screen and simple CPU that are both driven by a precise clock circuit. The clock circuit ticks at a constant rate; each tick is called a cycle.\n",
    "\n",
    "Start by figuring out the signal being sent by the CPU. The CPU has a single register, X, which starts with the value 1. It supports only two instructions:\n",
    "\n",
    "    addx V takes two cycles to complete. After two cycles, the X register is increased by the value V. (V can be negative.)\n",
    "    noop takes one cycle to complete. It has no other effect.\n",
    "\n",
    "The CPU uses these instructions in a program (your puzzle input) to, somehow, tell the screen what to draw.\n",
    "\n",
    "Consider the following small program:\n",
    "\n",
    "noop\n",
    "addx 3\n",
    "addx -5\n",
    "\n",
    "Execution of this program proceeds as follows:\n",
    "\n",
    "    At the start of the first cycle, the noop instruction begins execution. During the first cycle, X is 1. After the first cycle, the noop instruction finishes execution, doing nothing.\n",
    "    At the start of the second cycle, the addx 3 instruction begins execution. During the second cycle, X is still 1.\n",
    "    During the third cycle, X is still 1. After the third cycle, the addx 3 instruction finishes execution, setting X to 4.\n",
    "    At the start of the fourth cycle, the addx -5 instruction begins execution. During the fourth cycle, X is still 4.\n",
    "    During the fifth cycle, X is still 4. After the fifth cycle, the addx -5 instruction finishes execution, setting X to -1.\n",
    "\n",
    "Maybe you can learn something by looking at the value of the X register throughout execution. For now, consider the signal strength (the cycle number multiplied by the value of the X register) during the 20th cycle and every 40 cycles after that (that is, during the 20th, 60th, 100th, 140th, 180th, and 220th cycles).\n",
    "\n",
    "For example, consider this larger program:\n",
    "\n",
    "addx 15\n",
    "addx -11\n",
    "addx 6\n",
    "addx -3\n",
    "addx 5\n",
    "addx -1\n",
    "addx -8\n",
    "addx 13\n",
    "addx 4\n",
    "noop\n",
    "addx -1\n",
    "addx 5\n",
    "addx -1\n",
    "addx 5\n",
    "addx -1\n",
    "addx 5\n",
    "addx -1\n",
    "addx 5\n",
    "addx -1\n",
    "addx -35\n",
    "addx 1\n",
    "addx 24\n",
    "addx -19\n",
    "addx 1\n",
    "addx 16\n",
    "addx -11\n",
    "noop\n",
    "noop\n",
    "addx 21\n",
    "addx -15\n",
    "noop\n",
    "noop\n",
    "addx -3\n",
    "addx 9\n",
    "addx 1\n",
    "addx -3\n",
    "addx 8\n",
    "addx 1\n",
    "addx 5\n",
    "noop\n",
    "noop\n",
    "noop\n",
    "noop\n",
    "noop\n",
    "addx -36\n",
    "noop\n",
    "addx 1\n",
    "addx 7\n",
    "noop\n",
    "noop\n",
    "noop\n",
    "addx 2\n",
    "addx 6\n",
    "noop\n",
    "noop\n",
    "noop\n",
    "noop\n",
    "noop\n",
    "addx 1\n",
    "noop\n",
    "noop\n",
    "addx 7\n",
    "addx 1\n",
    "noop\n",
    "addx -13\n",
    "addx 13\n",
    "addx 7\n",
    "noop\n",
    "addx 1\n",
    "addx -33\n",
    "noop\n",
    "noop\n",
    "noop\n",
    "addx 2\n",
    "noop\n",
    "noop\n",
    "noop\n",
    "addx 8\n",
    "noop\n",
    "addx -1\n",
    "addx 2\n",
    "addx 1\n",
    "noop\n",
    "addx 17\n",
    "addx -9\n",
    "addx 1\n",
    "addx 1\n",
    "addx -3\n",
    "addx 11\n",
    "noop\n",
    "noop\n",
    "addx 1\n",
    "noop\n",
    "addx 1\n",
    "noop\n",
    "noop\n",
    "addx -13\n",
    "addx -19\n",
    "addx 1\n",
    "addx 3\n",
    "addx 26\n",
    "addx -30\n",
    "addx 12\n",
    "addx -1\n",
    "addx 3\n",
    "addx 1\n",
    "noop\n",
    "noop\n",
    "noop\n",
    "addx -9\n",
    "addx 18\n",
    "addx 1\n",
    "addx 2\n",
    "noop\n",
    "noop\n",
    "addx 9\n",
    "noop\n",
    "noop\n",
    "noop\n",
    "addx -1\n",
    "addx 2\n",
    "addx -37\n",
    "addx 1\n",
    "addx 3\n",
    "noop\n",
    "addx 15\n",
    "addx -21\n",
    "addx 22\n",
    "addx -6\n",
    "addx 1\n",
    "noop\n",
    "addx 2\n",
    "addx 1\n",
    "noop\n",
    "addx -10\n",
    "noop\n",
    "noop\n",
    "addx 20\n",
    "addx 1\n",
    "addx 2\n",
    "addx 2\n",
    "addx -6\n",
    "addx -11\n",
    "noop\n",
    "noop\n",
    "noop\n",
    "\n",
    "The interesting signal strengths can be determined as follows:\n",
    "\n",
    "    During the 20th cycle, register X has the value 21, so the signal strength is 20 * 21 = 420. (The 20th cycle occurs in the middle of the second addx -1, so the value of register X is the starting value, 1, plus all of the other addx values up to that point: 1 + 15 - 11 + 6 - 3 + 5 - 1 - 8 + 13 + 4 = 21.)\n",
    "    During the 60th cycle, register X has the value 19, so the signal strength is 60 * 19 = 1140.\n",
    "    During the 100th cycle, register X has the value 18, so the signal strength is 100 * 18 = 1800.\n",
    "    During the 140th cycle, register X has the value 21, so the signal strength is 140 * 21 = 2940.\n",
    "    During the 180th cycle, register X has the value 16, so the signal strength is 180 * 16 = 2880.\n",
    "    During the 220th cycle, register X has the value 18, so the signal strength is 220 * 18 = 3960.\n",
    "\n",
    "The sum of these signal strengths is 13140.\n",
    "\n",
    "Find the signal strength during the 20th, 60th, 100th, 140th, 180th, and 220th cycles. What is the sum of these six signal strengths?\n",
    "```"
   ]
  },
  {
   "cell_type": "code",
   "execution_count": 6,
   "id": "53edc6f6-de71-4258-964d-3f4574a4b5d5",
   "metadata": {
    "execution": {
     "iopub.execute_input": "2022-12-10T06:32:48.006729Z",
     "iopub.status.busy": "2022-12-10T06:32:48.006377Z",
     "iopub.status.idle": "2022-12-10T06:32:48.010993Z",
     "shell.execute_reply": "2022-12-10T06:32:48.009724Z",
     "shell.execute_reply.started": "2022-12-10T06:32:48.006699Z"
    },
    "tags": []
   },
   "outputs": [],
   "source": [
    "test_data = [\"noop\", \"addx 3\", \"addx -5\"]"
   ]
  },
  {
   "cell_type": "code",
   "execution_count": 89,
   "id": "571b0fca-3a90-4b3d-aa01-7aa6e4a3ca56",
   "metadata": {
    "execution": {
     "iopub.execute_input": "2022-12-10T07:55:00.496402Z",
     "iopub.status.busy": "2022-12-10T07:55:00.495957Z",
     "iopub.status.idle": "2022-12-10T07:55:00.503145Z",
     "shell.execute_reply": "2022-12-10T07:55:00.502206Z",
     "shell.execute_reply.started": "2022-12-10T07:55:00.496372Z"
    },
    "tags": []
   },
   "outputs": [],
   "source": [
    "from typing import List, Dict\n",
    "\n",
    "\n",
    "def iterate_commands(commands: List[str]) -> Dict[int, int]:\n",
    "    signal_history = {}\n",
    "    cycle_mapping = {\"noop\": 1, \"addx\": 2}\n",
    "\n",
    "    signal = 1\n",
    "    cycle_counter = 0\n",
    "    for idx, command in enumerate(commands):\n",
    "        prefix = command.split(\" \")[0]\n",
    "        cycles = cycle_mapping[prefix]\n",
    "        for cycle in range(cycles):\n",
    "            cycle_counter += 1\n",
    "            if command.startswith(\"addx\"):\n",
    "                add_value = int(command.split(\"addx\")[1])\n",
    "            else:\n",
    "                add_value = 0\n",
    "            signal_history[cycle_counter] = signal\n",
    "        signal += add_value\n",
    "        signal_history[cycle_counter] = signal\n",
    "    return signal_history"
   ]
  },
  {
   "cell_type": "code",
   "execution_count": 90,
   "id": "594219e0-44dd-4d2d-9174-2fca408d5701",
   "metadata": {
    "execution": {
     "iopub.execute_input": "2022-12-10T07:55:01.028980Z",
     "iopub.status.busy": "2022-12-10T07:55:01.028484Z",
     "iopub.status.idle": "2022-12-10T07:55:01.036345Z",
     "shell.execute_reply": "2022-12-10T07:55:01.033639Z",
     "shell.execute_reply.started": "2022-12-10T07:55:01.028942Z"
    },
    "tags": []
   },
   "outputs": [],
   "source": [
    "with open(\"data/day_10_example.txt\", \"r\") as f:\n",
    "    commands = f.read().split(\"\\n\")"
   ]
  },
  {
   "cell_type": "code",
   "execution_count": 93,
   "id": "49f78b9d-9dfd-48e1-a58d-4142667420d7",
   "metadata": {
    "execution": {
     "iopub.execute_input": "2022-12-10T07:55:07.815485Z",
     "iopub.status.busy": "2022-12-10T07:55:07.815162Z",
     "iopub.status.idle": "2022-12-10T07:55:07.822303Z",
     "shell.execute_reply": "2022-12-10T07:55:07.821074Z",
     "shell.execute_reply.started": "2022-12-10T07:55:07.815457Z"
    },
    "tags": []
   },
   "outputs": [
    {
     "name": "stdout",
     "output_type": "stream",
     "text": [
      "20 21 420\n",
      "60 19 1140\n",
      "100 18 1800\n",
      "140 21 2940\n",
      "180 16 2880\n",
      "220 18 3960\n"
     ]
    }
   ],
   "source": [
    "test_results = iterate_commands(commands)\n",
    "sum_of_signals_strengths = 0\n",
    "for cycle in [20, 60, 100, 140, 180, 220]:\n",
    "    print(cycle, test_results[cycle - 1], cycle * test_results[cycle - 1])\n",
    "    sum_of_signals_strengths += cycle * test_results[cycle - 1]\n",
    "assert sum_of_signals_strengths == 13140"
   ]
  },
  {
   "cell_type": "markdown",
   "id": "d0729e29-4750-4645-9fe8-15df839399dc",
   "metadata": {},
   "source": [
    "### Part 1 answer"
   ]
  },
  {
   "cell_type": "code",
   "execution_count": 151,
   "id": "f0b89b6f-acb9-4307-9125-a69873f9b005",
   "metadata": {
    "execution": {
     "iopub.execute_input": "2022-12-10T08:23:38.590704Z",
     "iopub.status.busy": "2022-12-10T08:23:38.590300Z",
     "iopub.status.idle": "2022-12-10T08:23:38.595968Z",
     "shell.execute_reply": "2022-12-10T08:23:38.594779Z",
     "shell.execute_reply.started": "2022-12-10T08:23:38.590675Z"
    },
    "tags": []
   },
   "outputs": [],
   "source": [
    "with open(\"data/day_10.txt\", \"r\") as f:\n",
    "    commands = f.read().split(\"\\n\")"
   ]
  },
  {
   "cell_type": "code",
   "execution_count": 113,
   "id": "9fb3d7cf-9f87-403b-afa1-f0a57d805b11",
   "metadata": {
    "execution": {
     "iopub.execute_input": "2022-12-10T07:59:28.403137Z",
     "iopub.status.busy": "2022-12-10T07:59:28.402473Z",
     "iopub.status.idle": "2022-12-10T07:59:28.410969Z",
     "shell.execute_reply": "2022-12-10T07:59:28.409508Z",
     "shell.execute_reply.started": "2022-12-10T07:59:28.403086Z"
    },
    "tags": []
   },
   "outputs": [],
   "source": [
    "results = iterate_commands(commands)"
   ]
  },
  {
   "cell_type": "code",
   "execution_count": 114,
   "id": "24be5e58-de64-41c1-b23e-97250f0db05f",
   "metadata": {
    "execution": {
     "iopub.execute_input": "2022-12-10T07:59:28.667604Z",
     "iopub.status.busy": "2022-12-10T07:59:28.665761Z",
     "iopub.status.idle": "2022-12-10T07:59:28.675338Z",
     "shell.execute_reply": "2022-12-10T07:59:28.673293Z",
     "shell.execute_reply.started": "2022-12-10T07:59:28.667464Z"
    },
    "tags": []
   },
   "outputs": [],
   "source": [
    "# 20th, 60th, 100th, 140th, 180th, and 220\n",
    "sum_of_signals_strengths = 0\n",
    "for cycle in [20, 60, 100, 140, 180, 220]:\n",
    "    sum_of_signals_strengths += cycle * results[cycle - 1]"
   ]
  },
  {
   "cell_type": "code",
   "execution_count": 115,
   "id": "37f5f347-48a6-450f-ae0e-65db62118b3d",
   "metadata": {
    "execution": {
     "iopub.execute_input": "2022-12-10T07:59:30.465858Z",
     "iopub.status.busy": "2022-12-10T07:59:30.465399Z",
     "iopub.status.idle": "2022-12-10T07:59:30.471117Z",
     "shell.execute_reply": "2022-12-10T07:59:30.470303Z",
     "shell.execute_reply.started": "2022-12-10T07:59:30.465825Z"
    },
    "tags": []
   },
   "outputs": [
    {
     "data": {
      "text/plain": [
       "10760"
      ]
     },
     "execution_count": 115,
     "metadata": {},
     "output_type": "execute_result"
    }
   ],
   "source": [
    "sum_of_signals_strengths"
   ]
  },
  {
   "cell_type": "code",
   "execution_count": 116,
   "id": "1d2852ca-1de4-417d-abb0-ea68aefcca1d",
   "metadata": {
    "execution": {
     "iopub.execute_input": "2022-12-10T07:59:30.657716Z",
     "iopub.status.busy": "2022-12-10T07:59:30.657330Z",
     "iopub.status.idle": "2022-12-10T07:59:30.661906Z",
     "shell.execute_reply": "2022-12-10T07:59:30.660598Z",
     "shell.execute_reply.started": "2022-12-10T07:59:30.657689Z"
    },
    "tags": []
   },
   "outputs": [],
   "source": [
    "assert sum_of_signals_strengths == 10760"
   ]
  },
  {
   "cell_type": "markdown",
   "id": "ee828df2-6616-4caf-8cbc-4951d00c3648",
   "metadata": {},
   "source": [
    "## --- Part Two ---\n",
    "```\n",
    "It seems like the X register controls the horizontal position of a sprite. Specifically, the sprite is 3 pixels wide, and the X register sets the horizontal position of the middle of that sprite. (In this system, there is no such thing as \"vertical position\": if the sprite's horizontal position puts its pixels where the CRT is currently drawing, then those pixels will be drawn.)\n",
    "\n",
    "You count the pixels on the CRT: 40 wide and 6 high. This CRT screen draws the top row of pixels left-to-right, then the row below that, and so on. The left-most pixel in each row is in position 0, and the right-most pixel in each row is in position 39.\n",
    "\n",
    "Like the CPU, the CRT is tied closely to the clock circuit: the CRT draws a single pixel during each cycle. Representing each pixel of the screen as a #, here are the cycles during which the first and last pixel in each row are drawn:\n",
    "\n",
    "Cycle   1 -> ######################################## <- Cycle  40\n",
    "Cycle  41 -> ######################################## <- Cycle  80\n",
    "Cycle  81 -> ######################################## <- Cycle 120\n",
    "Cycle 121 -> ######################################## <- Cycle 160\n",
    "Cycle 161 -> ######################################## <- Cycle 200\n",
    "Cycle 201 -> ######################################## <- Cycle 240\n",
    "\n",
    "So, by carefully timing the CPU instructions and the CRT drawing operations, you should be able to determine whether the sprite is visible the instant each pixel is drawn. If the sprite is positioned such that one of its three pixels is the pixel currently being drawn, the screen produces a lit pixel (#); otherwise, the screen leaves the pixel dark (.).\n",
    "\n",
    "The first few pixels from the larger example above are drawn as follows:\n",
    "\n",
    "Sprite position: ###.....................................\n",
    "\n",
    "Start cycle   1: begin executing addx 15\n",
    "During cycle  1: CRT draws pixel in position 0\n",
    "Current CRT row: #\n",
    "\n",
    "During cycle  2: CRT draws pixel in position 1\n",
    "Current CRT row: ##\n",
    "End of cycle  2: finish executing addx 15 (Register X is now 16)\n",
    "Sprite position: ...............###......................\n",
    "\n",
    "Start cycle   3: begin executing addx -11\n",
    "During cycle  3: CRT draws pixel in position 2\n",
    "Current CRT row: ##.\n",
    "\n",
    "During cycle  4: CRT draws pixel in position 3\n",
    "Current CRT row: ##..\n",
    "End of cycle  4: finish executing addx -11 (Register X is now 5)\n",
    "Sprite position: ....###.................................\n",
    "\n",
    "Start cycle   5: begin executing addx 6\n",
    "During cycle  5: CRT draws pixel in position 4\n",
    "Current CRT row: ##..#\n",
    "\n",
    "During cycle  6: CRT draws pixel in position 5\n",
    "Current CRT row: ##..##\n",
    "End of cycle  6: finish executing addx 6 (Register X is now 11)\n",
    "Sprite position: ..........###...........................\n",
    "\n",
    "Start cycle   7: begin executing addx -3\n",
    "During cycle  7: CRT draws pixel in position 6\n",
    "Current CRT row: ##..##.\n",
    "\n",
    "During cycle  8: CRT draws pixel in position 7\n",
    "Current CRT row: ##..##..\n",
    "End of cycle  8: finish executing addx -3 (Register X is now 8)\n",
    "Sprite position: .......###..............................\n",
    "\n",
    "Start cycle   9: begin executing addx 5\n",
    "During cycle  9: CRT draws pixel in position 8\n",
    "Current CRT row: ##..##..#\n",
    "\n",
    "During cycle 10: CRT draws pixel in position 9\n",
    "Current CRT row: ##..##..##\n",
    "End of cycle 10: finish executing addx 5 (Register X is now 13)\n",
    "Sprite position: ............###.........................\n",
    "\n",
    "Start cycle  11: begin executing addx -1\n",
    "During cycle 11: CRT draws pixel in position 10\n",
    "Current CRT row: ##..##..##.\n",
    "\n",
    "During cycle 12: CRT draws pixel in position 11\n",
    "Current CRT row: ##..##..##..\n",
    "End of cycle 12: finish executing addx -1 (Register X is now 12)\n",
    "Sprite position: ...........###..........................\n",
    "\n",
    "Start cycle  13: begin executing addx -8\n",
    "During cycle 13: CRT draws pixel in position 12\n",
    "Current CRT row: ##..##..##..#\n",
    "\n",
    "During cycle 14: CRT draws pixel in position 13\n",
    "Current CRT row: ##..##..##..##\n",
    "End of cycle 14: finish executing addx -8 (Register X is now 4)\n",
    "Sprite position: ...###..................................\n",
    "\n",
    "Start cycle  15: begin executing addx 13\n",
    "During cycle 15: CRT draws pixel in position 14\n",
    "Current CRT row: ##..##..##..##.\n",
    "\n",
    "During cycle 16: CRT draws pixel in position 15\n",
    "Current CRT row: ##..##..##..##..\n",
    "End of cycle 16: finish executing addx 13 (Register X is now 17)\n",
    "Sprite position: ................###.....................\n",
    "\n",
    "Start cycle  17: begin executing addx 4\n",
    "During cycle 17: CRT draws pixel in position 16\n",
    "Current CRT row: ##..##..##..##..#\n",
    "\n",
    "During cycle 18: CRT draws pixel in position 17\n",
    "Current CRT row: ##..##..##..##..##\n",
    "End of cycle 18: finish executing addx 4 (Register X is now 21)\n",
    "Sprite position: ....................###.................\n",
    "\n",
    "Start cycle  19: begin executing noop\n",
    "During cycle 19: CRT draws pixel in position 18\n",
    "Current CRT row: ##..##..##..##..##.\n",
    "End of cycle 19: finish executing noop\n",
    "\n",
    "Start cycle  20: begin executing addx -1\n",
    "During cycle 20: CRT draws pixel in position 19\n",
    "Current CRT row: ##..##..##..##..##..\n",
    "\n",
    "During cycle 21: CRT draws pixel in position 20\n",
    "Current CRT row: ##..##..##..##..##..#\n",
    "End of cycle 21: finish executing addx -1 (Register X is now 20)\n",
    "Sprite position: ...................###..................\n",
    "\n",
    "Allowing the program to run to completion causes the CRT to produce the following image:\n",
    "\n",
    "##..##..##..##..##..##..##..##..##..##..\n",
    "###...###...###...###...###...###...###.\n",
    "####....####....####....####....####....\n",
    "#####.....#####.....#####.....#####.....\n",
    "######......######......######......####\n",
    "#######.......#######.......#######.....\n",
    "\n",
    "Render the image given by your program. What eight capital letters appear on your CRT?\n",
    "```\n"
   ]
  },
  {
   "cell_type": "code",
   "execution_count": 147,
   "id": "00dfaad9-4663-428d-a566-de6a16ed4835",
   "metadata": {
    "execution": {
     "iopub.execute_input": "2022-12-10T08:20:06.704609Z",
     "iopub.status.busy": "2022-12-10T08:20:06.704269Z",
     "iopub.status.idle": "2022-12-10T08:20:06.710281Z",
     "shell.execute_reply": "2022-12-10T08:20:06.709385Z",
     "shell.execute_reply.started": "2022-12-10T08:20:06.704580Z"
    },
    "tags": []
   },
   "outputs": [],
   "source": [
    "row_width = 40\n",
    "display = []\n",
    "row = []\n",
    "sprite_position = [0, 1, 2]\n",
    "for n_row in range(1, 7):\n",
    "    for pixel in range(1, 41):\n",
    "        sprite_position = [pixel - 1, pixel, pixel + 1]\n",
    "        if results[pixel * n_row] in sprite_position:\n",
    "            row.append(\"#\")\n",
    "        else:\n",
    "            row.append(\".\")\n",
    "    display.append(row)\n",
    "    row = []"
   ]
  },
  {
   "cell_type": "code",
   "execution_count": 145,
   "id": "e0556612-9f57-465b-b4fa-5ea10fc1573a",
   "metadata": {
    "execution": {
     "iopub.execute_input": "2022-12-10T08:19:47.380613Z",
     "iopub.status.busy": "2022-12-10T08:19:47.380069Z",
     "iopub.status.idle": "2022-12-10T08:19:47.386879Z",
     "shell.execute_reply": "2022-12-10T08:19:47.385813Z",
     "shell.execute_reply.started": "2022-12-10T08:19:47.380577Z"
    },
    "tags": []
   },
   "outputs": [
    {
     "data": {
      "text/plain": [
       "1"
      ]
     },
     "execution_count": 145,
     "metadata": {},
     "output_type": "execute_result"
    }
   ],
   "source": [
    "results[1]"
   ]
  },
  {
   "cell_type": "code",
   "execution_count": 148,
   "id": "322a3008-4089-460f-8a69-79ae6a3ad542",
   "metadata": {
    "execution": {
     "iopub.execute_input": "2022-12-10T08:20:08.140346Z",
     "iopub.status.busy": "2022-12-10T08:20:08.140019Z",
     "iopub.status.idle": "2022-12-10T08:20:08.145901Z",
     "shell.execute_reply": "2022-12-10T08:20:08.145079Z",
     "shell.execute_reply.started": "2022-12-10T08:20:08.140318Z"
    },
    "tags": []
   },
   "outputs": [
    {
     "data": {
      "text/plain": [
       "['###.###...##..###..#..#.####..##..#..#..',\n",
       " '#...................................##..',\n",
       " '#.................##....................',\n",
       " '............#............###............',\n",
       " '.........#.........#.........#..........',\n",
       " '.......#................................']"
      ]
     },
     "execution_count": 148,
     "metadata": {},
     "output_type": "execute_result"
    }
   ],
   "source": [
    "[\"\".join(row) for row in display]"
   ]
  },
  {
   "cell_type": "code",
   "execution_count": 159,
   "id": "d29048c5-60a5-40ae-8dfb-9986fc920755",
   "metadata": {
    "execution": {
     "iopub.execute_input": "2022-12-10T08:25:28.718491Z",
     "iopub.status.busy": "2022-12-10T08:25:28.718163Z",
     "iopub.status.idle": "2022-12-10T08:25:28.723431Z",
     "shell.execute_reply": "2022-12-10T08:25:28.722613Z",
     "shell.execute_reply.started": "2022-12-10T08:25:28.718462Z"
    },
    "tags": []
   },
   "outputs": [],
   "source": [
    "def screen(cycles):\n",
    "    s = \"\"\n",
    "\n",
    "    for cycle_number, x in enumerate(cycles):\n",
    "        if cycle_number > 0 and cycle_number % 40 == 0:\n",
    "            s += \"\\n\"\n",
    "\n",
    "        is_lit = x in range((cycle_number % 40) - 1, (cycle_number % 40) + 2)\n",
    "        s += \"#\" if is_lit else \".\"\n",
    "\n",
    "    return s"
   ]
  },
  {
   "cell_type": "code",
   "execution_count": 164,
   "id": "246bef89-6c03-45ef-900d-6f1a7754953e",
   "metadata": {
    "execution": {
     "iopub.execute_input": "2022-12-10T08:26:59.450295Z",
     "iopub.status.busy": "2022-12-10T08:26:59.449920Z",
     "iopub.status.idle": "2022-12-10T08:26:59.455054Z",
     "shell.execute_reply": "2022-12-10T08:26:59.454164Z",
     "shell.execute_reply.started": "2022-12-10T08:26:59.450266Z"
    },
    "tags": []
   },
   "outputs": [
    {
     "name": "stdout",
     "output_type": "stream",
     "text": [
      "###..##....##.####....##.####..##.......\n",
      ".............................##......##.\n",
      "##...............######..###.##.....###.\n",
      "#....###....##.##..##........##.#....##.\n",
      "#........##........##................##.\n",
      "#...##.....#####...##.####.....##.......\n"
     ]
    }
   ],
   "source": [
    "print(screen(list(results.values())))"
   ]
  },
  {
   "cell_type": "code",
   "execution_count": 158,
   "id": "d5384b4a-fd24-4def-a631-c77c3bd9a8be",
   "metadata": {
    "execution": {
     "iopub.execute_input": "2022-12-10T08:25:15.286832Z",
     "iopub.status.busy": "2022-12-10T08:25:15.286459Z",
     "iopub.status.idle": "2022-12-10T08:25:15.297901Z",
     "shell.execute_reply": "2022-12-10T08:25:15.296367Z",
     "shell.execute_reply.started": "2022-12-10T08:25:15.286795Z"
    },
    "tags": []
   },
   "outputs": [
    {
     "ename": "TypeError",
     "evalue": "'dict_values' object is not subscriptable",
     "output_type": "error",
     "traceback": [
      "\u001b[0;31m---------------------------------------------------------------------------\u001b[0m",
      "\u001b[0;31mTypeError\u001b[0m                                 Traceback (most recent call last)",
      "\u001b[0;32m/var/folders/bp/678kd6z11339sg83ggcybxrr0000gn/T/ipykernel_77184/53695375.py\u001b[0m in \u001b[0;36m<module>\u001b[0;34m\u001b[0m\n\u001b[0;32m----> 1\u001b[0;31m \u001b[0mresults\u001b[0m\u001b[0;34m.\u001b[0m\u001b[0mvalues\u001b[0m\u001b[0;34m(\u001b[0m\u001b[0;34m)\u001b[0m\u001b[0;34m[\u001b[0m\u001b[0;36m1\u001b[0m\u001b[0;34m:\u001b[0m\u001b[0;34m]\u001b[0m\u001b[0;34m\u001b[0m\u001b[0;34m\u001b[0m\u001b[0m\n\u001b[0m",
      "\u001b[0;31mTypeError\u001b[0m: 'dict_values' object is not subscriptable"
     ]
    }
   ],
   "source": [
    "results.values()[1:]"
   ]
  },
  {
   "cell_type": "code",
   "execution_count": null,
   "id": "55025c56-9323-437a-950a-84c1a2770418",
   "metadata": {},
   "outputs": [],
   "source": []
  }
 ],
 "metadata": {
  "kernelspec": {
   "display_name": "Python 3 (ipykernel)",
   "language": "python",
   "name": "python3"
  },
  "language_info": {
   "codemirror_mode": {
    "name": "ipython",
    "version": 3
   },
   "file_extension": ".py",
   "mimetype": "text/x-python",
   "name": "python",
   "nbconvert_exporter": "python",
   "pygments_lexer": "ipython3",
   "version": "3.8.10"
  }
 },
 "nbformat": 4,
 "nbformat_minor": 5
}
