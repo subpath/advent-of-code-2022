{
 "cells": [
  {
   "cell_type": "markdown",
   "id": "2b4241a8-26f1-4601-beba-de8ee968e143",
   "metadata": {},
   "source": [
    "# Day 2\n",
    "```\n",
    "The Elves begin to set up camp on the beach. To decide whose tent gets to be closest to the snack storage, a giant Rock Paper Scissors tournament is already in progress.\n",
    "\n",
    "Rock Paper Scissors is a game between two players. Each game contains many rounds; in each round, the players each simultaneously choose one of Rock, Paper, or Scissors using a hand shape. Then, a winner for that round is selected: Rock defeats Scissors, Scissors defeats Paper, and Paper defeats Rock. If both players choose the same shape, the round instead ends in a draw.\n",
    "\n",
    "Appreciative of your help yesterday, one Elf gives you an encrypted strategy guide (your puzzle input) that they say will be sure to help you win. \"The first column is what your opponent is going to play: A for Rock, B for Paper, and C for Scissors. The second column--\" Suddenly, the Elf is called away to help with someone's tent.\n",
    "\n",
    "The second column, you reason, must be what you should play in response: X for Rock, Y for Paper, and Z for Scissors. Winning every time would be suspicious, so the responses must have been carefully chosen.\n",
    "\n",
    "The winner of the whole tournament is the player with the highest score. Your total score is the sum of your scores for each round. The score for a single round is the score for the shape you selected (1 for Rock, 2 for Paper, and 3 for Scissors) plus the score for the outcome of the round (0 if you lost, 3 if the round was a draw, and 6 if you won).\n",
    "\n",
    "Since you can't be sure if the Elf is trying to help you or trick you, you should calculate the score you would get if you were to follow the strategy guide.\n",
    "\n",
    "For example, suppose you were given the following strategy guide:\n",
    "\n",
    "A Y\n",
    "B X\n",
    "C Z\n",
    "\n",
    "This strategy guide predicts and recommends the following:\n",
    "\n",
    "    In the first round, your opponent will choose Rock (A), and you should choose Paper (Y). This ends in a win for you with a score of 8 (2 because you chose Paper + 6 because you won).\n",
    "    In the second round, your opponent will choose Paper (B), and you should choose Rock (X). This ends in a loss for you with a score of 1 (1 + 0).\n",
    "    The third round is a draw with both players choosing Scissors, giving you a score of 3 + 3 = 6.\n",
    "\n",
    "In this example, if you were to follow the strategy guide, you would get a total score of 15 (8 + 1 + 6).\n",
    "\n",
    "What would your total score be if everything goes exactly according to your strategy guide?\n",
    "```"
   ]
  },
  {
   "cell_type": "code",
   "execution_count": 1,
   "id": "8b9e763b-f2b7-4920-a7b1-9e3dd780ec66",
   "metadata": {
    "execution": {
     "iopub.execute_input": "2022-12-02T06:19:18.140849Z",
     "iopub.status.busy": "2022-12-02T06:19:18.140115Z",
     "iopub.status.idle": "2022-12-02T06:19:18.151657Z",
     "shell.execute_reply": "2022-12-02T06:19:18.150231Z",
     "shell.execute_reply.started": "2022-12-02T06:19:18.140707Z"
    }
   },
   "outputs": [],
   "source": [
    "move_scores = {\"X\": 1, \"Y\": 2, \"Z\": 3, \"A\": 1, \"B\": 2, \"C\": 3}\n",
    "outcome_scores = {\"lost\": 0, \"draw\": 3, \"win\": 6}"
   ]
  },
  {
   "cell_type": "code",
   "execution_count": 2,
   "id": "762ae523-3999-4563-be8d-71da09c12bd3",
   "metadata": {
    "execution": {
     "iopub.execute_input": "2022-12-02T06:19:35.971527Z",
     "iopub.status.busy": "2022-12-02T06:19:35.971038Z",
     "iopub.status.idle": "2022-12-02T06:19:35.976465Z",
     "shell.execute_reply": "2022-12-02T06:19:35.975364Z",
     "shell.execute_reply.started": "2022-12-02T06:19:35.971495Z"
    }
   },
   "outputs": [],
   "source": [
    "with open(\"data/day_2_1.csv\", \"r\") as f:\n",
    "    moves = f.read().split(\"\\n\")"
   ]
  },
  {
   "cell_type": "code",
   "execution_count": 34,
   "id": "6f8d765b-10ac-40c6-a6b1-fc0cc7c9dfdc",
   "metadata": {
    "execution": {
     "iopub.execute_input": "2022-12-02T19:01:40.605196Z",
     "iopub.status.busy": "2022-12-02T19:01:40.604866Z",
     "iopub.status.idle": "2022-12-02T19:01:40.609594Z",
     "shell.execute_reply": "2022-12-02T19:01:40.608673Z",
     "shell.execute_reply.started": "2022-12-02T19:01:40.605166Z"
    },
    "tags": []
   },
   "outputs": [],
   "source": [
    "outcomes_rules = {\n",
    "    \"A X\": \"draw\",\n",
    "    \"A Y\": \"win\",\n",
    "    \"A Z\": \"lost\",\n",
    "    \"B X\": \"lost\",\n",
    "    \"B Y\": \"draw\",\n",
    "    \"B Z\": \"win\",\n",
    "    \"C X\": \"win\",\n",
    "    \"C Y\": \"lost\",\n",
    "    \"C Z\": \"draw\",\n",
    "}"
   ]
  },
  {
   "cell_type": "code",
   "execution_count": 35,
   "id": "d1da30fe-163c-4f2f-a9a2-7ffac38f3908",
   "metadata": {
    "execution": {
     "iopub.execute_input": "2022-12-02T19:01:40.973046Z",
     "iopub.status.busy": "2022-12-02T19:01:40.972485Z",
     "iopub.status.idle": "2022-12-02T19:01:40.979991Z",
     "shell.execute_reply": "2022-12-02T19:01:40.978581Z",
     "shell.execute_reply.started": "2022-12-02T19:01:40.973009Z"
    },
    "tags": []
   },
   "outputs": [],
   "source": [
    "outcomes = [outcome_scores[outcomes_rules[move]] for move in moves]\n",
    "scores = [move_scores[move[-1]] for move in moves]"
   ]
  },
  {
   "cell_type": "code",
   "execution_count": 36,
   "id": "a94a300c-7dee-4450-9275-dde15fdbd994",
   "metadata": {
    "execution": {
     "iopub.execute_input": "2022-12-02T19:01:41.581310Z",
     "iopub.status.busy": "2022-12-02T19:01:41.580670Z",
     "iopub.status.idle": "2022-12-02T19:01:41.586470Z",
     "shell.execute_reply": "2022-12-02T19:01:41.585535Z",
     "shell.execute_reply.started": "2022-12-02T19:01:41.581256Z"
    },
    "tags": []
   },
   "outputs": [],
   "source": [
    "total_score = sum([outcome + score for outcome, score in zip(outcomes, scores)])"
   ]
  },
  {
   "cell_type": "code",
   "execution_count": 37,
   "id": "a8889e6e-13be-4261-ac0f-aaad9fc7ed38",
   "metadata": {
    "execution": {
     "iopub.execute_input": "2022-12-02T19:01:41.874296Z",
     "iopub.status.busy": "2022-12-02T19:01:41.873736Z",
     "iopub.status.idle": "2022-12-02T19:01:41.880643Z",
     "shell.execute_reply": "2022-12-02T19:01:41.879329Z",
     "shell.execute_reply.started": "2022-12-02T19:01:41.874259Z"
    },
    "tags": []
   },
   "outputs": [
    {
     "data": {
      "text/plain": [
       "15632"
      ]
     },
     "execution_count": 37,
     "metadata": {},
     "output_type": "execute_result"
    }
   ],
   "source": [
    "total_score"
   ]
  },
  {
   "cell_type": "code",
   "execution_count": 38,
   "id": "3513e20b-4c9d-46f7-9827-5b34dc1abf67",
   "metadata": {
    "execution": {
     "iopub.execute_input": "2022-12-02T19:02:26.927186Z",
     "iopub.status.busy": "2022-12-02T19:02:26.926784Z",
     "iopub.status.idle": "2022-12-02T19:02:26.932365Z",
     "shell.execute_reply": "2022-12-02T19:02:26.931253Z",
     "shell.execute_reply.started": "2022-12-02T19:02:26.927151Z"
    }
   },
   "outputs": [],
   "source": [
    "assert total_score == 15632"
   ]
  },
  {
   "cell_type": "markdown",
   "id": "571a64e7-42ec-4487-a39e-e1f3e7304a9a",
   "metadata": {},
   "source": [
    "```\n",
    "--- Part Two ---\n",
    "\n",
    "The Elf finishes helping with the tent and sneaks back over to you. \"Anyway, the second column says how the round needs to end: X means you need to lose, Y means you need to end the round in a draw, and Z means you need to win. Good luck!\"\n",
    "\n",
    "The total score is still calculated in the same way, but now you need to figure out what shape to choose so the round ends as indicated. The example above now goes like this:\n",
    "\n",
    "    In the first round, your opponent will choose Rock (A), and you need the round to end in a draw (Y), so you also choose Rock. This gives you a score of 1 + 3 = 4.\n",
    "    In the second round, your opponent will choose Paper (B), and you choose Rock so you lose (X) with a score of 1 + 0 = 1.\n",
    "    In the third round, you will defeat your opponent's Scissors with Rock for a score of 1 + 6 = 7.\n",
    "\n",
    "Now that you're correctly decrypting the ultra top secret strategy guide, you would get a total score of 12.\n",
    "\n",
    "Following the Elf's instructions for the second column, what would your total score be if everything goes exactly according to your strategy guide?\n",
    "\n",
    "```"
   ]
  },
  {
   "cell_type": "code",
   "execution_count": 43,
   "id": "31669434-e971-4f9d-9f3a-c420d2915375",
   "metadata": {
    "execution": {
     "iopub.execute_input": "2022-12-02T19:05:57.676814Z",
     "iopub.status.busy": "2022-12-02T19:05:57.676323Z",
     "iopub.status.idle": "2022-12-02T19:05:57.680880Z",
     "shell.execute_reply": "2022-12-02T19:05:57.680032Z",
     "shell.execute_reply.started": "2022-12-02T19:05:57.676781Z"
    },
    "tags": []
   },
   "outputs": [],
   "source": [
    "desired_outcome_mapping = {\"X\": \"lost\", \"Y\": \"draw\", \"Z\": \"win\"}"
   ]
  },
  {
   "cell_type": "code",
   "execution_count": 46,
   "id": "cabc4eab-6954-4cb4-aa36-2128613687b7",
   "metadata": {
    "execution": {
     "iopub.execute_input": "2022-12-02T19:08:34.254857Z",
     "iopub.status.busy": "2022-12-02T19:08:34.254354Z",
     "iopub.status.idle": "2022-12-02T19:08:34.260205Z",
     "shell.execute_reply": "2022-12-02T19:08:34.259060Z",
     "shell.execute_reply.started": "2022-12-02T19:08:34.254823Z"
    },
    "tags": []
   },
   "outputs": [],
   "source": [
    "inverse_outcomes = {}\n",
    "for k, v in outcomes_rules.items():\n",
    "    inverse_outcomes[v] = inverse_outcomes.get(v, []) + [k]"
   ]
  },
  {
   "cell_type": "code",
   "execution_count": 47,
   "id": "cc6335a8-9964-4c23-adb4-996854417c8f",
   "metadata": {
    "execution": {
     "iopub.execute_input": "2022-12-02T19:08:34.846337Z",
     "iopub.status.busy": "2022-12-02T19:08:34.845996Z",
     "iopub.status.idle": "2022-12-02T19:08:34.851376Z",
     "shell.execute_reply": "2022-12-02T19:08:34.850549Z",
     "shell.execute_reply.started": "2022-12-02T19:08:34.846306Z"
    },
    "tags": []
   },
   "outputs": [
    {
     "data": {
      "text/plain": [
       "{'draw': ['A X', 'B Y', 'C Z'],\n",
       " 'win': ['A Y', 'B Z', 'C X'],\n",
       " 'lost': ['A Z', 'B X', 'C Y']}"
      ]
     },
     "execution_count": 47,
     "metadata": {},
     "output_type": "execute_result"
    }
   ],
   "source": [
    "inverse_outcomes"
   ]
  },
  {
   "cell_type": "code",
   "execution_count": 54,
   "id": "5814299f-030f-4911-8985-03863702d6d8",
   "metadata": {
    "execution": {
     "iopub.execute_input": "2022-12-02T19:10:30.172804Z",
     "iopub.status.busy": "2022-12-02T19:10:30.172483Z",
     "iopub.status.idle": "2022-12-02T19:10:30.176648Z",
     "shell.execute_reply": "2022-12-02T19:10:30.175840Z",
     "shell.execute_reply.started": "2022-12-02T19:10:30.172779Z"
    },
    "tags": []
   },
   "outputs": [],
   "source": [
    "def choose_the_responce(enemy_move: str, desired_outcome: str) -> str:\n",
    "    possible_moves = inverse_outcomes[desired_outcome]\n",
    "    return [move for move in possible_moves if move[0] == enemy_move][0][-1]"
   ]
  },
  {
   "cell_type": "code",
   "execution_count": 57,
   "id": "8746d4a9-fa60-46b3-849d-b675b4587199",
   "metadata": {
    "execution": {
     "iopub.execute_input": "2022-12-02T19:13:41.369081Z",
     "iopub.status.busy": "2022-12-02T19:13:41.368753Z",
     "iopub.status.idle": "2022-12-02T19:13:41.378231Z",
     "shell.execute_reply": "2022-12-02T19:13:41.377467Z",
     "shell.execute_reply.started": "2022-12-02T19:13:41.369053Z"
    },
    "tags": []
   },
   "outputs": [],
   "source": [
    "sum_of_scores = 0\n",
    "for move in moves:\n",
    "    desired_outcome = desired_outcome_mapping[move[-1]]\n",
    "    responce = choose_the_responce(move[0], desired_outcome)\n",
    "    move_score = move_scores[responce]\n",
    "    outcome_score = outcome_scores[desired_outcome]\n",
    "    sum_of_scores += sum([move_score, outcome_score])"
   ]
  },
  {
   "cell_type": "code",
   "execution_count": 58,
   "id": "6dae4ed5-700d-4852-87e4-cf3aeb06b618",
   "metadata": {
    "execution": {
     "iopub.execute_input": "2022-12-02T19:13:45.254357Z",
     "iopub.status.busy": "2022-12-02T19:13:45.253869Z",
     "iopub.status.idle": "2022-12-02T19:13:45.261106Z",
     "shell.execute_reply": "2022-12-02T19:13:45.260147Z",
     "shell.execute_reply.started": "2022-12-02T19:13:45.254326Z"
    },
    "tags": []
   },
   "outputs": [
    {
     "data": {
      "text/plain": [
       "14416"
      ]
     },
     "execution_count": 58,
     "metadata": {},
     "output_type": "execute_result"
    }
   ],
   "source": [
    "sum_of_scores"
   ]
  },
  {
   "cell_type": "code",
   "execution_count": 59,
   "id": "8cf5f094-13fc-4110-bf7b-a3e69bab3227",
   "metadata": {
    "execution": {
     "iopub.execute_input": "2022-12-02T19:14:10.491044Z",
     "iopub.status.busy": "2022-12-02T19:14:10.490615Z",
     "iopub.status.idle": "2022-12-02T19:14:10.495192Z",
     "shell.execute_reply": "2022-12-02T19:14:10.493933Z",
     "shell.execute_reply.started": "2022-12-02T19:14:10.491008Z"
    }
   },
   "outputs": [],
   "source": [
    "assert sum_of_scores == 14416"
   ]
  },
  {
   "cell_type": "code",
   "execution_count": null,
   "id": "7da0141d-ca14-4e52-855c-4beb72791de3",
   "metadata": {},
   "outputs": [],
   "source": []
  }
 ],
 "metadata": {
  "kernelspec": {
   "display_name": "Python 3 (ipykernel)",
   "language": "python",
   "name": "python3"
  },
  "language_info": {
   "codemirror_mode": {
    "name": "ipython",
    "version": 3
   },
   "file_extension": ".py",
   "mimetype": "text/x-python",
   "name": "python",
   "nbconvert_exporter": "python",
   "pygments_lexer": "ipython3",
   "version": "3.8.10"
  }
 },
 "nbformat": 4,
 "nbformat_minor": 5
}
