{
 "cells": [
  {
   "cell_type": "markdown",
   "id": "f93f3045-5a68-4068-b600-38c46410e204",
   "metadata": {},
   "source": [
    "## --- Day 7: No Space Left On Device ---\n",
    "```\n",
    "You can hear birds chirping and raindrops hitting leaves as the expedition proceeds. Occasionally, you can even hear much louder sounds in the distance; how big do the animals get out here, anyway?\n",
    "\n",
    "The device the Elves gave you has problems with more than just its communication system. You try to run a system update:\n",
    "\n",
    "$ system-update --please --pretty-please-with-sugar-on-top\n",
    "Error: No space left on device\n",
    "\n",
    "Perhaps you can delete some files to make space for the update?\n",
    "\n",
    "You browse around the filesystem to assess the situation and save the resulting terminal output (your puzzle input). For example:\n",
    "\n",
    "$ cd /\n",
    "$ ls\n",
    "dir a\n",
    "14848514 b.txt\n",
    "8504156 c.dat\n",
    "dir d\n",
    "$ cd a\n",
    "$ ls\n",
    "dir e\n",
    "29116 f\n",
    "2557 g\n",
    "62596 h.lst\n",
    "$ cd e\n",
    "$ ls\n",
    "584 i\n",
    "$ cd ..\n",
    "$ cd ..\n",
    "$ cd d\n",
    "$ ls\n",
    "4060174 j\n",
    "8033020 d.log\n",
    "5626152 d.ext\n",
    "7214296 k\n",
    "\n",
    "The filesystem consists of a tree of files (plain data) and directories (which can contain other directories or files). The outermost directory is called /. You can navigate around the filesystem, moving into or out of directories and listing the contents of the directory you're currently in.\n",
    "\n",
    "Within the terminal output, lines that begin with $ are commands you executed, very much like some modern computers:\n",
    "\n",
    "    cd means change directory. This changes which directory is the current directory, but the specific result depends on the argument:\n",
    "        cd x moves in one level: it looks in the current directory for the directory named x and makes it the current directory.\n",
    "        cd .. moves out one level: it finds the directory that contains the current directory, then makes that directory the current directory.\n",
    "        cd / switches the current directory to the outermost directory, /.\n",
    "    ls means list. It prints out all of the files and directories immediately contained by the current directory:\n",
    "        123 abc means that the current directory contains a file named abc with size 123.\n",
    "        dir xyz means that the current directory contains a directory named xyz.\n",
    "\n",
    "Given the commands and output in the example above, you can determine that the filesystem looks visually like this:\n",
    "\n",
    "- / (dir)\n",
    "  - a (dir)\n",
    "    - e (dir)\n",
    "      - i (file, size=584)\n",
    "    - f (file, size=29116)\n",
    "    - g (file, size=2557)\n",
    "    - h.lst (file, size=62596)\n",
    "  - b.txt (file, size=14848514)\n",
    "  - c.dat (file, size=8504156)\n",
    "  - d (dir)\n",
    "    - j (file, size=4060174)\n",
    "    - d.log (file, size=8033020)\n",
    "    - d.ext (file, size=5626152)\n",
    "    - k (file, size=7214296)\n",
    "\n",
    "Here, there are four directories: / (the outermost directory), a and d (which are in /), and e (which is in a). These directories also contain files of various sizes.\n",
    "\n",
    "Since the disk is full, your first step should probably be to find directories that are good candidates for deletion. To do this, you need to determine the total size of each directory. The total size of a directory is the sum of the sizes of the files it contains, directly or indirectly. (Directories themselves do not count as having any intrinsic size.)\n",
    "\n",
    "The total sizes of the directories above can be found as follows:\n",
    "\n",
    "    The total size of directory e is 584 because it contains a single file i of size 584 and no other directories.\n",
    "    The directory a has total size 94853 because it contains files f (size 29116), g (size 2557), and h.lst (size 62596), plus file i indirectly (a contains e which contains i).\n",
    "    Directory d has total size 24933642.\n",
    "    As the outermost directory, / contains every file. Its total size is 48381165, the sum of the size of every file.\n",
    "\n",
    "To begin, find all of the directories with a total size of at most 100000, then calculate the sum of their total sizes. In the example above, these directories are a and e; the sum of their total sizes is 95437 (94853 + 584). (As in this example, this process can count files more than once!)\n",
    "\n",
    "Find all of the directories with a total size of at most 100000. What is the sum of the total sizes of those directories?\n",
    "```"
   ]
  },
  {
   "cell_type": "code",
   "execution_count": 1,
   "id": "bfd7e71b-e604-41bb-a2a6-704615f1a655",
   "metadata": {
    "execution": {
     "iopub.execute_input": "2022-12-08T05:10:47.030422Z",
     "iopub.status.busy": "2022-12-08T05:10:47.029512Z",
     "iopub.status.idle": "2022-12-08T05:10:47.050788Z",
     "shell.execute_reply": "2022-12-08T05:10:47.048406Z",
     "shell.execute_reply.started": "2022-12-08T05:10:47.030311Z"
    },
    "tags": []
   },
   "outputs": [],
   "source": [
    "from typing import List, Dict"
   ]
  },
  {
   "cell_type": "code",
   "execution_count": 2,
   "id": "1467037a-d777-403e-a53d-e8d2873e99e6",
   "metadata": {
    "execution": {
     "iopub.execute_input": "2022-12-08T05:10:47.456889Z",
     "iopub.status.busy": "2022-12-08T05:10:47.456506Z",
     "iopub.status.idle": "2022-12-08T05:10:47.462274Z",
     "shell.execute_reply": "2022-12-08T05:10:47.460987Z",
     "shell.execute_reply.started": "2022-12-08T05:10:47.456833Z"
    },
    "tags": []
   },
   "outputs": [],
   "source": [
    "with open(\"data/day_7.txt\", \"r\") as f:\n",
    "    logs = f.read().split(\"$ ls\")"
   ]
  },
  {
   "cell_type": "markdown",
   "id": "c1b77db1-0c9e-4d70-b297-dbaec3c1af0b",
   "metadata": {
    "execution": {
     "iopub.execute_input": "2022-12-07T17:15:33.218727Z",
     "iopub.status.busy": "2022-12-07T17:15:33.218171Z",
     "iopub.status.idle": "2022-12-07T17:15:33.223371Z",
     "shell.execute_reply": "2022-12-07T17:15:33.221992Z",
     "shell.execute_reply.started": "2022-12-07T17:15:33.218687Z"
    }
   },
   "source": [
    "### Parse logs in to flat structure"
   ]
  },
  {
   "cell_type": "code",
   "execution_count": 3,
   "id": "64c65157-d1f7-4db3-a8df-d1bd9d78a2c8",
   "metadata": {
    "execution": {
     "iopub.execute_input": "2022-12-08T05:10:48.687414Z",
     "iopub.status.busy": "2022-12-08T05:10:48.686932Z",
     "iopub.status.idle": "2022-12-08T05:10:48.695780Z",
     "shell.execute_reply": "2022-12-08T05:10:48.694798Z",
     "shell.execute_reply.started": "2022-12-08T05:10:48.687380Z"
    },
    "tags": []
   },
   "outputs": [],
   "source": [
    "position = \"/\"\n",
    "tree = {position: []}\n",
    "separator = \"/\"\n",
    "\n",
    "for log in logs[1:]:\n",
    "    log_parsed = log.split(\"\\n\")\n",
    "    log_parsed = [l for l in log_parsed if l != \"\"]\n",
    "    for item in log_parsed:\n",
    "        if item.startswith(\"dir\"):\n",
    "            tree[position] = tree[position] + [item]\n",
    "        elif item.startswith(\"$ cd\") and item != \"$ cd ..\":\n",
    "            move = item.split(\"$ cd \")[1]\n",
    "            position = separator.join([position, move])\n",
    "            tree[position] = []\n",
    "        elif item == \"$ cd ..\":\n",
    "            position = separator.join(position.split(separator)[:-1])\n",
    "        else:\n",
    "            tree[position].append(item)"
   ]
  },
  {
   "cell_type": "code",
   "execution_count": 5,
   "id": "2e8e1c14-f105-4c25-a09d-1e2768de4de3",
   "metadata": {
    "execution": {
     "iopub.execute_input": "2022-12-08T05:11:04.735386Z",
     "iopub.status.busy": "2022-12-08T05:11:04.734946Z",
     "iopub.status.idle": "2022-12-08T05:11:04.740654Z",
     "shell.execute_reply": "2022-12-08T05:11:04.739705Z",
     "shell.execute_reply.started": "2022-12-08T05:11:04.735332Z"
    }
   },
   "outputs": [],
   "source": [
    "def sort_by_depth(lst: List[str], reverse=True) -> List[str]:\n",
    "    return sorted(lst, key=lambda x: len(x.split(separator)), reverse=reverse)"
   ]
  },
  {
   "cell_type": "markdown",
   "id": "062bff71-c6f2-4c9c-9658-3e4d29ebb98c",
   "metadata": {
    "execution": {
     "iopub.execute_input": "2022-12-07T17:15:52.786456Z",
     "iopub.status.busy": "2022-12-07T17:15:52.785903Z",
     "iopub.status.idle": "2022-12-07T17:15:52.790956Z",
     "shell.execute_reply": "2022-12-07T17:15:52.789705Z",
     "shell.execute_reply.started": "2022-12-07T17:15:52.786417Z"
    }
   },
   "source": [
    "### Example of paths"
   ]
  },
  {
   "cell_type": "code",
   "execution_count": 7,
   "id": "b9ea70c2-27a8-469d-9f38-8dddfde8b981",
   "metadata": {
    "execution": {
     "iopub.execute_input": "2022-12-08T05:11:22.436843Z",
     "iopub.status.busy": "2022-12-08T05:11:22.436522Z",
     "iopub.status.idle": "2022-12-08T05:11:22.442607Z",
     "shell.execute_reply": "2022-12-08T05:11:22.441872Z",
     "shell.execute_reply.started": "2022-12-08T05:11:22.436814Z"
    },
    "tags": []
   },
   "outputs": [
    {
     "data": {
      "text/plain": [
       "['//dzbfsf/tllwm/smnslwd/tlms/ptzptl/hsp/rjvmwmgm/tnpfpcz/jjn/nlmt',\n",
       " '//dzbfsf/tllwm/smnslwd/tlms/ptzptl/hsp/dzbfsf/ntmzsm/drbl',\n",
       " '//dzbfsf/tllwm/smnslwd/tlms/ptzptl/hsp/dzbfsf/ntmzsm/frnvqp',\n",
       " '//dzbfsf/tllwm/smnslwd/tlms/ptzptl/hsp/rjvmwmgm/tnpfpcz/jjn',\n",
       " '//dzbfsf/tllwm/smnslwd/tlms/ptzptl/nglr/ztbjwv/zzrsvbg/ddgtnw',\n",
       " '//dzbfsf/tllwm/smnslwd/tlms/ptzptl/qgbbv/prszvcp/mtlr/vztmrn',\n",
       " '//dzbfsf/tllwm/smnslwd/tlms/ptzptl/qgbbv/qwrnllw/nsrhgbt/smnslwd',\n",
       " '//dzbfsf/tllwm/smnslwd/tlms/ptzptl/qgbbv/qwrnllw/nsrhgbt/vsnmq',\n",
       " '//dzbfsf/tllwm/smnslwd/tlms/ptzptl/hsp/dzbfsf/ntmzsm',\n",
       " '//dzbfsf/tllwm/smnslwd/tlms/ptzptl/hsp/rjvmwmgm/tlms']"
      ]
     },
     "execution_count": 7,
     "metadata": {},
     "output_type": "execute_result"
    }
   ],
   "source": [
    "sort_by_depth(list(tree.keys()))[:10]"
   ]
  },
  {
   "cell_type": "code",
   "execution_count": 8,
   "id": "313f2313-12a6-4b9d-94ee-8a1e9c2a16fb",
   "metadata": {
    "execution": {
     "iopub.execute_input": "2022-12-08T05:11:24.468661Z",
     "iopub.status.busy": "2022-12-08T05:11:24.468255Z",
     "iopub.status.idle": "2022-12-08T05:11:24.479461Z",
     "shell.execute_reply": "2022-12-08T05:11:24.478604Z",
     "shell.execute_reply.started": "2022-12-08T05:11:24.468633Z"
    },
    "tags": []
   },
   "outputs": [],
   "source": [
    "sizes = {}\n",
    "used_folders = []\n",
    "\n",
    "\n",
    "for folder in sort_by_depth(list(tree.keys())):\n",
    "    items = tree[folder]\n",
    "    size = 0\n",
    "    for item in items:\n",
    "        if not item.startswith(\"dir\"):\n",
    "            size += int(item.split(\" \")[0])\n",
    "    subpaths = sort_by_depth(\n",
    "        [path for path in used_folders if folder in path], reverse=False\n",
    "    )\n",
    "    if subpaths:\n",
    "        shortes_path_depth = len(subpaths[0].split(separator))\n",
    "        for path in subpaths:\n",
    "            if len(path.split(separator)) == shortes_path_depth:\n",
    "                size += sizes[path]\n",
    "    used_folders.append(folder)\n",
    "    sizes[folder] = size"
   ]
  },
  {
   "cell_type": "code",
   "execution_count": 9,
   "id": "55277dcf-e2c0-4613-8d9c-8909a85fb6d5",
   "metadata": {
    "execution": {
     "iopub.execute_input": "2022-12-08T05:11:25.271488Z",
     "iopub.status.busy": "2022-12-08T05:11:25.271124Z",
     "iopub.status.idle": "2022-12-08T05:11:25.277975Z",
     "shell.execute_reply": "2022-12-08T05:11:25.276779Z",
     "shell.execute_reply.started": "2022-12-08T05:11:25.271457Z"
    },
    "tags": []
   },
   "outputs": [
    {
     "data": {
      "text/plain": [
       "1334506"
      ]
     },
     "execution_count": 9,
     "metadata": {},
     "output_type": "execute_result"
    }
   ],
   "source": [
    "folder_cutoff: int = 100_000\n",
    "first_answer: int = 0\n",
    "for folder in sizes:\n",
    "    if sizes[folder] <= folder_cutoff:\n",
    "        first_answer += sizes[folder]\n",
    "first_answer"
   ]
  },
  {
   "cell_type": "code",
   "execution_count": 10,
   "id": "b137610a-31cf-4407-8c64-f3e2b0599916",
   "metadata": {
    "execution": {
     "iopub.execute_input": "2022-12-08T05:11:25.778022Z",
     "iopub.status.busy": "2022-12-08T05:11:25.777501Z",
     "iopub.status.idle": "2022-12-08T05:11:25.782993Z",
     "shell.execute_reply": "2022-12-08T05:11:25.782041Z",
     "shell.execute_reply.started": "2022-12-08T05:11:25.777950Z"
    },
    "tags": []
   },
   "outputs": [],
   "source": [
    "assert first_answer == 1334506"
   ]
  },
  {
   "cell_type": "markdown",
   "id": "bc422b5e-0960-48b3-ad44-440f9a94ecf4",
   "metadata": {},
   "source": [
    "## --- Part Two ---\n",
    "```\n",
    "Now, you're ready to choose a directory to delete.\n",
    "\n",
    "The total disk space available to the filesystem is 70000000. To run the update, you need unused space of at least 30000000. You need to find a directory you can delete that will free up enough space to run the update.\n",
    "\n",
    "In the example above, the total size of the outermost directory (and thus the total amount of used space) is 48381165; this means that the size of the unused space must currently be 21618835, which isn't quite the 30000000 required by the update. Therefore, the update still requires a directory with total size of at least 8381165 to be deleted before it can run.\n",
    "\n",
    "To achieve this, you have the following options:\n",
    "\n",
    "    Delete directory e, which would increase unused space by 584.\n",
    "    Delete directory a, which would increase unused space by 94853.\n",
    "    Delete directory d, which would increase unused space by 24933642.\n",
    "    Delete directory /, which would increase unused space by 48381165.\n",
    "\n",
    "Directories e and a are both too small; deleting them would not free up enough space. However, directories d and / are both big enough! Between these, choose the smallest: d, increasing unused space by 24933642.\n",
    "\n",
    "Find the smallest directory that, if deleted, would free up enough space on the filesystem to run the update. What is the total size of that directory?\n",
    "```"
   ]
  },
  {
   "cell_type": "code",
   "execution_count": 11,
   "id": "44a2f65e-0969-447f-b435-b10f279c549f",
   "metadata": {
    "execution": {
     "iopub.execute_input": "2022-12-08T05:11:27.512100Z",
     "iopub.status.busy": "2022-12-08T05:11:27.511724Z",
     "iopub.status.idle": "2022-12-08T05:11:27.516037Z",
     "shell.execute_reply": "2022-12-08T05:11:27.515009Z",
     "shell.execute_reply.started": "2022-12-08T05:11:27.512067Z"
    },
    "tags": []
   },
   "outputs": [],
   "source": [
    "total_disc_space: int = 70_000_000\n",
    "required_free_space: int = 30_000_000"
   ]
  },
  {
   "cell_type": "code",
   "execution_count": 12,
   "id": "e1527590-e989-4d9a-af02-2176e2a3cc10",
   "metadata": {
    "execution": {
     "iopub.execute_input": "2022-12-08T05:11:28.224357Z",
     "iopub.status.busy": "2022-12-08T05:11:28.223993Z",
     "iopub.status.idle": "2022-12-08T05:11:28.229002Z",
     "shell.execute_reply": "2022-12-08T05:11:28.227571Z",
     "shell.execute_reply.started": "2022-12-08T05:11:28.224328Z"
    },
    "tags": []
   },
   "outputs": [],
   "source": [
    "available_space = total_disc_space - sizes[\"/\"]\n",
    "need_to_delete = required_free_space - available_space"
   ]
  },
  {
   "cell_type": "code",
   "execution_count": 13,
   "id": "b7e6dbc9-d177-40a1-bad0-7b3d4cf74a43",
   "metadata": {
    "execution": {
     "iopub.execute_input": "2022-12-08T05:11:28.454545Z",
     "iopub.status.busy": "2022-12-08T05:11:28.454181Z",
     "iopub.status.idle": "2022-12-08T05:11:28.459624Z",
     "shell.execute_reply": "2022-12-08T05:11:28.458666Z",
     "shell.execute_reply.started": "2022-12-08T05:11:28.454516Z"
    },
    "tags": []
   },
   "outputs": [
    {
     "data": {
      "text/plain": [
       "6975962"
      ]
     },
     "execution_count": 13,
     "metadata": {},
     "output_type": "execute_result"
    }
   ],
   "source": [
    "need_to_delete"
   ]
  },
  {
   "cell_type": "code",
   "execution_count": 14,
   "id": "1c7a529d-5838-40fe-8092-087bd70eb5bc",
   "metadata": {
    "execution": {
     "iopub.execute_input": "2022-12-08T05:11:29.595178Z",
     "iopub.status.busy": "2022-12-08T05:11:29.594667Z",
     "iopub.status.idle": "2022-12-08T05:11:29.600034Z",
     "shell.execute_reply": "2022-12-08T05:11:29.598985Z",
     "shell.execute_reply.started": "2022-12-08T05:11:29.595138Z"
    },
    "tags": []
   },
   "outputs": [],
   "source": [
    "diffs = {}\n",
    "for folder in sizes:\n",
    "    diff = sizes[folder] - need_to_delete\n",
    "    if diff > 0:\n",
    "        diffs[folder] = diff"
   ]
  },
  {
   "cell_type": "code",
   "execution_count": 15,
   "id": "28f737c6-fc5e-4c69-b58d-ca0b5c6d3d91",
   "metadata": {
    "execution": {
     "iopub.execute_input": "2022-12-08T05:11:31.690662Z",
     "iopub.status.busy": "2022-12-08T05:11:31.690176Z",
     "iopub.status.idle": "2022-12-08T05:11:31.697391Z",
     "shell.execute_reply": "2022-12-08T05:11:31.696518Z",
     "shell.execute_reply.started": "2022-12-08T05:11:31.690628Z"
    },
    "tags": []
   },
   "outputs": [
    {
     "data": {
      "text/plain": [
       "{'//dzbfsf/tllwm/smnslwd/tlms/ptzptl': 445175,\n",
       " '//qjnnw/shffbpjj/pcqbmmzt': 1552770,\n",
       " '//qjnnw/shffbpjj': 1696709,\n",
       " '//dzbfsf/tllwm/smnslwd/tlms': 4908564,\n",
       " '//dzbfsf/tllwm/smnslwd': 6584684,\n",
       " '//qjnnw': 10484008,\n",
       " '//dzbfsf/tllwm': 11683367,\n",
       " '//dzbfsf': 12378596,\n",
       " '/': 40000000}"
      ]
     },
     "execution_count": 15,
     "metadata": {},
     "output_type": "execute_result"
    }
   ],
   "source": [
    "sorted_diff = {k: v for k, v in sorted(diffs.items(), key=lambda item: item[1])}\n",
    "sorted_diff"
   ]
  },
  {
   "cell_type": "code",
   "execution_count": 16,
   "id": "091dc5b9-8e63-4811-8145-9a927c3b796b",
   "metadata": {
    "execution": {
     "iopub.execute_input": "2022-12-08T05:11:32.223936Z",
     "iopub.status.busy": "2022-12-08T05:11:32.223421Z",
     "iopub.status.idle": "2022-12-08T05:11:32.230769Z",
     "shell.execute_reply": "2022-12-08T05:11:32.230014Z",
     "shell.execute_reply.started": "2022-12-08T05:11:32.223898Z"
    },
    "tags": []
   },
   "outputs": [
    {
     "data": {
      "text/plain": [
       "('//dzbfsf/tllwm/smnslwd/tlms/ptzptl', 7421137)"
      ]
     },
     "execution_count": 16,
     "metadata": {},
     "output_type": "execute_result"
    }
   ],
   "source": [
    "list(sorted_diff.keys())[0], sizes[list(sorted_diff.keys())[0]]"
   ]
  },
  {
   "cell_type": "code",
   "execution_count": 17,
   "id": "76dc22e9-8800-4b9c-882f-f95542c2af90",
   "metadata": {
    "execution": {
     "iopub.execute_input": "2022-12-08T05:11:32.776976Z",
     "iopub.status.busy": "2022-12-08T05:11:32.776531Z",
     "iopub.status.idle": "2022-12-08T05:11:32.783424Z",
     "shell.execute_reply": "2022-12-08T05:11:32.782645Z",
     "shell.execute_reply.started": "2022-12-08T05:11:32.776940Z"
    },
    "tags": []
   },
   "outputs": [
    {
     "data": {
      "text/plain": [
       "7421137"
      ]
     },
     "execution_count": 17,
     "metadata": {},
     "output_type": "execute_result"
    }
   ],
   "source": [
    "second_answer = sizes[list(sorted_diff.keys())[0]]\n",
    "second_answer"
   ]
  },
  {
   "cell_type": "code",
   "execution_count": 18,
   "id": "329672f5-3d28-45c3-ab59-a3caa535a20c",
   "metadata": {
    "execution": {
     "iopub.execute_input": "2022-12-08T05:11:33.413079Z",
     "iopub.status.busy": "2022-12-08T05:11:33.411912Z",
     "iopub.status.idle": "2022-12-08T05:11:33.416724Z",
     "shell.execute_reply": "2022-12-08T05:11:33.415756Z",
     "shell.execute_reply.started": "2022-12-08T05:11:33.412999Z"
    },
    "tags": []
   },
   "outputs": [],
   "source": [
    "assert second_answer == 7421137"
   ]
  },
  {
   "cell_type": "code",
   "execution_count": null,
   "id": "0d9b3ec6-7ab4-4e5d-a7d1-51162df21f41",
   "metadata": {},
   "outputs": [],
   "source": []
  }
 ],
 "metadata": {
  "kernelspec": {
   "display_name": "Python 3 (ipykernel)",
   "language": "python",
   "name": "python3"
  },
  "language_info": {
   "codemirror_mode": {
    "name": "ipython",
    "version": 3
   },
   "file_extension": ".py",
   "mimetype": "text/x-python",
   "name": "python",
   "nbconvert_exporter": "python",
   "pygments_lexer": "ipython3",
   "version": "3.8.10"
  }
 },
 "nbformat": 4,
 "nbformat_minor": 5
}
