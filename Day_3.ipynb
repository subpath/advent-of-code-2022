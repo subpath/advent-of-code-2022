{
 "cells": [
  {
   "cell_type": "markdown",
   "id": "19ede656-ac03-4466-8d4d-627730907af3",
   "metadata": {},
   "source": [
    "```\n",
    "--- Day 3: Rucksack Reorganization ---\n",
    "\n",
    "One Elf has the important job of loading all of the rucksacks with supplies for the jungle journey. Unfortunately, that Elf didn't quite follow the packing instructions, and so a few items now need to be rearranged.\n",
    "\n",
    "Each rucksack has two large compartments. All items of a given type are meant to go into exactly one of the two compartments. The Elf that did the packing failed to follow this rule for exactly one item type per rucksack.\n",
    "\n",
    "The Elves have made a list of all of the items currently in each rucksack (your puzzle input), but they need your help finding the errors. Every item type is identified by a single lowercase or uppercase letter (that is, a and A refer to different types of items).\n",
    "\n",
    "The list of items for each rucksack is given as characters all on a single line. A given rucksack always has the same number of items in each of its two compartments, so the first half of the characters represent items in the first compartment, while the second half of the characters represent items in the second compartment.\n",
    "\n",
    "For example, suppose you have the following list of contents from six rucksacks:\n",
    "\n",
    "vJrwpWtwJgWrhcsFMMfFFhFp\n",
    "jqHRNqRjqzjGDLGLrsFMfFZSrLrFZsSL\n",
    "PmmdzqPrVvPwwTWBwg\n",
    "wMqvLMZHhHMvwLHjbvcjnnSBnvTQFn\n",
    "ttgJtRGJQctTZtZT\n",
    "CrZsJsPPZsGzwwsLwLmpwMDw\n",
    "\n",
    "    The first rucksack contains the items vJrwpWtwJgWrhcsFMMfFFhFp, which means its first compartment contains the items vJrwpWtwJgWr, while the second compartment contains the items hcsFMMfFFhFp. The only item type that appears in both compartments is lowercase p.\n",
    "    The second rucksack's compartments contain jqHRNqRjqzjGDLGL and rsFMfFZSrLrFZsSL. The only item type that appears in both compartments is uppercase L.\n",
    "    The third rucksack's compartments contain PmmdzqPrV and vPwwTWBwg; the only common item type is uppercase P.\n",
    "    The fourth rucksack's compartments only share item type v.\n",
    "    The fifth rucksack's compartments only share item type t.\n",
    "    The sixth rucksack's compartments only share item type s.\n",
    "\n",
    "To help prioritize item rearrangement, every item type can be converted to a priority:\n",
    "\n",
    "    Lowercase item types a through z have priorities 1 through 26.\n",
    "    Uppercase item types A through Z have priorities 27 through 52.\n",
    "\n",
    "In the above example, the priority of the item type that appears in both compartments of each rucksack is 16 (p), 38 (L), 42 (P), 22 (v), 20 (t), and 19 (s); the sum of these is 157.\n",
    "\n",
    "Find the item type that appears in both compartments of each rucksack. What is the sum of the priorities of those item types?\n",
    "\n",
    "```"
   ]
  },
  {
   "cell_type": "code",
   "execution_count": 1,
   "id": "50e85ed0-482a-41e7-9dcd-951dd05ceb78",
   "metadata": {
    "execution": {
     "iopub.execute_input": "2022-12-03T11:30:31.685358Z",
     "iopub.status.busy": "2022-12-03T11:30:31.683908Z",
     "iopub.status.idle": "2022-12-03T11:30:31.696564Z",
     "shell.execute_reply": "2022-12-03T11:30:31.693437Z",
     "shell.execute_reply.started": "2022-12-03T11:30:31.685282Z"
    },
    "tags": []
   },
   "outputs": [],
   "source": [
    "import string\n",
    "\n",
    "with open(\"data/day_3.csv\", \"r\") as f:\n",
    "    data = f.read().split(\"\\n\")"
   ]
  },
  {
   "cell_type": "code",
   "execution_count": 2,
   "id": "9876f7f7-b93f-4c8a-b4f2-68bd8aa37dbd",
   "metadata": {
    "execution": {
     "iopub.execute_input": "2022-12-03T11:30:32.816085Z",
     "iopub.status.busy": "2022-12-03T11:30:32.815529Z",
     "iopub.status.idle": "2022-12-03T11:30:32.820386Z",
     "shell.execute_reply": "2022-12-03T11:30:32.819221Z",
     "shell.execute_reply.started": "2022-12-03T11:30:32.816049Z"
    },
    "tags": []
   },
   "outputs": [],
   "source": [
    "for r in data:\n",
    "    assert len(r) % 2 == 0"
   ]
  },
  {
   "cell_type": "code",
   "execution_count": 3,
   "id": "e4a0f060-7a88-4fcf-aa33-04470e38da57",
   "metadata": {
    "execution": {
     "iopub.execute_input": "2022-12-03T11:30:33.242743Z",
     "iopub.status.busy": "2022-12-03T11:30:33.242355Z",
     "iopub.status.idle": "2022-12-03T11:30:33.247516Z",
     "shell.execute_reply": "2022-12-03T11:30:33.246232Z",
     "shell.execute_reply.started": "2022-12-03T11:30:33.242715Z"
    },
    "tags": []
   },
   "outputs": [],
   "source": [
    "ALPHABET: str = string.ascii_lowercase + string.ascii_lowercase.upper()\n",
    "\n",
    "\n",
    "def get_priority(item: str) -> int:\n",
    "    return alphabet.find(item) + 1"
   ]
  },
  {
   "cell_type": "code",
   "execution_count": 9,
   "id": "9d4d5897-dff8-4fcb-ba76-deee39a54bf6",
   "metadata": {
    "execution": {
     "iopub.execute_input": "2022-12-03T11:32:01.107710Z",
     "iopub.status.busy": "2022-12-03T11:32:01.107417Z",
     "iopub.status.idle": "2022-12-03T11:32:01.112054Z",
     "shell.execute_reply": "2022-12-03T11:32:01.111149Z",
     "shell.execute_reply.started": "2022-12-03T11:32:01.107687Z"
    },
    "tags": []
   },
   "outputs": [],
   "source": [
    "assert get_priority(\"L\") == 38\n",
    "assert get_priority(\"s\") == 19\n",
    "assert get_priority(\"P\") == 42\n",
    "assert get_priority(\"p\") == 16\n",
    "assert get_priority(\"a\") == 1\n",
    "assert get_priority(\"Z\") == 52"
   ]
  },
  {
   "cell_type": "code",
   "execution_count": 12,
   "id": "a89dfe5b-059a-4e7d-b87a-7ff6ed235982",
   "metadata": {
    "execution": {
     "iopub.execute_input": "2022-12-03T11:34:03.654203Z",
     "iopub.status.busy": "2022-12-03T11:34:03.653811Z",
     "iopub.status.idle": "2022-12-03T11:34:03.661085Z",
     "shell.execute_reply": "2022-12-03T11:34:03.660022Z",
     "shell.execute_reply.started": "2022-12-03T11:34:03.654173Z"
    },
    "tags": []
   },
   "outputs": [],
   "source": [
    "overlapping_items = []\n",
    "for r in data:\n",
    "    first_half = list(set(r[: len(r) // 2]))\n",
    "    second_half = list(set(r[len(r) // 2 :]))\n",
    "    for char in first_half:\n",
    "        if char in second_half:\n",
    "            overlapping_items.append(char)"
   ]
  },
  {
   "cell_type": "code",
   "execution_count": 14,
   "id": "66bb73f9-3235-4472-98ac-e4154d9117a4",
   "metadata": {
    "execution": {
     "iopub.execute_input": "2022-12-03T11:34:35.998723Z",
     "iopub.status.busy": "2022-12-03T11:34:35.998356Z",
     "iopub.status.idle": "2022-12-03T11:34:36.005064Z",
     "shell.execute_reply": "2022-12-03T11:34:36.004202Z",
     "shell.execute_reply.started": "2022-12-03T11:34:35.998692Z"
    },
    "tags": []
   },
   "outputs": [
    {
     "data": {
      "text/plain": [
       "7811"
      ]
     },
     "execution_count": 14,
     "metadata": {},
     "output_type": "execute_result"
    }
   ],
   "source": [
    "overlapping_sum = sum(list(map(get_priority, overlapping_items)))\n",
    "overlapping_sum"
   ]
  },
  {
   "cell_type": "code",
   "execution_count": 23,
   "id": "3437b647-4b66-42cd-b7a3-14beb4c6b618",
   "metadata": {
    "execution": {
     "iopub.execute_input": "2022-12-03T11:45:22.313267Z",
     "iopub.status.busy": "2022-12-03T11:45:22.312944Z",
     "iopub.status.idle": "2022-12-03T11:45:22.317019Z",
     "shell.execute_reply": "2022-12-03T11:45:22.315991Z",
     "shell.execute_reply.started": "2022-12-03T11:45:22.313240Z"
    },
    "tags": []
   },
   "outputs": [],
   "source": [
    "assert overlapping_sum == 7811"
   ]
  },
  {
   "cell_type": "markdown",
   "id": "c50efe21-1e37-433a-8d16-f30bb8a249f3",
   "metadata": {},
   "source": [
    "```\n",
    "--- Part Two ---\n",
    "\n",
    "As you finish identifying the misplaced items, the Elves come to you with another issue.\n",
    "\n",
    "For safety, the Elves are divided into groups of three. Every Elf carries a badge that identifies their group. For efficiency, within each group of three Elves, the badge is the only item type carried by all three Elves. That is, if a group's badge is item type B, then all three Elves will have item type B somewhere in their rucksack, and at most two of the Elves will be carrying any other item type.\n",
    "\n",
    "The problem is that someone forgot to put this year's updated authenticity sticker on the badges. All of the badges need to be pulled out of the rucksacks so the new authenticity stickers can be attached.\n",
    "\n",
    "Additionally, nobody wrote down which item type corresponds to each group's badges. The only way to tell which item type is the right one is by finding the one item type that is common between all three Elves in each group.\n",
    "\n",
    "Every set of three lines in your list corresponds to a single group, but each group can have a different badge item type. So, in the above example, the first group's rucksacks are the first three lines:\n",
    "\n",
    "vJrwpWtwJgWrhcsFMMfFFhFp\n",
    "jqHRNqRjqzjGDLGLrsFMfFZSrLrFZsSL\n",
    "PmmdzqPrVvPwwTWBwg\n",
    "\n",
    "And the second group's rucksacks are the next three lines:\n",
    "\n",
    "wMqvLMZHhHMvwLHjbvcjnnSBnvTQFn\n",
    "ttgJtRGJQctTZtZT\n",
    "CrZsJsPPZsGzwwsLwLmpwMDw\n",
    "\n",
    "In the first group, the only item type that appears in all three rucksacks is lowercase r; this must be their badges. In the second group, their badge item type must be Z.\n",
    "\n",
    "Priorities for these items must still be found to organize the sticker attachment efforts: here, they are 18 (r) for the first group and 52 (Z) for the second group. The sum of these is 70.\n",
    "\n",
    "Find the item type that corresponds to the badges of each three-Elf group. What is the sum of the priorities of those item types?\n",
    "\n",
    "```"
   ]
  },
  {
   "cell_type": "code",
   "execution_count": 16,
   "id": "e9fa25bb-e992-4cee-be44-a0c66f105078",
   "metadata": {
    "execution": {
     "iopub.execute_input": "2022-12-03T11:40:58.441269Z",
     "iopub.status.busy": "2022-12-03T11:40:58.440859Z",
     "iopub.status.idle": "2022-12-03T11:40:58.446104Z",
     "shell.execute_reply": "2022-12-03T11:40:58.445200Z",
     "shell.execute_reply.started": "2022-12-03T11:40:58.441241Z"
    }
   },
   "outputs": [],
   "source": [
    "GROUP_SIZE: int = 3\n",
    "\n",
    "# borrowed from here: https://stackoverflow.com/a/312464/5444759\n",
    "def chunks(lst, n):\n",
    "    \"\"\"Yield successive n-sized chunks from lst.\"\"\"\n",
    "    for i in range(0, len(lst), n):\n",
    "        yield lst[i : i + n]"
   ]
  },
  {
   "cell_type": "code",
   "execution_count": 21,
   "id": "2de6a614-c7f7-4296-a4b6-77cd12210a27",
   "metadata": {
    "execution": {
     "iopub.execute_input": "2022-12-03T11:45:06.502991Z",
     "iopub.status.busy": "2022-12-03T11:45:06.502483Z",
     "iopub.status.idle": "2022-12-03T11:45:06.509883Z",
     "shell.execute_reply": "2022-12-03T11:45:06.508829Z",
     "shell.execute_reply.started": "2022-12-03T11:45:06.502959Z"
    },
    "tags": []
   },
   "outputs": [],
   "source": [
    "groups = chunks(data, GROUP_SIZE)\n",
    "group_badges = []\n",
    "for group in groups:\n",
    "    unique_items = [list(set(r)) for r in group]\n",
    "    for item in unique_items[0]:\n",
    "        if item in unique_items[1] and item in unique_items[2]:\n",
    "            group_badges.append(item)"
   ]
  },
  {
   "cell_type": "code",
   "execution_count": 24,
   "id": "f432a93a-00d7-42dd-a256-321bad208e55",
   "metadata": {
    "execution": {
     "iopub.execute_input": "2022-12-03T11:45:39.422932Z",
     "iopub.status.busy": "2022-12-03T11:45:39.422523Z",
     "iopub.status.idle": "2022-12-03T11:45:39.428754Z",
     "shell.execute_reply": "2022-12-03T11:45:39.428022Z",
     "shell.execute_reply.started": "2022-12-03T11:45:39.422903Z"
    },
    "tags": []
   },
   "outputs": [
    {
     "data": {
      "text/plain": [
       "2639"
      ]
     },
     "execution_count": 24,
     "metadata": {},
     "output_type": "execute_result"
    }
   ],
   "source": [
    "badge_sum = sum(list(map(get_priority, group_badges)))\n",
    "badge_sum"
   ]
  },
  {
   "cell_type": "code",
   "execution_count": 25,
   "id": "3b9d75f5-8f70-4e78-8295-d9baf15e1d73",
   "metadata": {
    "execution": {
     "iopub.execute_input": "2022-12-03T11:45:57.107876Z",
     "iopub.status.busy": "2022-12-03T11:45:57.107478Z",
     "iopub.status.idle": "2022-12-03T11:45:57.113284Z",
     "shell.execute_reply": "2022-12-03T11:45:57.111298Z",
     "shell.execute_reply.started": "2022-12-03T11:45:57.107817Z"
    }
   },
   "outputs": [],
   "source": [
    "assert badge_sum == 2639"
   ]
  },
  {
   "cell_type": "code",
   "execution_count": null,
   "id": "10f2822f-e759-4684-a053-dcc3c29a7265",
   "metadata": {},
   "outputs": [],
   "source": []
  }
 ],
 "metadata": {
  "kernelspec": {
   "display_name": "Python 3 (ipykernel)",
   "language": "python",
   "name": "python3"
  },
  "language_info": {
   "codemirror_mode": {
    "name": "ipython",
    "version": 3
   },
   "file_extension": ".py",
   "mimetype": "text/x-python",
   "name": "python",
   "nbconvert_exporter": "python",
   "pygments_lexer": "ipython3",
   "version": "3.8.10"
  }
 },
 "nbformat": 4,
 "nbformat_minor": 5
}
